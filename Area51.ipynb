{
 "cells": [
  {
   "cell_type": "code",
   "execution_count": 2,
   "metadata": {
    "collapsed": false,
    "deletable": true,
    "editable": true
   },
   "outputs": [],
   "source": [
    "import numpy as np\n",
    "import matplotlib.pyplot as plt\n",
    "import time\n",
    "import tensorflow as tf\n",
    "from scipy.special import erfc\n",
    "import cPickle as pickle"
   ]
  },
  {
   "cell_type": "code",
   "execution_count": null,
   "metadata": {
    "collapsed": false,
    "deletable": true,
    "editable": true
   },
   "outputs": [],
   "source": [
    "# Now we will try to implement a Fourier Transform and Analysis of Nick's Formula\n",
    "# First define the function one needs to transform\n",
    "def L(sigma, mu, Y):\n",
    "    return (sigma/np.sqrt(2*mu) + sigma**2 * Y**2)\n",
    "\n",
    "def g(x, y, x1, y1, sigma, mu, rho, B, Y):\n",
    "    fac1 = np.exp(1j * (y - y1)*Y) \n",
    "    fac2 =8 * np.pi * sigma * rho * np.sqrt(2 * mu + sigma**2 * Y **2)\n",
    "    fac3 = 2 * L(sigma, mu, Y) / (2 * L(sigma, mu, Y) + B)\n",
    "    return fac1 * fac3 / fac2\n",
    "\n",
    "# This finishes the Implementation of Nick's function for\n",
    "# different sides of the Barrier."
   ]
  },
  {
   "cell_type": "code",
   "execution_count": null,
   "metadata": {
    "collapsed": false,
    "deletable": true,
    "editable": true
   },
   "outputs": [],
   "source": [
    "g(-1,0,1,0,1,1,1,1,1)"
   ]
  },
  {
   "cell_type": "code",
   "execution_count": null,
   "metadata": {
    "collapsed": false,
    "deletable": true,
    "editable": true
   },
   "outputs": [],
   "source": [
    "np.pi"
   ]
  },
  {
   "cell_type": "code",
   "execution_count": null,
   "metadata": {
    "collapsed": false,
    "deletable": true,
    "editable": true
   },
   "outputs": [],
   "source": [
    "def a(x):\n",
    "    y = x\n",
    "        /2\n",
    "    return y\n",
    "a(2)"
   ]
  },
  {
   "cell_type": "code",
   "execution_count": null,
   "metadata": {
    "collapsed": false,
    "deletable": true,
    "editable": true
   },
   "outputs": [],
   "source": [
    "print(\"Lololol\")"
   ]
  },
  {
   "cell_type": "code",
   "execution_count": null,
   "metadata": {
    "collapsed": false,
    "deletable": true,
    "editable": true
   },
   "outputs": [],
   "source": [
    "print(\"uuuhyeah\")"
   ]
  },
  {
   "cell_type": "code",
   "execution_count": null,
   "metadata": {
    "collapsed": false,
    "deletable": true,
    "editable": true
   },
   "outputs": [],
   "source": [
    "n=10\n",
    "a=np.ones((n,n))*0.5"
   ]
  },
  {
   "cell_type": "code",
   "execution_count": null,
   "metadata": {
    "collapsed": false,
    "deletable": true,
    "editable": true
   },
   "outputs": [],
   "source": [
    "mean = [np.random.multivariate_normal(n*[0],a)[0] for _ in range(1000)]\n",
    "np.var(mean)"
   ]
  },
  {
   "cell_type": "code",
   "execution_count": null,
   "metadata": {
    "collapsed": false,
    "deletable": true,
    "editable": true
   },
   "outputs": [],
   "source": [
    "time.time()"
   ]
  },
  {
   "cell_type": "code",
   "execution_count": null,
   "metadata": {
    "collapsed": true,
    "deletable": true,
    "editable": true
   },
   "outputs": [],
   "source": [
    "x = np.array([1.2, -3.4, -3.4])"
   ]
  },
  {
   "cell_type": "code",
   "execution_count": null,
   "metadata": {
    "collapsed": false,
    "deletable": true,
    "editable": true
   },
   "outputs": [],
   "source": [
    "np.abs(x)"
   ]
  },
  {
   "cell_type": "code",
   "execution_count": null,
   "metadata": {
    "collapsed": false,
    "deletable": true,
    "editable": true
   },
   "outputs": [],
   "source": [
    "np.eye(5)"
   ]
  },
  {
   "cell_type": "code",
   "execution_count": null,
   "metadata": {
    "collapsed": true,
    "deletable": true,
    "editable": true
   },
   "outputs": [],
   "source": [
    "import multiprocessing as mp\n",
    "import numpy as np"
   ]
  },
  {
   "cell_type": "code",
   "execution_count": null,
   "metadata": {
    "collapsed": false,
    "deletable": true,
    "editable": true
   },
   "outputs": [],
   "source": [
    "mp.cpu_count()"
   ]
  },
  {
   "cell_type": "code",
   "execution_count": null,
   "metadata": {
    "collapsed": false,
    "deletable": true,
    "editable": true
   },
   "outputs": [],
   "source": [
    "a = np.reshape(np.arange(16),(4,4))\n",
    "np.transpose(inds), inds"
   ]
  },
  {
   "cell_type": "code",
   "execution_count": null,
   "metadata": {
    "collapsed": false,
    "deletable": true,
    "editable": true
   },
   "outputs": [],
   "source": [
    "inds=np.triu_indices(4)\n",
    "inds1=np.tril_indices(4)\n",
    "\n",
    "b=np.zeros((4,4))\n",
    "b[inds]=a[inds]/2.0\n",
    "c=np.triu(b)+np.triu(b,-1).T - np.diag(np.diag(b))\n",
    "\n",
    "print(a)\n"
   ]
  },
  {
   "cell_type": "code",
   "execution_count": null,
   "metadata": {
    "collapsed": false,
    "deletable": true,
    "editable": true
   },
   "outputs": [],
   "source": [
    "a=str(1).zfill(2)\n",
    "a"
   ]
  },
  {
   "cell_type": "code",
   "execution_count": null,
   "metadata": {
    "collapsed": false,
    "deletable": true,
    "editable": true
   },
   "outputs": [],
   "source": [
    "a= np.array([1,2,3])\n",
    "np.savetxt(\"./test/delete_this.csv\", a, delimiter =\"$\")"
   ]
  },
  {
   "cell_type": "code",
   "execution_count": null,
   "metadata": {
    "collapsed": true,
    "deletable": true,
    "editable": true
   },
   "outputs": [],
   "source": [
    "import os"
   ]
  },
  {
   "cell_type": "code",
   "execution_count": null,
   "metadata": {
    "collapsed": false,
    "deletable": true,
    "editable": true
   },
   "outputs": [],
   "source": [
    "os.listdir(\"./\")"
   ]
  },
  {
   "cell_type": "code",
   "execution_count": null,
   "metadata": {
    "collapsed": false,
    "deletable": true,
    "editable": true
   },
   "outputs": [],
   "source": [
    "a = np.array([1,2,3,4])\n",
    "b = np.array([0,1,3])\n",
    "a[b]=[5,6,7]\n",
    "a"
   ]
  },
  {
   "cell_type": "code",
   "execution_count": null,
   "metadata": {
    "collapsed": false,
    "deletable": true,
    "editable": true
   },
   "outputs": [],
   "source": [
    "import integrand           # intergand.integrand_c\n"
   ]
  },
  {
   "cell_type": "code",
   "execution_count": null,
   "metadata": {
    "collapsed": false,
    "deletable": true,
    "editable": true
   },
   "outputs": [],
   "source": [
    "ls"
   ]
  },
  {
   "cell_type": "code",
   "execution_count": null,
   "metadata": {
    "collapsed": false,
    "deletable": true,
    "editable": true
   },
   "outputs": [],
   "source": [
    "import intergand\n",
    "import numpy as np"
   ]
  },
  {
   "cell_type": "code",
   "execution_count": null,
   "metadata": {
    "collapsed": false,
    "deletable": true,
    "editable": true
   },
   "outputs": [],
   "source": [
    "a=np.array([[1,2],[3,4]])\n",
    "a_vec=[a,a,a]\n",
    "\n"
   ]
  },
  {
   "cell_type": "code",
   "execution_count": null,
   "metadata": {
    "collapsed": false,
    "deletable": true,
    "editable": true
   },
   "outputs": [],
   "source": [
    "x_inds, y_inds =np.triu_indices(3)\n",
    "for i in x_inds:\n",
    "    print(i)"
   ]
  },
  {
   "cell_type": "code",
   "execution_count": 5,
   "metadata": {
    "collapsed": false,
    "deletable": true,
    "editable": true
   },
   "outputs": [
    {
     "data": {
      "text/plain": [
       "0.00019382062567934244"
      ]
     },
     "execution_count": 5,
     "metadata": {},
     "output_type": "execute_result"
    }
   ],
   "source": [
    "import intergand\n",
    "import matplotlib as plt\n",
    "import numpy as np\n",
    "intergand.integrand_barrier_c(10,2,1,1.1,100,0.00,1)"
   ]
  },
  {
   "cell_type": "code",
   "execution_count": 32,
   "metadata": {
    "collapsed": false,
    "deletable": true,
    "editable": true
   },
   "outputs": [
    {
     "data": {
      "image/png": "[encoded data removed]",
      "text/plain": [
       "<matplotlib.figure.Figure at 0x7f7be0a97490>"
      ]
     },
     "metadata": {},
     "output_type": "display_data"
    }
   ],
   "source": [
    "import matplotlib.pyplot as plt\n",
    "\n",
    "\n",
    "x_vec= np.logspace(-4,1,1000)\n",
    "y_vec= [erfc(x) for x in x_vec]\n",
    "\n",
    "\n",
    "plt.figure()\n",
    "plt.plot(x_vec, y_vec)\n",
    "plt.show()"
   ]
  },
  {
   "cell_type": "code",
   "execution_count": 13,
   "metadata": {
    "collapsed": false
   },
   "outputs": [
    {
     "data": {
      "text/plain": [
       "['result12.p',\n",
       " 'result00.p',\n",
       " 'result31.p',\n",
       " 'nbh_file_genotypes30.csv',\n",
       " 'result14.p',\n",
       " 'result22.p',\n",
       " 'parameters.p',\n",
       " '.ipynb_checkpoints',\n",
       " 'Untitled.ipynb',\n",
       " 'result21.p',\n",
       " 'result30.p',\n",
       " 'result01.p',\n",
       " 'result13.p',\n",
       " 'result24.p',\n",
       " 'result05.p',\n",
       " 'result06.p',\n",
       " 'result16.p',\n",
       " 'result17.p',\n",
       " 'result04.p',\n",
       " 'result03.p',\n",
       " 'result15.p',\n",
       " 'result09.p',\n",
       " 'result18.p',\n",
       " 'result02.p',\n",
       " 'result32.p',\n",
       " 'nbh_file_genotypes01.csv',\n",
       " 'result20.p',\n",
       " 'nbh_file_coords30.csv',\n",
       " 'result25.p',\n",
       " 'result08.p',\n",
       " 'result28.p',\n",
       " 'result11.p',\n",
       " 'result10.p',\n",
       " 'nbh_file_coords01.csv',\n",
       " 'result33.p',\n",
       " 'result19.p',\n",
       " 'result29.p',\n",
       " 'result26.p',\n",
       " 'result23.p',\n",
       " 'result27.p']"
      ]
     },
     "execution_count": 13,
     "metadata": {},
     "output_type": "execute_result"
    }
   ],
   "source": [
    "import os\n",
    "os.listdir(\"./nbh_folder\")"
   ]
  },
  {
   "cell_type": "code",
   "execution_count": 25,
   "metadata": {
    "collapsed": false,
    "deletable": true,
    "editable": true
   },
   "outputs": [
    {
     "data": {
      "text/plain": [
       "(array([ 8.06034038,  0.01534843,  0.06932775]),\n",
       " array([[ 7.56484835,  8.55583241],\n",
       "        [ 0.01309807,  0.01759879],\n",
       "        [ 0.05384273,  0.08481277]]))"
      ]
     },
     "execution_count": 25,
     "metadata": {},
     "output_type": "execute_result"
    }
   ],
   "source": [
    "pickle.load(open(\"./nbh_folder/result10.p\", \"rb\"))"
   ]
  },
  {
   "cell_type": "code",
   "execution_count": 42,
   "metadata": {
    "collapsed": false
   },
   "outputs": [],
   "source": [
    "def load_pickle_data(i):\n",
    "    '''Function To load pickled Data.\n",
    "    Also visualizes it.'''\n",
    "    data_folder = \"./nbh_folder/\"\n",
    "    path = data_folder + \"result\" + str(i).zfill(2) + \".p\"\n",
    "    a,b = pickle.load(open(path,\"rb\"))\n",
    "    return (a,b)"
   ]
  },
  {
   "cell_type": "code",
   "execution_count": 48,
   "metadata": {
    "collapsed": false
   },
   "outputs": [
    {
     "name": "stdout",
     "output_type": "stream",
     "text": [
      "[ 7.84702632  0.01865253  0.04837339]\n",
      "[ 7.56434565  0.02046888  0.06073043]\n",
      "[ 8.06034038  0.01534843  0.06932775]\n",
      "[ 7.35428263  0.0211625   0.05469923]\n",
      "[ 6.97049357  0.0238408   0.05928422]\n",
      "[ 7.03157939  0.0242989   0.06084202]\n",
      "[ 7.48679288  0.01854058  0.05780487]\n",
      "[ 7.33845717  0.02347026  0.05072873]\n",
      "[ 7.5568937   0.01677302  0.06009946]\n",
      "[ 6.52546697  0.02756461  0.0608192 ]\n",
      "[ 6.94085001  0.02395095  0.06459412]\n",
      "[ 7.35156849  0.02087752  0.05519087]\n",
      "[ 7.37687963  0.0197529   0.04554302]\n",
      "[ 7.82383834  0.01718663  0.07100743]\n",
      "[ 6.67410878  0.02718406  0.05027218]\n",
      "[ 7.91456948  0.01731302  0.05526713]\n",
      "[ 7.55227383  0.0203958   0.07142522]\n",
      "[  4.62300907e+01   1.12081938e-02   4.09587889e-02]\n",
      "[  3.99074078e+01   1.58159804e-02   4.47555686e-02]\n",
      "[  4.89703777e+01   9.14885517e-03   4.07242797e-02]\n"
     ]
    }
   ],
   "source": [
    "for i in xrange(8,28):\n",
    "    res, unc = load_pickle_data(i)\n",
    "    print(res)"
   ]
  },
  {
   "cell_type": "code",
   "execution_count": null,
   "metadata": {
    "collapsed": true
   },
   "outputs": [],
   "source": []
  }
 ],
 "metadata": {
  "kernelspec": {
   "display_name": "Python 2",
   "language": "python",
   "name": "python2"
  },
  "language_info": {
   "codemirror_mode": {
    "name": "ipython",
    "version": 2
   },
   "file_extension": ".py",
   "mimetype": "text/x-python",
   "name": "python",
   "nbconvert_exporter": "python",
   "pygments_lexer": "ipython2",
   "version": "2.7.12"
  }
 },
 "nbformat": 4,
 "nbformat_minor": 1
}
