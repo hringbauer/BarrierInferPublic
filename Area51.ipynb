{
 "cells": [
  {
   "cell_type": "code",
   "execution_count": 1,
   "metadata": {
    "collapsed": false,
    "deletable": true,
    "editable": true
   },
   "outputs": [],
   "source": [
    "import numpy as np\n",
    "import matplotlib.pyplot as plt\n",
    "import time\n",
    "import tensorflow as tf\n",
    "import pandas as pd\n",
    "from scipy.special import erfc\n",
    "import scipy as sc\n",
    "from random import shuffle\n",
    "import cPickle as pickle\n",
    "import intergand"
   ]
  },
  {
   "cell_type": "code",
   "execution_count": null,
   "metadata": {
    "collapsed": false,
    "deletable": true,
    "editable": true
   },
   "outputs": [],
   "source": [
    "x_inds, y_inds =np.triu_indices(3)\n",
    "for i in x_inds:\n",
    "    print(i)"
   ]
  },
  {
   "cell_type": "code",
   "execution_count": 5,
   "metadata": {
    "collapsed": false,
    "deletable": true,
    "editable": true
   },
   "outputs": [
    {
     "data": {
      "text/plain": [
       "0.00019382062567934244"
      ]
     },
     "execution_count": 5,
     "metadata": {},
     "output_type": "execute_result"
    }
   ],
   "source": [
    "import intergand\n",
    "import matplotlib as plt\n",
    "import numpy as np\n",
    "intergand.integrand_barrier_c(10,2,1,1.1,100,0.00,1)"
   ]
  },
  {
   "cell_type": "code",
   "execution_count": 32,
   "metadata": {
    "collapsed": false,
    "deletable": true,
    "editable": true
   },
   "outputs": [
    {
     "data": {
      "image/png": "[encoded data removed]",
      "text/plain": [
       "<matplotlib.figure.Figure at 0x7f7be0a97490>"
      ]
     },
     "metadata": {},
     "output_type": "display_data"
    }
   ],
   "source": [
    "import matplotlib.pyplot as plt\n",
    "\n",
    "\n",
    "x_vec= np.logspace(-4,1,1000)\n",
    "y_vec= [erfc(x) for x in x_vec]\n",
    "\n",
    "\n",
    "plt.figure()\n",
    "plt.plot(x_vec, y_vec)\n",
    "plt.show()"
   ]
  },
  {
   "cell_type": "code",
   "execution_count": 13,
   "metadata": {
    "collapsed": false,
    "deletable": true,
    "editable": true
   },
   "outputs": [
    {
     "data": {
      "text/plain": [
       "['result12.p',\n",
       " 'result00.p',\n",
       " 'result31.p',\n",
       " 'nbh_file_genotypes30.csv',\n",
       " 'result14.p',\n",
       " 'result22.p',\n",
       " 'parameters.p',\n",
       " '.ipynb_checkpoints',\n",
       " 'Untitled.ipynb',\n",
       " 'result21.p',\n",
       " 'result30.p',\n",
       " 'result01.p',\n",
       " 'result13.p',\n",
       " 'result24.p',\n",
       " 'result05.p',\n",
       " 'result06.p',\n",
       " 'result16.p',\n",
       " 'result17.p',\n",
       " 'result04.p',\n",
       " 'result03.p',\n",
       " 'result15.p',\n",
       " 'result09.p',\n",
       " 'result18.p',\n",
       " 'result02.p',\n",
       " 'result32.p',\n",
       " 'nbh_file_genotypes01.csv',\n",
       " 'result20.p',\n",
       " 'nbh_file_coords30.csv',\n",
       " 'result25.p',\n",
       " 'result08.p',\n",
       " 'result28.p',\n",
       " 'result11.p',\n",
       " 'result10.p',\n",
       " 'nbh_file_coords01.csv',\n",
       " 'result33.p',\n",
       " 'result19.p',\n",
       " 'result29.p',\n",
       " 'result26.p',\n",
       " 'result23.p',\n",
       " 'result27.p']"
      ]
     },
     "execution_count": 13,
     "metadata": {},
     "output_type": "execute_result"
    }
   ],
   "source": [
    "import os\n",
    "os.listdir(\"./nbh_folder\")"
   ]
  },
  {
   "cell_type": "code",
   "execution_count": 25,
   "metadata": {
    "collapsed": false,
    "deletable": true,
    "editable": true
   },
   "outputs": [
    {
     "data": {
      "text/plain": [
       "(array([ 8.06034038,  0.01534843,  0.06932775]),\n",
       " array([[ 7.56484835,  8.55583241],\n",
       "        [ 0.01309807,  0.01759879],\n",
       "        [ 0.05384273,  0.08481277]]))"
      ]
     },
     "execution_count": 25,
     "metadata": {},
     "output_type": "execute_result"
    }
   ],
   "source": [
    "pickle.load(open(\"./nbh_folder/result10.p\", \"rb\"))"
   ]
  },
  {
   "cell_type": "code",
   "execution_count": 42,
   "metadata": {
    "collapsed": false,
    "deletable": true,
    "editable": true
   },
   "outputs": [],
   "source": [
    "def load_pickle_data(i):\n",
    "    '''Function To load pickled Data.\n",
    "    Also visualizes it.'''\n",
    "    data_folder = \"./nbh_folder/\"\n",
    "    path = data_folder + \"result\" + str(i).zfill(2) + \".p\"\n",
    "    a,b = pickle.load(open(path,\"rb\"))\n",
    "    return (a,b)"
   ]
  },
  {
   "cell_type": "code",
   "execution_count": 11,
   "metadata": {
    "collapsed": false,
    "deletable": true,
    "editable": true
   },
   "outputs": [
    {
     "data": {
      "text/plain": [
       "array([0, 1, 0, 1])"
      ]
     },
     "execution_count": 11,
     "metadata": {},
     "output_type": "execute_result"
    }
   ],
   "source": [
    "a=np.array([[0,0,0,0],[1,1,1,1],[0,1,0,1]])\n",
    "b=np.abs(a[:,None]-a[None,:])\n",
    "b\n",
    "b[0,2]"
   ]
  },
  {
   "cell_type": "code",
   "execution_count": 15,
   "metadata": {
    "collapsed": false,
    "deletable": true,
    "editable": true
   },
   "outputs": [
    {
     "data": {
      "text/plain": [
       "array([[0, 0, 0, 0],\n",
       "       [1, 1, 1, 1],\n",
       "       [0, 1, 0, 1],\n",
       "       [0, 0, 0, 0],\n",
       "       [1, 0, 1, 0],\n",
       "       [0, 0, 0, 0]])"
      ]
     },
     "execution_count": 15,
     "metadata": {},
     "output_type": "execute_result"
    }
   ],
   "source": [
    "inds=np.triu_indices(3)\n",
    "c=b[inds]\n",
    "c"
   ]
  },
  {
   "cell_type": "code",
   "execution_count": 19,
   "metadata": {
    "collapsed": false,
    "deletable": true,
    "editable": true
   },
   "outputs": [
    {
     "data": {
      "text/plain": [
       "array([[ 0. ,  0. ,  0. ,  0. ],\n",
       "       [ 0.8,  0.8,  0.8,  0.8],\n",
       "       [ 0. ,  0.7,  0. ,  0.7],\n",
       "       [ 0. ,  0. ,  0. ,  0. ],\n",
       "       [ 0.5,  0. ,  0.5,  0. ],\n",
       "       [ 0. ,  0. ,  0. ,  0. ]])"
      ]
     },
     "execution_count": 19,
     "metadata": {},
     "output_type": "execute_result"
    }
   ],
   "source": [
    "kernel_vec=np.array([0.1,0.2,0.3,0.4,0.5,0.6])\n",
    "c * (1 - kernel_vec[:,None])"
   ]
  },
  {
   "cell_type": "code",
   "execution_count": 10,
   "metadata": {
    "collapsed": false,
    "deletable": true,
    "editable": true
   },
   "outputs": [
    {
     "name": "stdout",
     "output_type": "stream",
     "text": [
      "[[ 0  1  2  3]\n",
      " [ 4  5  6  7]\n",
      " [ 8  9 10 11]\n",
      " [12 13 14 15]]\n"
     ]
    },
    {
     "data": {
      "text/plain": [
       "(array([0, 0, 0, 1, 1, 2]), array([1, 2, 3, 2, 3, 3]))"
      ]
     },
     "execution_count": 10,
     "metadata": {},
     "output_type": "execute_result"
    }
   ],
   "source": [
    "mat=np.reshape(np.arange(16),(4,4))\n",
    "print(mat)\n",
    "inds=np.triu_indices(4,1)\n",
    "inds"
   ]
  },
  {
   "cell_type": "code",
   "execution_count": 11,
   "metadata": {
    "collapsed": false,
    "deletable": true,
    "editable": true
   },
   "outputs": [
    {
     "data": {
      "text/plain": [
       "array([ 1,  2,  3,  6,  7, 11])"
      ]
     },
     "execution_count": 11,
     "metadata": {},
     "output_type": "execute_result"
    }
   ],
   "source": [
    "mat[inds]"
   ]
  },
  {
   "cell_type": "code",
   "execution_count": 13,
   "metadata": {
    "collapsed": false,
    "deletable": true,
    "editable": true
   },
   "outputs": [
    {
     "name": "stdout",
     "output_type": "stream",
     "text": [
      "[   3.16227766    5.27499706    8.79922544   14.67799268   24.48436747\n",
      "   40.84238653   68.12920691  113.64636664  189.57356524  316.22776602]\n",
      "[ 0.00031623  0.0005275   0.00087992  0.0014678   0.00244844  0.00408424\n",
      "  0.00681292  0.01136464  0.01895736  0.03162278]\n"
     ]
    }
   ],
   "source": [
    "nbh_list = np.logspace(0.5, 2.5, 10)  # Neighborhood List\n",
    "L_list = np.logspace(-3.5, -1.5, 10)  # Lengthscale List\n",
    "print(nbh_list)\n",
    "print(L_list)"
   ]
  },
  {
   "cell_type": "code",
   "execution_count": 2,
   "metadata": {
    "collapsed": false,
    "deletable": true,
    "editable": true
   },
   "outputs": [
    {
     "data": {
      "text/plain": [
       "(array([[ 0.,  1.,  0., ...,  1.,  0.,  0.],\n",
       "        [ 0.,  1.,  0., ...,  0.,  1.,  0.],\n",
       "        [ 0.,  1.,  0., ...,  1.,  0.,  0.],\n",
       "        ..., \n",
       "        [ 0.,  0.,  0., ...,  1.,  1.,  0.],\n",
       "        [ 0.,  1.,  0., ...,  0.,  1.,  0.],\n",
       "        [ 0.,  1.,  1., ...,  1.,  1.,  1.]]), array([[ 481.,  451.],\n",
       "        [ 481.,  453.],\n",
       "        [ 481.,  455.],\n",
       "        ..., \n",
       "        [ 519.,  545.],\n",
       "        [ 519.,  547.],\n",
       "        [ 519.,  549.]]))"
      ]
     },
     "execution_count": 2,
     "metadata": {},
     "output_type": "execute_result"
    }
   ],
   "source": [
    "genotype_matrix = np.loadtxt('./nbh_folder/nbh_file_genotypes30.csv', delimiter='$').astype('float64')\n",
    "position_list = np.loadtxt('./nbh_folder/nbh_file_coords30.csv', delimiter='$').astype('float64')\n",
    "genotype_matrix, position_list"
   ]
  },
  {
   "cell_type": "code",
   "execution_count": 6,
   "metadata": {
    "collapsed": false,
    "deletable": true,
    "editable": true
   },
   "outputs": [
    {
     "data": {
      "text/plain": [
       "(200, 200)"
      ]
     },
     "execution_count": 6,
     "metadata": {},
     "output_type": "execute_result"
    }
   ],
   "source": [
    "nr_inds=200  # How many Individuals to draw\n",
    "\n",
    "inds = range(len(genotype_matrix[:, 0]))  # Some Code to draw random samples\n",
    "shuffle(inds)\n",
    "inds = inds[:nr_inds]\n",
    "position_list1 = position_list[inds, :]\n",
    "genotype_matrix1 = genotype_matrix[inds, :]\n",
    "len(position_list1), len(genotype_matrix1)"
   ]
  },
  {
   "cell_type": "code",
   "execution_count": 4,
   "metadata": {
    "collapsed": false,
    "deletable": true,
    "editable": true
   },
   "outputs": [
    {
     "data": {
      "image/png": "[encoded data removed]",
      "text/plain": [
       "<matplotlib.figure.Figure at 0x7fdb29e1c2d0>"
      ]
     },
     "metadata": {},
     "output_type": "display_data"
    }
   ],
   "source": [
    "position_list1 = np.array([(500 + i, 500 + j) for i in range(-9, 11, 1) for j in range(-9, 11, 1)]) # Updated position list.plt.figure()\n",
    "plt.scatter(position_list1[:,0],position_list1[:,1])\n",
    "plt.show()"
   ]
  },
  {
   "cell_type": "code",
   "execution_count": 8,
   "metadata": {
    "collapsed": true,
    "deletable": true,
    "editable": true
   },
   "outputs": [],
   "source": [
    "np.savetxt(\"./nbh_folder/nbh_file_coords200.csv\", position_list1, delimiter=\"$\")  # Save the coordinates\n",
    "np.savetxt(\"./nbh_folder/nbh_file_genotypes200.csv\", genotype_matrix1, delimiter=\"$\")  # Save the data "
   ]
  },
  {
   "cell_type": "markdown",
   "metadata": {
    "deletable": true,
    "editable": true
   },
   "source": [
    "### Goal: Write a Function that groups individuals:"
   ]
  },
  {
   "cell_type": "code",
   "execution_count": 3,
   "metadata": {
    "collapsed": false,
    "deletable": true,
    "editable": true
   },
   "outputs": [
    {
     "data": {
      "text/plain": [
       "(array([[ 0.,  1.,  0., ...,  1.,  0.,  0.],\n",
       "        [ 0.,  1.,  0., ...,  0.,  1.,  0.],\n",
       "        [ 0.,  1.,  0., ...,  1.,  0.,  0.],\n",
       "        ..., \n",
       "        [ 0.,  0.,  0., ...,  1.,  1.,  0.],\n",
       "        [ 0.,  1.,  0., ...,  0.,  1.,  0.],\n",
       "        [ 0.,  1.,  1., ...,  1.,  1.,  1.]]), array([[ 481.,  451.],\n",
       "        [ 481.,  453.],\n",
       "        [ 481.,  455.],\n",
       "        ..., \n",
       "        [ 519.,  545.],\n",
       "        [ 519.,  547.],\n",
       "        [ 519.,  549.]]))"
      ]
     },
     "execution_count": 3,
     "metadata": {},
     "output_type": "execute_result"
    }
   ],
   "source": [
    "# First load the data:\n",
    "genotype_matrix = np.loadtxt('./nbh_folder/nbh_file_genotypes30.csv', delimiter='$').astype('float64')\n",
    "position_list = np.loadtxt('./nbh_folder/nbh_file_coords30.csv', delimiter='$').astype('float64')\n",
    "genotype_matrix, position_list"
   ]
  },
  {
   "cell_type": "code",
   "execution_count": 41,
   "metadata": {
    "collapsed": false,
    "deletable": true,
    "editable": true
   },
   "outputs": [],
   "source": [
    "def group_inds(position_list, genotypes, demes_x=10, demes_y=10):\n",
    "    '''Function that groups indviduals'''\n",
    "    nr_inds, nr_markers = np.shape(genotypes)\n",
    "    \n",
    "    x_coords, y_coords = position_list[:,0], position_list[:,1]\n",
    "    \n",
    "    x_bins=np.linspace(min(x_coords), max(x_coords)+0.001,num=demes_x+1)\n",
    "    y_bins=np.linspace(min(y_coords),max(y_coords)+0.001, num=demes_y+1)\n",
    "    \n",
    "    x_inds=np.digitize(x_coords, x_bins)\n",
    "    y_inds=np.digitize(y_coords, y_bins)\n",
    "    \n",
    "    nr_demes= demes_x * demes_y\n",
    "    \n",
    "    position_list_new=np.zeros((nr_demes,2)) -1.0\n",
    "    genotypes_new=np.zeros((nr_demes,nr_markers))-1.0\n",
    "    \n",
    "    # Iterate over every deme\n",
    "    for i in xrange(1, demes_x+1):\n",
    "        for j in range(1, demes_y+1):\n",
    "            inds = np.where((x_inds==i) * (y_inds==j))[0] # Ectract all individuals where match\n",
    "            \n",
    "            row = (i-1)*demes_y + (j-1) # Which row to set the data         \n",
    "            position_list_new[row,:]=[(x_bins[i-1]+x_bins[i])/2.0, (y_bins[j-1] + y_bins[j])/2.0]\n",
    "            \n",
    "            matching_genotypes = genotypes[inds,:]\n",
    "            genotypes_new[row,:]=np.mean(matching_genotypes, axis=0) # Sets the new genotypes\n",
    "    \n",
    "    return position_list_new, genotypes_new"
   ]
  },
  {
   "cell_type": "code",
   "execution_count": 51,
   "metadata": {
    "collapsed": false,
    "deletable": true,
    "editable": true
   },
   "outputs": [],
   "source": [
    "pl, gm = group_inds(position_list, genotype_matrix, 5, 5)"
   ]
  },
  {
   "cell_type": "code",
   "execution_count": 52,
   "metadata": {
    "collapsed": false,
    "deletable": true,
    "editable": true
   },
   "outputs": [
    {
     "data": {
      "image/png": "[encoded data removed]",
      "text/plain": [
       "<matplotlib.figure.Figure at 0x7f40c4047790>"
      ]
     },
     "metadata": {},
     "output_type": "display_data"
    }
   ],
   "source": [
    "#Check whether grouping successful:\n",
    "plt.figure()\n",
    "plt.scatter(pl[:,0],pl[:,1],c = gm[:,5],s=200)\n",
    "plt.colorbar()\n",
    "plt.show()"
   ]
  },
  {
   "cell_type": "code",
   "execution_count": 68,
   "metadata": {
    "collapsed": false,
    "deletable": true,
    "editable": true
   },
   "outputs": [
    {
     "data": {
      "text/plain": [
       "array([[0, 0, 1],\n",
       "       [1, 1, 1]])"
      ]
     },
     "execution_count": 68,
     "metadata": {},
     "output_type": "execute_result"
    }
   ],
   "source": [
    "genotypes=np.array([[0,1,2],[2,2,1]])\n",
    "mean_freqs=genotypes/2.0\n",
    "p=np.random.binomial(1,mean_freqs)\n",
    "p"
   ]
  },
  {
   "cell_type": "code",
   "execution_count": 76,
   "metadata": {
    "collapsed": false,
    "deletable": true,
    "editable": true
   },
   "outputs": [
    {
     "name": "stderr",
     "output_type": "stream",
     "text": [
      "/usr/local/lib/python2.7/dist-packages/ipykernel/__main__.py:3: FutureWarning: in the future, boolean array-likes will be handled as a boolean array index\n",
      "  app.launch_new_instance()\n"
     ]
    },
    {
     "data": {
      "text/plain": [
       "[0.5, 0.5, 0.5]"
      ]
     },
     "execution_count": 76,
     "metadata": {},
     "output_type": "execute_result"
    }
   ],
   "source": [
    "genotypes=np.array([[1, -1, -1],[0, 2, 2]])\n",
    "nr_genotypes = np.shape(genotypes)[1]\n",
    "p = [np.mean(genotypes[:,[genotypes[:,i]>-1]]) for i in xrange(nr_genotypes)]\n",
    "p"
   ]
  },
  {
   "cell_type": "code",
   "execution_count": 11,
   "metadata": {
    "collapsed": true,
    "deletable": true,
    "editable": true
   },
   "outputs": [],
   "source": [
    "def test_func(x):\n",
    "    '''Quick and dirty test function'''\n",
    "    return x**2"
   ]
  },
  {
   "cell_type": "code",
   "execution_count": 27,
   "metadata": {
    "collapsed": false,
    "deletable": true,
    "editable": true
   },
   "outputs": [
    {
     "data": {
      "text/plain": [
       "array([0, 1, 2, 3, 4, 5, 6, 7, 8, 9])"
      ]
     },
     "execution_count": 27,
     "metadata": {},
     "output_type": "execute_result"
    }
   ],
   "source": [
    "x=range(10000)\n",
    "x=np.array(a*100)\n",
    "x[:10]"
   ]
  },
  {
   "cell_type": "code",
   "execution_count": 28,
   "metadata": {
    "collapsed": false,
    "deletable": true,
    "editable": true
   },
   "outputs": [
    {
     "name": "stdout",
     "output_type": "stream",
     "text": [
      "1 loop, best of 3: 27.5 s per loop\n"
     ]
    }
   ],
   "source": [
    "%timeit map(test_func,x)"
   ]
  },
  {
   "cell_type": "code",
   "execution_count": 29,
   "metadata": {
    "collapsed": true,
    "deletable": true,
    "editable": true
   },
   "outputs": [],
   "source": [
    "unique, indices = np.unique(x, return_inverse=True)"
   ]
  },
  {
   "cell_type": "code",
   "execution_count": 33,
   "metadata": {
    "collapsed": false,
    "deletable": true,
    "editable": true
   },
   "outputs": [],
   "source": [
    "res = np.array(map(test_func, unique))\n",
    "final_result = res[indices]"
   ]
  },
  {
   "cell_type": "code",
   "execution_count": 34,
   "metadata": {
    "collapsed": false,
    "deletable": true,
    "editable": true
   },
   "outputs": [],
   "source": [
    "other_res = np.array(map(test_func,x))"
   ]
  },
  {
   "cell_type": "code",
   "execution_count": 35,
   "metadata": {
    "collapsed": false,
    "deletable": true,
    "editable": true
   },
   "outputs": [
    {
     "name": "stdout",
     "output_type": "stream",
     "text": [
      "0.0\n"
     ]
    }
   ],
   "source": [
    "mean=np.mean(other_res - final_result)\n",
    "print(mean)"
   ]
  },
  {
   "cell_type": "code",
   "execution_count": 36,
   "metadata": {
    "collapsed": false,
    "deletable": true,
    "editable": true
   },
   "outputs": [
    {
     "data": {
      "text/plain": [
       "array([ 0,  1,  4,  9, 16, 25, 36, 49, 64, 81])"
      ]
     },
     "execution_count": 36,
     "metadata": {},
     "output_type": "execute_result"
    }
   ],
   "source": [
    "final_result[:10]"
   ]
  },
  {
   "cell_type": "code",
   "execution_count": 43,
   "metadata": {
    "collapsed": true,
    "deletable": true,
    "editable": true
   },
   "outputs": [],
   "source": [
    "c= [(1,2),(1,2),(4,5)]\n",
    "unique, indices = np.unique(c, return_inverse=True)"
   ]
  },
  {
   "cell_type": "code",
   "execution_count": 45,
   "metadata": {
    "collapsed": false,
    "deletable": true,
    "editable": true
   },
   "outputs": [
    {
     "data": {
      "text/plain": [
       "(array([1, 2, 4, 5]), array([0, 1, 0, 1, 2, 3]))"
      ]
     },
     "execution_count": 45,
     "metadata": {},
     "output_type": "execute_result"
    }
   ],
   "source": [
    "unique, indices"
   ]
  },
  {
   "cell_type": "code",
   "execution_count": 39,
   "metadata": {
    "collapsed": false,
    "deletable": true,
    "editable": true
   },
   "outputs": [],
   "source": [
    "def group_inds(position_list, genotypes, demes_x=10, demes_y=10):\n",
    "    '''Function that groups indviduals into demes and gives back mean deme position\n",
    "    and mean deme genotype'''\n",
    "    nr_inds, nr_markers = np.shape(genotypes)\n",
    "\n",
    "    x_coords, y_coords = position_list[:, 0], position_list[:, 1]\n",
    "\n",
    "    x_bins = np.linspace(min(x_coords)-0.001, max(x_coords) + 0.001, num=demes_x + 1)\n",
    "    y_bins = np.linspace(min(y_coords)-0.001, max(y_coords) + 0.001, num=demes_y + 1)\n",
    "\n",
    "    x_inds = np.digitize(x_coords, x_bins)\n",
    "    y_inds = np.digitize(y_coords, y_bins)\n",
    "\n",
    "    nr_demes = demes_x * demes_y\n",
    "\n",
    "    position_list_new = np.zeros((nr_demes, 2)) - 1.0\n",
    "    genotypes_new = np.zeros((nr_demes, nr_markers)) - 1.0\n",
    "\n",
    "    # Iterate over every deme\n",
    "    for i in xrange(1, demes_x + 1):\n",
    "        for j in range(1, demes_y + 1):\n",
    "            inds = np.where((x_inds == i) * (y_inds == j))[0]  # Ectract all individuals where match\n",
    "\n",
    "            row = (i - 1) * demes_y + (j - 1)  # Which row to set the data         \n",
    "            position_list_new[row, :] = [(x_bins[i - 1] + x_bins[i]) / 2.0, (y_bins[j - 1] + y_bins[j]) / 2.0]\n",
    "\n",
    "            matching_genotypes = genotypes[inds, :]\n",
    "            genotypes_new[row, :] = np.mean(matching_genotypes, axis=0)  # Sets the new genotypes\n",
    "\n",
    "    return position_list_new, genotypes_new\n",
    "\n",
    "def plot_positions(position_list, genotypes,row=1):\n",
    "    '''Plots the Genotpyes'''\n",
    "    plt.figure()\n",
    "    plt.title(\"Sample Distribution\", fontsize=30)\n",
    "    color = genotypes[:, row].astype(\"float\")\n",
    "    plt.scatter(position_list[:, 0], position_list[:, 1], label=\"Samples\", c=color)\n",
    "    # pylab.vlines(0, min(X_data[:,1]), max(X_data[:,1]), linewidth=2, color=\"red\", label=\"Barrier\")\n",
    "    plt.xlabel(\"X-Coordinate\", fontsize=30)\n",
    "    plt.ylabel(\"Y-Coordinate\", fontsize=30)\n",
    "    plt.show()\n",
    "    \n",
    "    "
   ]
  },
  {
   "cell_type": "code",
   "execution_count": 4,
   "metadata": {
    "collapsed": false,
    "deletable": true,
    "editable": true
   },
   "outputs": [
    {
     "data": {
      "text/plain": [
       "array([[ 0,  1,  2],\n",
       "       [ 3,  4,  5],\n",
       "       [ 6,  7,  8],\n",
       "       [ 9, 10, 11]])"
      ]
     },
     "execution_count": 4,
     "metadata": {},
     "output_type": "execute_result"
    }
   ],
   "source": [
    "a=np.arange(12).reshape((4,3))\n",
    "a"
   ]
  },
  {
   "cell_type": "code",
   "execution_count": 11,
   "metadata": {
    "collapsed": false,
    "deletable": true,
    "editable": true
   },
   "outputs": [
    {
     "data": {
      "text/plain": [
       "array([False, False,  True,  True, False], dtype=bool)"
      ]
     },
     "execution_count": 11,
     "metadata": {},
     "output_type": "execute_result"
    }
   ],
   "source": [
    "np.random.random(size=5)<0.5"
   ]
  },
  {
   "cell_type": "code",
   "execution_count": 21,
   "metadata": {
    "collapsed": false,
    "deletable": true,
    "editable": true
   },
   "outputs": [
    {
     "data": {
      "text/plain": [
       "array([[False,  True,  True],\n",
       "       [ True, False,  True]], dtype=bool)"
      ]
     },
     "execution_count": 21,
     "metadata": {},
     "output_type": "execute_result"
    }
   ],
   "source": [
    "gtps = np.array([[0,1,1],[1,0,1]]).astype(\"bool\")\n",
    "gtps"
   ]
  },
  {
   "cell_type": "code",
   "execution_count": 40,
   "metadata": {
    "collapsed": false,
    "deletable": true,
    "editable": true
   },
   "outputs": [],
   "source": [
    "def flip_gtps(genotypes): \n",
    "    '''Randomly flip Genotypes\n",
    "    There for the case when SNPs are somehow ascertained'''\n",
    "    nr_genotypes = np.shape(genotypes)[1]\n",
    "\n",
    "    flip = np.random.random(size=nr_genotypes) < 0.5\n",
    "    print(flip)\n",
    "    genotypes_new = (1- flip[None,:]) * genotypes + flip[None,:] * (1 - genotypes)\n",
    "\n",
    "    return genotypes_new"
   ]
  },
  {
   "cell_type": "code",
   "execution_count": 41,
   "metadata": {
    "collapsed": false,
    "deletable": true,
    "editable": true
   },
   "outputs": [
    {
     "name": "stdout",
     "output_type": "stream",
     "text": [
      "[ True  True False]\n"
     ]
    },
    {
     "data": {
      "text/plain": [
       "array([[1, 0, 1],\n",
       "       [0, 1, 1]])"
      ]
     },
     "execution_count": 41,
     "metadata": {},
     "output_type": "execute_result"
    }
   ],
   "source": [
    "flip_gtps(gtps)"
   ]
  },
  {
   "cell_type": "code",
   "execution_count": 42,
   "metadata": {
    "collapsed": false,
    "deletable": true,
    "editable": true
   },
   "outputs": [
    {
     "name": "stdout",
     "output_type": "stream",
     "text": [
      "100\n"
     ]
    }
   ],
   "source": [
    "a=range(50, 350,3)\n",
    "print(len(a))"
   ]
  },
  {
   "cell_type": "code",
   "execution_count": 13,
   "metadata": {
    "collapsed": false,
    "deletable": true,
    "editable": true
   },
   "outputs": [
    {
     "data": {
      "text/plain": [
       "array([ 0. ,  0.1,  0.3,  0.2])"
      ]
     },
     "execution_count": 13,
     "metadata": {},
     "output_type": "execute_result"
    }
   ],
   "source": [
    "p=np.array([0, 0.1, 0.3, 0.8])\n",
    "p_min = np.fmin(p,1-p)\n",
    "p_min"
   ]
  },
  {
   "cell_type": "code",
   "execution_count": 31,
   "metadata": {
    "collapsed": false,
    "deletable": true,
    "editable": true
   },
   "outputs": [
    {
     "data": {
      "text/html": [
       "<div>\n",
       "<table border=\"1\" class=\"dataframe\">\n",
       "  <thead>\n",
       "    <tr style=\"text-align: right;\">\n",
       "      <th></th>\n",
       "      <th>a</th>\n",
       "      <th>b</th>\n",
       "    </tr>\n",
       "  </thead>\n",
       "  <tbody>\n",
       "    <tr>\n",
       "      <th>0</th>\n",
       "      <td>0</td>\n",
       "      <td>2</td>\n",
       "    </tr>\n",
       "    <tr>\n",
       "      <th>1</th>\n",
       "      <td>1</td>\n",
       "      <td>3</td>\n",
       "    </tr>\n",
       "    <tr>\n",
       "      <th>2</th>\n",
       "      <td>2</td>\n",
       "      <td>4</td>\n",
       "    </tr>\n",
       "  </tbody>\n",
       "</table>\n",
       "</div>"
      ],
      "text/plain": [
       "   a  b\n",
       "0  0  2\n",
       "1  1  3\n",
       "2  2  4"
      ]
     },
     "execution_count": 31,
     "metadata": {},
     "output_type": "execute_result"
    }
   ],
   "source": [
    "a=[0,1,2]\n",
    "b=[2,3,4]\n",
    "df = pd.DataFrame({\"a\":a, \"b\": b})\n",
    "df"
   ]
  },
  {
   "cell_type": "code",
   "execution_count": 45,
   "metadata": {
    "collapsed": false,
    "deletable": true,
    "editable": true
   },
   "outputs": [
    {
     "data": {
      "text/html": [
       "<div>\n",
       "<table border=\"1\" class=\"dataframe\">\n",
       "  <thead>\n",
       "    <tr style=\"text-align: right;\">\n",
       "      <th></th>\n",
       "      <th>a</th>\n",
       "      <th>b</th>\n",
       "    </tr>\n",
       "  </thead>\n",
       "  <tbody>\n",
       "    <tr>\n",
       "      <th>1</th>\n",
       "      <td>1</td>\n",
       "      <td>3</td>\n",
       "    </tr>\n",
       "    <tr>\n",
       "      <th>2</th>\n",
       "      <td>2</td>\n",
       "      <td>4</td>\n",
       "    </tr>\n",
       "  </tbody>\n",
       "</table>\n",
       "</div>"
      ],
      "text/plain": [
       "   a  b\n",
       "1  1  3\n",
       "2  2  4"
      ]
     },
     "execution_count": 45,
     "metadata": {},
     "output_type": "execute_result"
    }
   ],
   "source": [
    "inds_okay = (df[\"a\"] > 0.5) & (df[\"b\"] >= 3)\n",
    "df[inds_okay]"
   ]
  },
  {
   "cell_type": "code",
   "execution_count": 13,
   "metadata": {
    "collapsed": false,
    "deletable": true,
    "editable": true
   },
   "outputs": [
    {
     "data": {
      "text/plain": [
       "array([1, 2, 3])"
      ]
     },
     "execution_count": 13,
     "metadata": {},
     "output_type": "execute_result"
    }
   ],
   "source": [
    "a=np.array([1,2,3,4,5])\n",
    "inds = np.where((2<=a) & (a<=4))[0]\n",
    "inds"
   ]
  },
  {
   "cell_type": "code",
   "execution_count": 4,
   "metadata": {
    "collapsed": false,
    "deletable": true,
    "editable": true
   },
   "outputs": [
    {
     "data": {
      "text/plain": [
       "array([[1, 2, 3],\n",
       "       [1, 2, 3],\n",
       "       [1, 2, 3]])"
      ]
     },
     "execution_count": 4,
     "metadata": {},
     "output_type": "execute_result"
    }
   ],
   "source": [
    "a=np.array([[1,2,3],[1,2,3],[1,2,3]])\n",
    "a"
   ]
  },
  {
   "cell_type": "code",
   "execution_count": 5,
   "metadata": {
    "collapsed": false,
    "deletable": true,
    "editable": true
   },
   "outputs": [
    {
     "data": {
      "text/plain": [
       "array([ 1.,  2.,  3.])"
      ]
     },
     "execution_count": 5,
     "metadata": {},
     "output_type": "execute_result"
    }
   ],
   "source": [
    "np.mean(a, axis=0)"
   ]
  },
  {
   "cell_type": "code",
   "execution_count": 19,
   "metadata": {
    "collapsed": false,
    "deletable": true,
    "editable": true
   },
   "outputs": [
    {
     "data": {
      "image/png": "[encoded data removed]",
      "text/plain": [
       "<matplotlib.figure.Figure at 0x7f8e47cb4610>"
      ]
     },
     "metadata": {},
     "output_type": "display_data"
    }
   ],
   "source": [
    "a=np.array([2,3,4])\n",
    "b=([1,2,3]*3)\n",
    "b=np.reshape(b,(3,3))\n",
    "b\n",
    "plt.figure()\n",
    "plt.plot(a,b, 'ro')\n",
    "plt.show()"
   ]
  },
  {
   "cell_type": "code",
   "execution_count": 2,
   "metadata": {
    "collapsed": false,
    "deletable": true,
    "editable": true
   },
   "outputs": [
    {
     "ename": "AssertionError",
     "evalue": "",
     "output_type": "error",
     "traceback": [
      "\u001b[0;31m---------------------------------------------------------------------------\u001b[0m",
      "\u001b[0;31mAssertionError\u001b[0m                            Traceback (most recent call last)",
      "\u001b[0;32m<ipython-input-2-c23253c697ea>\u001b[0m in \u001b[0;36m<module>\u001b[0;34m()\u001b[0m\n\u001b[1;32m      1\u001b[0m \u001b[0ma\u001b[0m\u001b[0;34m=\u001b[0m\u001b[0;36m1\u001b[0m\u001b[0;34m\u001b[0m\u001b[0m\n\u001b[0;32m----> 2\u001b[0;31m \u001b[0;32massert\u001b[0m\u001b[0;34m(\u001b[0m\u001b[0;36m1\u001b[0m\u001b[0;34m<\u001b[0m\u001b[0ma\u001b[0m\u001b[0;34m<\u001b[0m\u001b[0;36m2\u001b[0m\u001b[0;34m)\u001b[0m\u001b[0;34m\u001b[0m\u001b[0m\n\u001b[0m",
      "\u001b[0;31mAssertionError\u001b[0m: "
     ]
    }
   ],
   "source": [
    "a=1\n",
    "assert(1<a<2)"
   ]
  },
  {
   "cell_type": "code",
   "execution_count": 6,
   "metadata": {
    "collapsed": false,
    "deletable": true,
    "editable": true
   },
   "outputs": [
    {
     "data": {
      "text/plain": [
       "array([1, 2, 3, 4, 5, 8])"
      ]
     },
     "execution_count": 6,
     "metadata": {},
     "output_type": "execute_result"
    }
   ],
   "source": [
    "a=np.unique([1,8,2,3,4,5,5,5])\n",
    "a"
   ]
  },
  {
   "cell_type": "code",
   "execution_count": 6,
   "metadata": {
    "collapsed": false,
    "deletable": true,
    "editable": true
   },
   "outputs": [
    {
     "data": {
      "text/plain": [
       "array([ 1,  3,  5,  7,  9, 11, 13, 15, 17, 19, 21, 23, 25, 27])"
      ]
     },
     "execution_count": 6,
     "metadata": {},
     "output_type": "execute_result"
    }
   ],
   "source": [
    "a = np.arange(29)\n",
    "a[1::2]"
   ]
  },
  {
   "cell_type": "code",
   "execution_count": 13,
   "metadata": {
    "collapsed": false,
    "deletable": true,
    "editable": true
   },
   "outputs": [
    {
     "data": {
      "text/plain": [
       "-89.427061302316517"
      ]
     },
     "execution_count": 13,
     "metadata": {},
     "output_type": "execute_result"
    }
   ],
   "source": [
    "a=np.degrees(np.arctan(-100))\n",
    "a"
   ]
  },
  {
   "cell_type": "code",
   "execution_count": 32,
   "metadata": {
    "collapsed": false,
    "deletable": true,
    "editable": true
   },
   "outputs": [],
   "source": [
    "a=[[-2,-1,4.1, 1.1],[1,2,3.1, 1.1]]\n",
    "b=[1,2,3]"
   ]
  },
  {
   "cell_type": "code",
   "execution_count": 7,
   "metadata": {
    "collapsed": false,
    "deletable": true,
    "editable": true
   },
   "outputs": [
    {
     "data": {
      "text/plain": [
       "(array([2, 3]),)"
      ]
     },
     "execution_count": 7,
     "metadata": {},
     "output_type": "execute_result"
    }
   ],
   "source": [
    "a=np.array([1,1,1,1,0])\n",
    "b=np.array([0,0,1,1,1])\n",
    "\n",
    "inds = np.where((a==1) & (b==1))\n",
    "inds"
   ]
  },
  {
   "cell_type": "code",
   "execution_count": 10,
   "metadata": {
    "collapsed": false,
    "deletable": true,
    "editable": true
   },
   "outputs": [
    {
     "name": "stdout",
     "output_type": "stream",
     "text": [
      "Test\n",
      "trolol\n"
     ]
    }
   ],
   "source": [
    "print(\"Test\")\n",
    "print(\"trolol\")"
   ]
  },
  {
   "cell_type": "code",
   "execution_count": 13,
   "metadata": {
    "collapsed": false,
    "deletable": true,
    "editable": true
   },
   "outputs": [
    {
     "data": {
      "text/plain": [
       "False"
      ]
     },
     "execution_count": 13,
     "metadata": {},
     "output_type": "execute_result"
    }
   ],
   "source": [
    "0>np.inf"
   ]
  },
  {
   "cell_type": "code",
   "execution_count": 43,
   "metadata": {
    "collapsed": false,
    "deletable": true,
    "editable": true
   },
   "outputs": [
    {
     "data": {
      "text/plain": [
       "array([[ 0. ,  0. ],\n",
       "       [ 0.5,  1. ],\n",
       "       [ 1. ,  1. ]])"
      ]
     },
     "execution_count": 43,
     "metadata": {},
     "output_type": "execute_result"
    }
   ],
   "source": [
    "a=np.array([[0,0],[0.5,1],[1,1]])\n",
    "a"
   ]
  },
  {
   "cell_type": "code",
   "execution_count": 9,
   "metadata": {
    "collapsed": true,
    "deletable": true,
    "editable": true
   },
   "outputs": [],
   "source": [
    "a = [0, 0.01, 0.02, 0.05, 0.1, 0.15, 0.2 ,0.25, 0.5, 1.0]"
   ]
  },
  {
   "cell_type": "code",
   "execution_count": 10,
   "metadata": {
    "collapsed": false,
    "deletable": true,
    "editable": true
   },
   "outputs": [
    {
     "data": {
      "text/plain": [
       "[0,\n",
       " 0,\n",
       " 0.01,\n",
       " 0.01,\n",
       " 0.02,\n",
       " 0.02,\n",
       " 0.05,\n",
       " 0.05,\n",
       " 0.1,\n",
       " 0.1,\n",
       " 0.15,\n",
       " 0.15,\n",
       " 0.2,\n",
       " 0.2,\n",
       " 0.25,\n",
       " 0.25,\n",
       " 0.5,\n",
       " 0.5,\n",
       " 1.0,\n",
       " 1.0]"
      ]
     },
     "execution_count": 10,
     "metadata": {},
     "output_type": "execute_result"
    }
   ],
   "source": [
    "b = [i for i in a for  _ in range(2)]\n",
    "b"
   ]
  },
  {
   "cell_type": "code",
   "execution_count": 6,
   "metadata": {
    "collapsed": false,
    "deletable": true,
    "editable": true
   },
   "outputs": [
    {
     "data": {
      "text/plain": [
       "array([4, 6])"
      ]
     },
     "execution_count": 6,
     "metadata": {},
     "output_type": "execute_result"
    }
   ],
   "source": [
    "a=[2,3]+ np.array([2,3])\n",
    "a"
   ]
  },
  {
   "cell_type": "code",
   "execution_count": 8,
   "metadata": {
    "collapsed": false,
    "deletable": true,
    "editable": true
   },
   "outputs": [
    {
     "data": {
      "text/plain": [
       "array([[ 0.1754525 ,  0.71380276],\n",
       "       [ 0.47183155,  0.84030468],\n",
       "       [ 0.88771505,  0.64497288]])"
      ]
     },
     "execution_count": 8,
     "metadata": {},
     "output_type": "execute_result"
    }
   ],
   "source": [
    "np.random.random((3,2))"
   ]
  },
  {
   "cell_type": "code",
   "execution_count": 3,
   "metadata": {
    "collapsed": false,
    "deletable": true,
    "editable": true
   },
   "outputs": [
    {
     "data": {
      "text/plain": [
       "array([['a', 'b'],\n",
       "       ['c', 'd']], \n",
       "      dtype='|S1')"
      ]
     },
     "execution_count": 3,
     "metadata": {},
     "output_type": "execute_result"
    }
   ],
   "source": [
    "a=np.array([[\"a\",\"b\"],[\"c\",\"d\"]])\n",
    "a"
   ]
  },
  {
   "cell_type": "code",
   "execution_count": 11,
   "metadata": {
    "collapsed": false,
    "deletable": true,
    "editable": true
   },
   "outputs": [
    {
     "name": "stderr",
     "output_type": "stream",
     "text": [
      "/usr/local/lib/python2.7/dist-packages/ipykernel/__main__.py:1: FutureWarning: elementwise comparison failed; returning scalar instead, but in the future will perform elementwise comparison\n",
      "  if __name__ == '__main__':\n"
     ]
    },
    {
     "data": {
      "text/plain": [
       "False"
      ]
     },
     "execution_count": 11,
     "metadata": {},
     "output_type": "execute_result"
    }
   ],
   "source": [
    "a==1"
   ]
  },
  {
   "cell_type": "code",
   "execution_count": 6,
   "metadata": {
    "collapsed": false,
    "deletable": true,
    "editable": true
   },
   "outputs": [
    {
     "data": {
      "text/plain": [
       "array([[1, 4],\n",
       "       [2, 5],\n",
       "       [3, 6]])"
      ]
     },
     "execution_count": 6,
     "metadata": {},
     "output_type": "execute_result"
    }
   ],
   "source": [
    "a=np.array([1,2,3])\n",
    "b=np.array([4,5,6])\n",
    "np.column_stack((a,b))"
   ]
  },
  {
   "cell_type": "code",
   "execution_count": 28,
   "metadata": {
    "collapsed": false,
    "deletable": true,
    "editable": true
   },
   "outputs": [
    {
     "data": {
      "image/png": "[encoded data removed]",
      "text/plain": [
       "<matplotlib.figure.Figure at 0x7fea57a79dd0>"
      ]
     },
     "metadata": {},
     "output_type": "display_data"
    }
   ],
   "source": [
    "words = [\"test1\",\"test2\",\"test3\"]\n",
    "x=[1,2,3]\n",
    "y=[3,4,3]\n",
    "\n",
    "fig, ax = plt.subplots()\n",
    "ax.scatter(x,y)\n",
    "for i, txt in enumerate(words):\n",
    "    ax.annotate(txt, (x[i],y[i]))\n",
    "plt.axvline(x=2, color='r', linestyle='-')\n",
    "plt.show()"
   ]
  },
  {
   "cell_type": "code",
   "execution_count": 39,
   "metadata": {
    "collapsed": false,
    "deletable": true,
    "editable": true
   },
   "outputs": [
    {
     "data": {
      "text/plain": [
       "array([[ 0,  1,  2,  3],\n",
       "       [ 4,  5,  6,  7],\n",
       "       [ 8,  9, 10, 11],\n",
       "       [12, 13, 14, 15]])"
      ]
     },
     "execution_count": 39,
     "metadata": {},
     "output_type": "execute_result"
    }
   ],
   "source": [
    "a=np.arange(16)\n",
    "b=a.reshape((4,4))\n",
    "b"
   ]
  },
  {
   "cell_type": "code",
   "execution_count": 45,
   "metadata": {
    "collapsed": false,
    "deletable": true,
    "editable": true
   },
   "outputs": [
    {
     "data": {
      "text/plain": [
       "array([ 4,  8,  9, 12, 13, 14])"
      ]
     },
     "execution_count": 45,
     "metadata": {},
     "output_type": "execute_result"
    }
   ],
   "source": [
    "xi,y1=np.tril_indices(4,-1)\n",
    "b[xi,y1]"
   ]
  },
  {
   "cell_type": "code",
   "execution_count": 6,
   "metadata": {
    "collapsed": false,
    "deletable": true,
    "editable": true
   },
   "outputs": [
    {
     "name": "stdout",
     "output_type": "stream",
     "text": [
      "1 0\n",
      "2 0\n",
      "2 1\n",
      "3 0\n",
      "3 1\n",
      "3 2\n",
      "4 0\n",
      "4 1\n",
      "4 2\n",
      "4 3\n"
     ]
    }
   ],
   "source": [
    "x,y=np.tril_indices(5,-1)\n",
    "for i in xrange(len(x)):\n",
    "    print(str(x[i]) + \" \"+str(y[i]))"
   ]
  },
  {
   "cell_type": "code",
   "execution_count": 5,
   "metadata": {
    "collapsed": false,
    "deletable": true,
    "editable": true
   },
   "outputs": [
    {
     "data": {
      "text/plain": [
       "numpy.ndarray"
      ]
     },
     "execution_count": 5,
     "metadata": {},
     "output_type": "execute_result"
    }
   ],
   "source": [
    "x=np.array([4,3,5,6])\n",
    "type(x)"
   ]
  },
  {
   "cell_type": "code",
   "execution_count": 6,
   "metadata": {
    "collapsed": false,
    "deletable": true,
    "editable": true
   },
   "outputs": [
    {
     "name": "stdout",
     "output_type": "stream",
     "text": [
      "0\n",
      "4\n",
      "1\n",
      "3\n",
      "2\n",
      "5\n",
      "3\n",
      "6\n"
     ]
    }
   ],
   "source": [
    "for i, val in enumerate(x):\n",
    "    print(i)\n",
    "    print(val)"
   ]
  },
  {
   "cell_type": "code",
   "execution_count": 8,
   "metadata": {
    "collapsed": false,
    "deletable": true,
    "editable": true
   },
   "outputs": [
    {
     "name": "stdout",
     "output_type": "stream",
     "text": [
      "[0, 1, 2, 3, 4, 5, 6, 7, 8, 9]\n"
     ]
    }
   ],
   "source": [
    "import numpy as np\n",
    "from scipy.sparse import find\n",
    "from scipy.sparse import "
   ]
  },
  {
   "cell_type": "code",
   "execution_count": 4,
   "metadata": {
    "collapsed": false,
    "deletable": true,
    "editable": true
   },
   "outputs": [
    {
     "data": {
      "text/plain": [
       "100"
      ]
     },
     "execution_count": 4,
     "metadata": {},
     "output_type": "execute_result"
    }
   ],
   "source": [
    "len(range(200, 2200, 20))"
   ]
  },
  {
   "cell_type": "code",
   "execution_count": 4,
   "metadata": {
    "collapsed": false,
    "deletable": true,
    "editable": true
   },
   "outputs": [],
   "source": [
    "a=np.array([[1,2],[3,4]])\n",
    "def test_f(x):\n",
    "    return x**2\n",
    "    "
   ]
  },
  {
   "cell_type": "code",
   "execution_count": 36,
   "metadata": {
    "collapsed": false,
    "deletable": true,
    "editable": true
   },
   "outputs": [],
   "source": [
    "def triple_solve(k=4,max=1000):\n",
    "    '''Solves the triple Sum'''\n",
    "    sol=[]\n",
    "    for x in xrange(1,max):\n",
    "        for y in xrange(1,x+1):\n",
    "            for z in xrange(1,y+1):\n",
    "                x,y,z=float(x),float(y),float(z)\n",
    "                if x/(y+z)+y/(x+z)+z/(x+y)==k:\n",
    "                    sol.append([x,y,z])\n",
    "                \n",
    "    return(sol)"
   ]
  },
  {
   "cell_type": "code",
   "execution_count": 43,
   "metadata": {
    "collapsed": false,
    "deletable": true,
    "editable": true
   },
   "outputs": [
    {
     "name": "stdout",
     "output_type": "stream",
     "text": [
      "[[3.0, 2.0, 1.0], [6.0, 4.0, 2.0], [9.0, 6.0, 3.0], [12.0, 8.0, 4.0], [15.0, 10.0, 5.0], [18.0, 12.0, 6.0], [21.0, 14.0, 7.0], [23.0, 17.0, 7.0], [24.0, 16.0, 8.0], [27.0, 18.0, 9.0], [30.0, 20.0, 10.0], [33.0, 22.0, 11.0], [36.0, 24.0, 12.0], [39.0, 26.0, 13.0], [42.0, 28.0, 14.0], [45.0, 30.0, 15.0], [46.0, 34.0, 14.0], [48.0, 32.0, 16.0], [51.0, 34.0, 17.0], [54.0, 36.0, 18.0], [57.0, 38.0, 19.0], [60.0, 40.0, 20.0], [63.0, 42.0, 21.0], [66.0, 44.0, 22.0], [69.0, 46.0, 23.0], [69.0, 51.0, 21.0], [72.0, 48.0, 24.0], [75.0, 50.0, 25.0], [78.0, 52.0, 26.0], [81.0, 54.0, 27.0], [84.0, 56.0, 28.0], [87.0, 58.0, 29.0], [90.0, 60.0, 30.0], [92.0, 68.0, 28.0], [93.0, 62.0, 31.0], [96.0, 64.0, 32.0], [99.0, 66.0, 33.0], [102.0, 68.0, 34.0], [105.0, 70.0, 35.0], [108.0, 72.0, 36.0], [111.0, 74.0, 37.0], [114.0, 76.0, 38.0], [115.0, 85.0, 35.0], [117.0, 78.0, 39.0], [120.0, 80.0, 40.0], [123.0, 82.0, 41.0], [126.0, 84.0, 42.0], [129.0, 86.0, 43.0], [132.0, 88.0, 44.0], [135.0, 90.0, 45.0], [138.0, 92.0, 46.0], [138.0, 102.0, 42.0], [141.0, 94.0, 47.0], [144.0, 96.0, 48.0], [147.0, 98.0, 49.0], [150.0, 100.0, 50.0], [153.0, 102.0, 51.0], [156.0, 104.0, 52.0], [159.0, 106.0, 53.0], [161.0, 119.0, 49.0], [162.0, 108.0, 54.0], [165.0, 110.0, 55.0], [168.0, 112.0, 56.0], [171.0, 114.0, 57.0], [174.0, 116.0, 58.0], [177.0, 118.0, 59.0], [180.0, 120.0, 60.0], [183.0, 122.0, 61.0], [184.0, 136.0, 56.0], [186.0, 124.0, 62.0], [189.0, 126.0, 63.0], [192.0, 128.0, 64.0], [195.0, 130.0, 65.0], [198.0, 132.0, 66.0]]\n"
     ]
    }
   ],
   "source": [
    "sol=triple_solve(k=1.7,max=200)\n",
    "print(sol)"
   ]
  },
  {
   "cell_type": "code",
   "execution_count": 40,
   "metadata": {
    "collapsed": false,
    "deletable": true,
    "editable": true
   },
   "outputs": [
    {
     "name": "stdout",
     "output_type": "stream",
     "text": [
      "[[1.0, 1.0, 1.0], [2.0, 2.0, 2.0], [3.0, 3.0, 3.0], [4.0, 4.0, 4.0], [5.0, 5.0, 5.0], [6.0, 6.0, 6.0], [7.0, 7.0, 7.0], [8.0, 8.0, 8.0], [9.0, 9.0, 9.0], [10.0, 10.0, 10.0], [11.0, 11.0, 11.0], [12.0, 12.0, 12.0], [13.0, 13.0, 13.0], [14.0, 14.0, 14.0], [15.0, 15.0, 15.0], [16.0, 16.0, 16.0], [17.0, 17.0, 17.0], [18.0, 18.0, 18.0], [19.0, 19.0, 19.0], [20.0, 20.0, 20.0], [21.0, 21.0, 21.0], [22.0, 22.0, 22.0], [23.0, 23.0, 23.0], [24.0, 24.0, 24.0], [25.0, 25.0, 25.0], [26.0, 26.0, 26.0], [27.0, 27.0, 27.0], [28.0, 28.0, 28.0], [29.0, 29.0, 29.0], [30.0, 30.0, 30.0], [31.0, 31.0, 31.0], [32.0, 32.0, 32.0], [33.0, 33.0, 33.0], [34.0, 34.0, 34.0], [35.0, 35.0, 35.0], [36.0, 36.0, 36.0], [37.0, 37.0, 37.0], [38.0, 38.0, 38.0], [39.0, 39.0, 39.0], [40.0, 40.0, 40.0], [41.0, 41.0, 41.0], [42.0, 42.0, 42.0], [43.0, 43.0, 43.0], [44.0, 44.0, 44.0], [45.0, 45.0, 45.0], [46.0, 46.0, 46.0], [47.0, 47.0, 47.0], [48.0, 48.0, 48.0], [49.0, 49.0, 49.0], [50.0, 50.0, 50.0], [51.0, 51.0, 51.0], [52.0, 52.0, 52.0], [53.0, 53.0, 53.0], [54.0, 54.0, 54.0], [55.0, 55.0, 55.0], [56.0, 56.0, 56.0], [57.0, 57.0, 57.0], [58.0, 58.0, 58.0], [59.0, 59.0, 59.0], [60.0, 60.0, 60.0], [61.0, 61.0, 61.0], [62.0, 62.0, 62.0], [63.0, 63.0, 63.0], [64.0, 64.0, 64.0], [65.0, 65.0, 65.0], [66.0, 66.0, 66.0], [67.0, 67.0, 67.0], [68.0, 68.0, 68.0], [69.0, 69.0, 69.0], [70.0, 70.0, 70.0], [71.0, 71.0, 71.0], [72.0, 72.0, 72.0], [73.0, 73.0, 73.0], [74.0, 74.0, 74.0], [75.0, 75.0, 75.0], [76.0, 76.0, 76.0], [77.0, 77.0, 77.0], [78.0, 78.0, 78.0], [79.0, 79.0, 79.0], [80.0, 80.0, 80.0], [81.0, 81.0, 81.0], [82.0, 82.0, 82.0], [83.0, 83.0, 83.0], [84.0, 84.0, 84.0], [85.0, 85.0, 85.0], [86.0, 86.0, 86.0], [87.0, 87.0, 87.0], [88.0, 88.0, 88.0], [89.0, 89.0, 89.0], [90.0, 90.0, 90.0], [91.0, 91.0, 91.0], [92.0, 92.0, 92.0], [93.0, 93.0, 93.0], [94.0, 94.0, 94.0], [95.0, 95.0, 95.0], [96.0, 96.0, 96.0], [97.0, 97.0, 97.0], [98.0, 98.0, 98.0], [99.0, 99.0, 99.0]]\n"
     ]
    }
   ],
   "source": [
    "sol=triple_solve(k=1.5,max=100)\n",
    "print(sol)"
   ]
  },
  {
   "cell_type": "code",
   "execution_count": 101,
   "metadata": {
    "collapsed": false,
    "deletable": true,
    "editable": true
   },
   "outputs": [],
   "source": [
    "import numpy as np\n",
    "\n",
    "def twosum(arr,k):\n",
    "    '''Return all duplets in array that give k'''\n",
    "    s=set(arr)\n",
    "    res=set()\n",
    "    \n",
    "    for i in s:\n",
    "        if (k-i) in s:\n",
    "            double=[i,k-i]\n",
    "            double.sort()\n",
    "            res.add(tuple(double))\n",
    "    return res\n",
    "    \n",
    "    \n",
    "    \n",
    "def threesum(arr,k):\n",
    "    '''Return all triplets of array that sum up to k'''\n",
    "    res = set()\n",
    "    for i in xrange(len(arr)):\n",
    "        new_set=twosum(arr[:i]+arr[i+1:],k-arr[i])\n",
    "        \n",
    "        # Sort the Results:\n",
    "        for s in new_set:\n",
    "            x=(list(s)+[arr[i],])\n",
    "            x.sort()\n",
    "            res.add(tuple(x))\n",
    "            \n",
    "    return res"
   ]
  },
  {
   "cell_type": "code",
   "execution_count": 102,
   "metadata": {
    "collapsed": false,
    "deletable": true,
    "editable": true
   },
   "outputs": [
    {
     "name": "stdout",
     "output_type": "stream",
     "text": [
      "new entry\n",
      "1\n",
      "(1, 5)\n",
      "new entry\n",
      "1\n",
      "(2, 4)\n",
      "new entry\n",
      "1\n",
      "(3, 3)\n",
      "new entry\n",
      "1\n",
      "(1, 5)\n",
      "new entry\n",
      "1\n",
      "(2, 4)\n",
      "new entry\n",
      "1\n",
      "(3, 3)\n",
      "new entry\n",
      "2\n",
      "(2, 3)\n",
      "new entry\n",
      "2\n",
      "(1, 4)\n",
      "new entry\n",
      "3\n",
      "(2, 2)\n",
      "new entry\n",
      "4\n",
      "(1, 2)\n",
      "new entry\n",
      "5\n",
      "(1, 1)\n",
      "new entry\n",
      "2\n",
      "(2, 3)\n",
      "new entry\n",
      "2\n",
      "(1, 4)\n"
     ]
    },
    {
     "data": {
      "text/plain": [
       "{(1, 1, 5), (1, 2, 4), (1, 3, 3), (2, 2, 3)}"
      ]
     },
     "execution_count": 102,
     "metadata": {},
     "output_type": "execute_result"
    }
   ],
   "source": [
    "threesum([1,1,2,3,4,5,6,7,2],7)"
   ]
  },
  {
   "cell_type": "code",
   "execution_count": 62,
   "metadata": {
    "collapsed": false,
    "deletable": true,
    "editable": true
   },
   "outputs": [
    {
     "ename": "AttributeError",
     "evalue": "'list' object has no attribute 'sorted'",
     "output_type": "error",
     "traceback": [
      "\u001b[0;31m---------------------------------------------------------------------------\u001b[0m",
      "\u001b[0;31mAttributeError\u001b[0m                            Traceback (most recent call last)",
      "\u001b[0;32m<ipython-input-62-67fce521dc24>\u001b[0m in \u001b[0;36m<module>\u001b[0;34m()\u001b[0m\n\u001b[1;32m      1\u001b[0m \u001b[0ma\u001b[0m\u001b[0;34m=\u001b[0m\u001b[0;34m[\u001b[0m\u001b[0;36m3\u001b[0m\u001b[0;34m,\u001b[0m\u001b[0;36m2\u001b[0m\u001b[0;34m,\u001b[0m\u001b[0;36m1\u001b[0m\u001b[0;34m]\u001b[0m\u001b[0;34m\u001b[0m\u001b[0m\n\u001b[0;32m----> 2\u001b[0;31m \u001b[0ma\u001b[0m\u001b[0;34m.\u001b[0m\u001b[0msorted\u001b[0m\u001b[0;34m(\u001b[0m\u001b[0;34m)\u001b[0m\u001b[0;34m\u001b[0m\u001b[0m\n\u001b[0m\u001b[1;32m      3\u001b[0m \u001b[0;34m\u001b[0m\u001b[0m\n\u001b[1;32m      4\u001b[0m \u001b[0;31m# Dictionaries in Python\u001b[0m\u001b[0;34m\u001b[0m\u001b[0;34m\u001b[0m\u001b[0m\n\u001b[1;32m      5\u001b[0m \u001b[0;34m\u001b[0m\u001b[0m\n",
      "\u001b[0;31mAttributeError\u001b[0m: 'list' object has no attribute 'sorted'"
     ]
    }
   ],
   "source": [
    "a=[3,2,1]\n",
    "a.sorted()\n",
    "\n",
    "# Dictionaries in Python\n",
    "\n",
    "\n",
    "# Sorting in Python"
   ]
  },
  {
   "cell_type": "code",
   "execution_count": 9,
   "metadata": {
    "collapsed": false,
    "deletable": true,
    "editable": true
   },
   "outputs": [],
   "source": [
    "def transform_func(x, size):\n",
    "    '''transform from x+y*L coordinates back to original coordinates'''\n",
    "    y_coord=x/size\n",
    "    x_coord=x%size\n",
    "    return [x_coord, y_coord]"
   ]
  },
  {
   "cell_type": "code",
   "execution_count": 3,
   "metadata": {
    "collapsed": false,
    "deletable": true,
    "editable": true
   },
   "outputs": [
    {
     "data": {
      "text/plain": [
       "array([-30. , -27.5, -25. , -22.5, -20. , -17.5, -15. , -12.5, -10. ,\n",
       "        -7.5,  -5. ,  -2.5,   0. ,   2.5,   5. ,   7.5,  10. ,  12.5,\n",
       "        15. ,  17.5,  20. ,  22.5,  25. ,  27.5,  30. ])"
      ]
     },
     "execution_count": 3,
     "metadata": {},
     "output_type": "execute_result"
    }
   ],
   "source": [
    "import numpy as np\n",
    "np.linspace(-30, 30, 25)"
   ]
  },
  {
   "cell_type": "code",
   "execution_count": null,
   "metadata": {
    "collapsed": true
   },
   "outputs": [],
   "source": []
  }
 ],
 "metadata": {
  "kernelspec": {
   "display_name": "Python 2",
   "language": "python",
   "name": "python2"
  },
  "language_info": {
   "codemirror_mode": {
    "name": "ipython",
    "version": 2
   },
   "file_extension": ".py",
   "mimetype": "text/x-python",
   "name": "python",
   "nbconvert_exporter": "python",
   "pygments_lexer": "ipython2",
   "version": "2.7.12"
  }
 },
 "nbformat": 4,
 "nbformat_minor": 1
}
