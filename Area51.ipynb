{
 "cells": [
  {
   "cell_type": "code",
   "execution_count": 1,
   "metadata": {
    "collapsed": false,
    "deletable": true,
    "editable": true
   },
   "outputs": [],
   "source": [
    "import numpy as np\n",
    "import matplotlib.pyplot as plt\n",
    "import time\n",
    "import tensorflow as tf\n",
    "from scipy.special import erfc\n",
    "from random import shuffle\n",
    "import cPickle as pickle"
   ]
  },
  {
   "cell_type": "code",
   "execution_count": 2,
   "metadata": {
    "collapsed": false,
    "deletable": true,
    "editable": true
   },
   "outputs": [],
   "source": [
    "import intergand\n",
    "import numpy as np"
   ]
  },
  {
   "cell_type": "code",
   "execution_count": null,
   "metadata": {
    "collapsed": false,
    "deletable": true,
    "editable": true
   },
   "outputs": [],
   "source": [
    "x_inds, y_inds =np.triu_indices(3)\n",
    "for i in x_inds:\n",
    "    print(i)"
   ]
  },
  {
   "cell_type": "code",
   "execution_count": 5,
   "metadata": {
    "collapsed": false,
    "deletable": true,
    "editable": true
   },
   "outputs": [
    {
     "data": {
      "text/plain": [
       "0.00019382062567934244"
      ]
     },
     "execution_count": 5,
     "metadata": {},
     "output_type": "execute_result"
    }
   ],
   "source": [
    "import intergand\n",
    "import matplotlib as plt\n",
    "import numpy as np\n",
    "intergand.integrand_barrier_c(10,2,1,1.1,100,0.00,1)"
   ]
  },
  {
   "cell_type": "code",
   "execution_count": 32,
   "metadata": {
    "collapsed": false,
    "deletable": true,
    "editable": true
   },
   "outputs": [
    {
     "data": {
      "image/png": "[encoded data removed]",
      "text/plain": [
       "<matplotlib.figure.Figure at 0x7f7be0a97490>"
      ]
     },
     "metadata": {},
     "output_type": "display_data"
    }
   ],
   "source": [
    "import matplotlib.pyplot as plt\n",
    "\n",
    "\n",
    "x_vec= np.logspace(-4,1,1000)\n",
    "y_vec= [erfc(x) for x in x_vec]\n",
    "\n",
    "\n",
    "plt.figure()\n",
    "plt.plot(x_vec, y_vec)\n",
    "plt.show()"
   ]
  },
  {
   "cell_type": "code",
   "execution_count": 13,
   "metadata": {
    "collapsed": false,
    "deletable": true,
    "editable": true
   },
   "outputs": [
    {
     "data": {
      "text/plain": [
       "['result12.p',\n",
       " 'result00.p',\n",
       " 'result31.p',\n",
       " 'nbh_file_genotypes30.csv',\n",
       " 'result14.p',\n",
       " 'result22.p',\n",
       " 'parameters.p',\n",
       " '.ipynb_checkpoints',\n",
       " 'Untitled.ipynb',\n",
       " 'result21.p',\n",
       " 'result30.p',\n",
       " 'result01.p',\n",
       " 'result13.p',\n",
       " 'result24.p',\n",
       " 'result05.p',\n",
       " 'result06.p',\n",
       " 'result16.p',\n",
       " 'result17.p',\n",
       " 'result04.p',\n",
       " 'result03.p',\n",
       " 'result15.p',\n",
       " 'result09.p',\n",
       " 'result18.p',\n",
       " 'result02.p',\n",
       " 'result32.p',\n",
       " 'nbh_file_genotypes01.csv',\n",
       " 'result20.p',\n",
       " 'nbh_file_coords30.csv',\n",
       " 'result25.p',\n",
       " 'result08.p',\n",
       " 'result28.p',\n",
       " 'result11.p',\n",
       " 'result10.p',\n",
       " 'nbh_file_coords01.csv',\n",
       " 'result33.p',\n",
       " 'result19.p',\n",
       " 'result29.p',\n",
       " 'result26.p',\n",
       " 'result23.p',\n",
       " 'result27.p']"
      ]
     },
     "execution_count": 13,
     "metadata": {},
     "output_type": "execute_result"
    }
   ],
   "source": [
    "import os\n",
    "os.listdir(\"./nbh_folder\")"
   ]
  },
  {
   "cell_type": "code",
   "execution_count": 25,
   "metadata": {
    "collapsed": false,
    "deletable": true,
    "editable": true
   },
   "outputs": [
    {
     "data": {
      "text/plain": [
       "(array([ 8.06034038,  0.01534843,  0.06932775]),\n",
       " array([[ 7.56484835,  8.55583241],\n",
       "        [ 0.01309807,  0.01759879],\n",
       "        [ 0.05384273,  0.08481277]]))"
      ]
     },
     "execution_count": 25,
     "metadata": {},
     "output_type": "execute_result"
    }
   ],
   "source": [
    "pickle.load(open(\"./nbh_folder/result10.p\", \"rb\"))"
   ]
  },
  {
   "cell_type": "code",
   "execution_count": 42,
   "metadata": {
    "collapsed": false,
    "deletable": true,
    "editable": true
   },
   "outputs": [],
   "source": [
    "def load_pickle_data(i):\n",
    "    '''Function To load pickled Data.\n",
    "    Also visualizes it.'''\n",
    "    data_folder = \"./nbh_folder/\"\n",
    "    path = data_folder + \"result\" + str(i).zfill(2) + \".p\"\n",
    "    a,b = pickle.load(open(path,\"rb\"))\n",
    "    return (a,b)"
   ]
  },
  {
   "cell_type": "code",
   "execution_count": 11,
   "metadata": {
    "collapsed": false,
    "deletable": true,
    "editable": true
   },
   "outputs": [
    {
     "data": {
      "text/plain": [
       "array([0, 1, 0, 1])"
      ]
     },
     "execution_count": 11,
     "metadata": {},
     "output_type": "execute_result"
    }
   ],
   "source": [
    "a=np.array([[0,0,0,0],[1,1,1,1],[0,1,0,1]])\n",
    "b=np.abs(a[:,None]-a[None,:])\n",
    "b\n",
    "b[0,2]"
   ]
  },
  {
   "cell_type": "code",
   "execution_count": 15,
   "metadata": {
    "collapsed": false,
    "deletable": true,
    "editable": true
   },
   "outputs": [
    {
     "data": {
      "text/plain": [
       "array([[0, 0, 0, 0],\n",
       "       [1, 1, 1, 1],\n",
       "       [0, 1, 0, 1],\n",
       "       [0, 0, 0, 0],\n",
       "       [1, 0, 1, 0],\n",
       "       [0, 0, 0, 0]])"
      ]
     },
     "execution_count": 15,
     "metadata": {},
     "output_type": "execute_result"
    }
   ],
   "source": [
    "inds=np.triu_indices(3)\n",
    "c=b[inds]\n",
    "c"
   ]
  },
  {
   "cell_type": "code",
   "execution_count": 19,
   "metadata": {
    "collapsed": false,
    "deletable": true,
    "editable": true
   },
   "outputs": [
    {
     "data": {
      "text/plain": [
       "array([[ 0. ,  0. ,  0. ,  0. ],\n",
       "       [ 0.8,  0.8,  0.8,  0.8],\n",
       "       [ 0. ,  0.7,  0. ,  0.7],\n",
       "       [ 0. ,  0. ,  0. ,  0. ],\n",
       "       [ 0.5,  0. ,  0.5,  0. ],\n",
       "       [ 0. ,  0. ,  0. ,  0. ]])"
      ]
     },
     "execution_count": 19,
     "metadata": {},
     "output_type": "execute_result"
    }
   ],
   "source": [
    "kernel_vec=np.array([0.1,0.2,0.3,0.4,0.5,0.6])\n",
    "c * (1 - kernel_vec[:,None])"
   ]
  },
  {
   "cell_type": "code",
   "execution_count": 10,
   "metadata": {
    "collapsed": false,
    "deletable": true,
    "editable": true
   },
   "outputs": [
    {
     "name": "stdout",
     "output_type": "stream",
     "text": [
      "[[ 0  1  2  3]\n",
      " [ 4  5  6  7]\n",
      " [ 8  9 10 11]\n",
      " [12 13 14 15]]\n"
     ]
    },
    {
     "data": {
      "text/plain": [
       "(array([0, 0, 0, 1, 1, 2]), array([1, 2, 3, 2, 3, 3]))"
      ]
     },
     "execution_count": 10,
     "metadata": {},
     "output_type": "execute_result"
    }
   ],
   "source": [
    "mat=np.reshape(np.arange(16),(4,4))\n",
    "print(mat)\n",
    "inds=np.triu_indices(4,1)\n",
    "inds"
   ]
  },
  {
   "cell_type": "code",
   "execution_count": 11,
   "metadata": {
    "collapsed": false,
    "deletable": true,
    "editable": true
   },
   "outputs": [
    {
     "data": {
      "text/plain": [
       "array([ 1,  2,  3,  6,  7, 11])"
      ]
     },
     "execution_count": 11,
     "metadata": {},
     "output_type": "execute_result"
    }
   ],
   "source": [
    "mat[inds]"
   ]
  },
  {
   "cell_type": "code",
   "execution_count": 13,
   "metadata": {
    "collapsed": false,
    "deletable": true,
    "editable": true
   },
   "outputs": [
    {
     "name": "stdout",
     "output_type": "stream",
     "text": [
      "[   3.16227766    5.27499706    8.79922544   14.67799268   24.48436747\n",
      "   40.84238653   68.12920691  113.64636664  189.57356524  316.22776602]\n",
      "[ 0.00031623  0.0005275   0.00087992  0.0014678   0.00244844  0.00408424\n",
      "  0.00681292  0.01136464  0.01895736  0.03162278]\n"
     ]
    }
   ],
   "source": [
    "nbh_list = np.logspace(0.5, 2.5, 10)  # Neighborhood List\n",
    "L_list = np.logspace(-3.5, -1.5, 10)  # Lengthscale List\n",
    "print(nbh_list)\n",
    "print(L_list)"
   ]
  },
  {
   "cell_type": "code",
   "execution_count": 2,
   "metadata": {
    "collapsed": false,
    "deletable": true,
    "editable": true
   },
   "outputs": [
    {
     "data": {
      "text/plain": [
       "(array([[ 0.,  1.,  0., ...,  1.,  0.,  0.],\n",
       "        [ 0.,  1.,  0., ...,  0.,  1.,  0.],\n",
       "        [ 0.,  1.,  0., ...,  1.,  0.,  0.],\n",
       "        ..., \n",
       "        [ 0.,  0.,  0., ...,  1.,  1.,  0.],\n",
       "        [ 0.,  1.,  0., ...,  0.,  1.,  0.],\n",
       "        [ 0.,  1.,  1., ...,  1.,  1.,  1.]]), array([[ 481.,  451.],\n",
       "        [ 481.,  453.],\n",
       "        [ 481.,  455.],\n",
       "        ..., \n",
       "        [ 519.,  545.],\n",
       "        [ 519.,  547.],\n",
       "        [ 519.,  549.]]))"
      ]
     },
     "execution_count": 2,
     "metadata": {},
     "output_type": "execute_result"
    }
   ],
   "source": [
    "genotype_matrix = np.loadtxt('./nbh_folder/nbh_file_genotypes30.csv', delimiter='$').astype('float64')\n",
    "position_list = np.loadtxt('./nbh_folder/nbh_file_coords30.csv', delimiter='$').astype('float64')\n",
    "genotype_matrix, position_list"
   ]
  },
  {
   "cell_type": "code",
   "execution_count": 6,
   "metadata": {
    "collapsed": false,
    "deletable": true,
    "editable": true
   },
   "outputs": [
    {
     "data": {
      "text/plain": [
       "(200, 200)"
      ]
     },
     "execution_count": 6,
     "metadata": {},
     "output_type": "execute_result"
    }
   ],
   "source": [
    "nr_inds=200  # How many Individuals to draw\n",
    "\n",
    "inds = range(len(genotype_matrix[:, 0]))  # Some Code to draw random samples\n",
    "shuffle(inds)\n",
    "inds = inds[:nr_inds]\n",
    "position_list1 = position_list[inds, :]\n",
    "genotype_matrix1 = genotype_matrix[inds, :]\n",
    "len(position_list1), len(genotype_matrix1)"
   ]
  },
  {
   "cell_type": "code",
   "execution_count": 4,
   "metadata": {
    "collapsed": false,
    "deletable": true,
    "editable": true
   },
   "outputs": [
    {
     "data": {
      "image/png": "[encoded data removed]",
      "text/plain": [
       "<matplotlib.figure.Figure at 0x7fdb29e1c2d0>"
      ]
     },
     "metadata": {},
     "output_type": "display_data"
    }
   ],
   "source": [
    "position_list1 = np.array([(500 + i, 500 + j) for i in range(-9, 11, 1) for j in range(-9, 11, 1)]) # Updated position list.plt.figure()\n",
    "plt.scatter(position_list1[:,0],position_list1[:,1])\n",
    "plt.show()"
   ]
  },
  {
   "cell_type": "code",
   "execution_count": 8,
   "metadata": {
    "collapsed": true,
    "deletable": true,
    "editable": true
   },
   "outputs": [],
   "source": [
    "np.savetxt(\"./nbh_folder/nbh_file_coords200.csv\", position_list1, delimiter=\"$\")  # Save the coordinates\n",
    "np.savetxt(\"./nbh_folder/nbh_file_genotypes200.csv\", genotype_matrix1, delimiter=\"$\")  # Save the data "
   ]
  },
  {
   "cell_type": "markdown",
   "metadata": {
    "deletable": true,
    "editable": true
   },
   "source": [
    "### Goal: Write a Function that groups individuals:"
   ]
  },
  {
   "cell_type": "code",
   "execution_count": 3,
   "metadata": {
    "collapsed": false,
    "deletable": true,
    "editable": true
   },
   "outputs": [
    {
     "data": {
      "text/plain": [
       "(array([[ 0.,  1.,  0., ...,  1.,  0.,  0.],\n",
       "        [ 0.,  1.,  0., ...,  0.,  1.,  0.],\n",
       "        [ 0.,  1.,  0., ...,  1.,  0.,  0.],\n",
       "        ..., \n",
       "        [ 0.,  0.,  0., ...,  1.,  1.,  0.],\n",
       "        [ 0.,  1.,  0., ...,  0.,  1.,  0.],\n",
       "        [ 0.,  1.,  1., ...,  1.,  1.,  1.]]), array([[ 481.,  451.],\n",
       "        [ 481.,  453.],\n",
       "        [ 481.,  455.],\n",
       "        ..., \n",
       "        [ 519.,  545.],\n",
       "        [ 519.,  547.],\n",
       "        [ 519.,  549.]]))"
      ]
     },
     "execution_count": 3,
     "metadata": {},
     "output_type": "execute_result"
    }
   ],
   "source": [
    "# First load the data:\n",
    "genotype_matrix = np.loadtxt('./nbh_folder/nbh_file_genotypes30.csv', delimiter='$').astype('float64')\n",
    "position_list = np.loadtxt('./nbh_folder/nbh_file_coords30.csv', delimiter='$').astype('float64')\n",
    "genotype_matrix, position_list"
   ]
  },
  {
   "cell_type": "code",
   "execution_count": 41,
   "metadata": {
    "collapsed": false,
    "deletable": true,
    "editable": true
   },
   "outputs": [],
   "source": [
    "def group_inds(position_list, genotypes, demes_x=10, demes_y=10):\n",
    "    '''Function that groups indviduals'''\n",
    "    nr_inds, nr_markers = np.shape(genotypes)\n",
    "    \n",
    "    x_coords, y_coords = position_list[:,0], position_list[:,1]\n",
    "    \n",
    "    x_bins=np.linspace(min(x_coords), max(x_coords)+0.001,num=demes_x+1)\n",
    "    y_bins=np.linspace(min(y_coords),max(y_coords)+0.001, num=demes_y+1)\n",
    "    \n",
    "    x_inds=np.digitize(x_coords, x_bins)\n",
    "    y_inds=np.digitize(y_coords, y_bins)\n",
    "    \n",
    "    nr_demes= demes_x * demes_y\n",
    "    \n",
    "    position_list_new=np.zeros((nr_demes,2)) -1.0\n",
    "    genotypes_new=np.zeros((nr_demes,nr_markers))-1.0\n",
    "    \n",
    "    # Iterate over every deme\n",
    "    for i in xrange(1, demes_x+1):\n",
    "        for j in range(1, demes_y+1):\n",
    "            inds = np.where((x_inds==i) * (y_inds==j))[0] # Ectract all individuals where match\n",
    "            \n",
    "            row = (i-1)*demes_y + (j-1) # Which row to set the data         \n",
    "            position_list_new[row,:]=[(x_bins[i-1]+x_bins[i])/2.0, (y_bins[j-1] + y_bins[j])/2.0]\n",
    "            \n",
    "            matching_genotypes = genotypes[inds,:]\n",
    "            genotypes_new[row,:]=np.mean(matching_genotypes, axis=0) # Sets the new genotypes\n",
    "    \n",
    "    return position_list_new, genotypes_new"
   ]
  },
  {
   "cell_type": "code",
   "execution_count": 51,
   "metadata": {
    "collapsed": false,
    "deletable": true,
    "editable": true
   },
   "outputs": [],
   "source": [
    "pl, gm = group_inds(position_list, genotype_matrix, 5, 5)"
   ]
  },
  {
   "cell_type": "code",
   "execution_count": 52,
   "metadata": {
    "collapsed": false,
    "deletable": true,
    "editable": true
   },
   "outputs": [
    {
     "data": {
      "image/png": "[encoded data removed]",
      "text/plain": [
       "<matplotlib.figure.Figure at 0x7f40c4047790>"
      ]
     },
     "metadata": {},
     "output_type": "display_data"
    }
   ],
   "source": [
    "#Check whether grouping successful:\n",
    "plt.figure()\n",
    "plt.scatter(pl[:,0],pl[:,1],c = gm[:,5],s=200)\n",
    "plt.colorbar()\n",
    "plt.show()"
   ]
  },
  {
   "cell_type": "code",
   "execution_count": 68,
   "metadata": {
    "collapsed": false,
    "deletable": true,
    "editable": true
   },
   "outputs": [
    {
     "data": {
      "text/plain": [
       "array([[0, 0, 1],\n",
       "       [1, 1, 1]])"
      ]
     },
     "execution_count": 68,
     "metadata": {},
     "output_type": "execute_result"
    }
   ],
   "source": [
    "genotypes=np.array([[0,1,2],[2,2,1]])\n",
    "mean_freqs=genotypes/2.0\n",
    "p=np.random.binomial(1,mean_freqs)\n",
    "p"
   ]
  },
  {
   "cell_type": "code",
   "execution_count": 76,
   "metadata": {
    "collapsed": false,
    "deletable": true,
    "editable": true
   },
   "outputs": [
    {
     "name": "stderr",
     "output_type": "stream",
     "text": [
      "/usr/local/lib/python2.7/dist-packages/ipykernel/__main__.py:3: FutureWarning: in the future, boolean array-likes will be handled as a boolean array index\n",
      "  app.launch_new_instance()\n"
     ]
    },
    {
     "data": {
      "text/plain": [
       "[0.5, 0.5, 0.5]"
      ]
     },
     "execution_count": 76,
     "metadata": {},
     "output_type": "execute_result"
    }
   ],
   "source": [
    "genotypes=np.array([[1, -1, -1],[0, 2, 2]])\n",
    "nr_genotypes = np.shape(genotypes)[1]\n",
    "p = [np.mean(genotypes[:,[genotypes[:,i]>-1]]) for i in xrange(nr_genotypes)]\n",
    "p"
   ]
  },
  {
   "cell_type": "code",
   "execution_count": 11,
   "metadata": {
    "collapsed": true,
    "deletable": true,
    "editable": true
   },
   "outputs": [],
   "source": [
    "def test_func(x):\n",
    "    '''Quick and dirty test function'''\n",
    "    return x**2"
   ]
  },
  {
   "cell_type": "code",
   "execution_count": 27,
   "metadata": {
    "collapsed": false,
    "deletable": true,
    "editable": true
   },
   "outputs": [
    {
     "data": {
      "text/plain": [
       "array([0, 1, 2, 3, 4, 5, 6, 7, 8, 9])"
      ]
     },
     "execution_count": 27,
     "metadata": {},
     "output_type": "execute_result"
    }
   ],
   "source": [
    "x=range(10000)\n",
    "x=np.array(a*100)\n",
    "x[:10]"
   ]
  },
  {
   "cell_type": "code",
   "execution_count": 28,
   "metadata": {
    "collapsed": false,
    "deletable": true,
    "editable": true
   },
   "outputs": [
    {
     "name": "stdout",
     "output_type": "stream",
     "text": [
      "1 loop, best of 3: 27.5 s per loop\n"
     ]
    }
   ],
   "source": [
    "%timeit map(test_func,x)"
   ]
  },
  {
   "cell_type": "code",
   "execution_count": 29,
   "metadata": {
    "collapsed": true,
    "deletable": true,
    "editable": true
   },
   "outputs": [],
   "source": [
    "unique, indices = np.unique(x, return_inverse=True)"
   ]
  },
  {
   "cell_type": "code",
   "execution_count": 33,
   "metadata": {
    "collapsed": false,
    "deletable": true,
    "editable": true
   },
   "outputs": [],
   "source": [
    "res = np.array(map(test_func, unique))\n",
    "final_result = res[indices]"
   ]
  },
  {
   "cell_type": "code",
   "execution_count": 34,
   "metadata": {
    "collapsed": false,
    "deletable": true,
    "editable": true
   },
   "outputs": [],
   "source": [
    "other_res = np.array(map(test_func,x))"
   ]
  },
  {
   "cell_type": "code",
   "execution_count": 35,
   "metadata": {
    "collapsed": false,
    "deletable": true,
    "editable": true
   },
   "outputs": [
    {
     "name": "stdout",
     "output_type": "stream",
     "text": [
      "0.0\n"
     ]
    }
   ],
   "source": [
    "mean=np.mean(other_res - final_result)\n",
    "print(mean)"
   ]
  },
  {
   "cell_type": "code",
   "execution_count": 36,
   "metadata": {
    "collapsed": false,
    "deletable": true,
    "editable": true
   },
   "outputs": [
    {
     "data": {
      "text/plain": [
       "array([ 0,  1,  4,  9, 16, 25, 36, 49, 64, 81])"
      ]
     },
     "execution_count": 36,
     "metadata": {},
     "output_type": "execute_result"
    }
   ],
   "source": [
    "final_result[:10]"
   ]
  },
  {
   "cell_type": "code",
   "execution_count": 43,
   "metadata": {
    "collapsed": true,
    "deletable": true,
    "editable": true
   },
   "outputs": [],
   "source": [
    "c= [(1,2),(1,2),(4,5)]\n",
    "unique, indices = np.unique(c, return_inverse=True)"
   ]
  },
  {
   "cell_type": "code",
   "execution_count": 45,
   "metadata": {
    "collapsed": false,
    "deletable": true,
    "editable": true
   },
   "outputs": [
    {
     "data": {
      "text/plain": [
       "(array([1, 2, 4, 5]), array([0, 1, 0, 1, 2, 3]))"
      ]
     },
     "execution_count": 45,
     "metadata": {},
     "output_type": "execute_result"
    }
   ],
   "source": [
    "unique, indices"
   ]
  },
  {
   "cell_type": "code",
   "execution_count": 39,
   "metadata": {
    "collapsed": false,
    "deletable": true,
    "editable": true
   },
   "outputs": [],
   "source": [
    "def group_inds(position_list, genotypes, demes_x=10, demes_y=10):\n",
    "    '''Function that groups indviduals into demes and gives back mean deme position\n",
    "    and mean deme genotype'''\n",
    "    nr_inds, nr_markers = np.shape(genotypes)\n",
    "\n",
    "    x_coords, y_coords = position_list[:, 0], position_list[:, 1]\n",
    "\n",
    "    x_bins = np.linspace(min(x_coords)-0.001, max(x_coords) + 0.001, num=demes_x + 1)\n",
    "    y_bins = np.linspace(min(y_coords)-0.001, max(y_coords) + 0.001, num=demes_y + 1)\n",
    "\n",
    "    x_inds = np.digitize(x_coords, x_bins)\n",
    "    y_inds = np.digitize(y_coords, y_bins)\n",
    "\n",
    "    nr_demes = demes_x * demes_y\n",
    "\n",
    "    position_list_new = np.zeros((nr_demes, 2)) - 1.0\n",
    "    genotypes_new = np.zeros((nr_demes, nr_markers)) - 1.0\n",
    "\n",
    "    # Iterate over every deme\n",
    "    for i in xrange(1, demes_x + 1):\n",
    "        for j in range(1, demes_y + 1):\n",
    "            inds = np.where((x_inds == i) * (y_inds == j))[0]  # Ectract all individuals where match\n",
    "\n",
    "            row = (i - 1) * demes_y + (j - 1)  # Which row to set the data         \n",
    "            position_list_new[row, :] = [(x_bins[i - 1] + x_bins[i]) / 2.0, (y_bins[j - 1] + y_bins[j]) / 2.0]\n",
    "\n",
    "            matching_genotypes = genotypes[inds, :]\n",
    "            genotypes_new[row, :] = np.mean(matching_genotypes, axis=0)  # Sets the new genotypes\n",
    "\n",
    "    return position_list_new, genotypes_new\n",
    "\n",
    "def plot_positions(position_list, genotypes,row=1):\n",
    "    '''Plots the Genotpyes'''\n",
    "    plt.figure()\n",
    "    plt.title(\"Sample Distribution\", fontsize=30)\n",
    "    color = genotypes[:, row].astype(\"float\")\n",
    "    plt.scatter(position_list[:, 0], position_list[:, 1], label=\"Samples\", c=color)\n",
    "    # pylab.vlines(0, min(X_data[:,1]), max(X_data[:,1]), linewidth=2, color=\"red\", label=\"Barrier\")\n",
    "    plt.xlabel(\"X-Coordinate\", fontsize=30)\n",
    "    plt.ylabel(\"Y-Coordinate\", fontsize=30)\n",
    "    plt.show()\n",
    "    \n",
    "    "
   ]
  },
  {
   "cell_type": "code",
   "execution_count": 53,
   "metadata": {
    "collapsed": false
   },
   "outputs": [
    {
     "data": {
      "image/png": "[encoded data removed]",
      "text/plain": [
       "<matplotlib.figure.Figure at 0x7f3e4c132190>"
      ]
     },
     "metadata": {},
     "output_type": "display_data"
    }
   ],
   "source": [
    "position_list = np.array([(500 + i, 500 + j) for i in range(-19, 21, 2) for j in range(-39, 41, 2)])\n",
    "genotypes = np.random.random((len(position_list),10))>0.5\n",
    "\n",
    "pos, gen = group_inds(position_list, genotypes, demes_x=10, demes_y=20)\n",
    "#print(genotypes[:,0]-gen[:,0])\n",
    "plot_positions(pos, gen)\n"
   ]
  },
  {
   "cell_type": "code",
   "execution_count": null,
   "metadata": {
    "collapsed": true
   },
   "outputs": [],
   "source": []
  }
 ],
 "metadata": {
  "kernelspec": {
   "display_name": "Python 2",
   "language": "python",
   "name": "python2"
  },
  "language_info": {
   "codemirror_mode": {
    "name": "ipython",
    "version": 2
   },
   "file_extension": ".py",
   "mimetype": "text/x-python",
   "name": "python",
   "nbconvert_exporter": "python",
   "pygments_lexer": "ipython2",
   "version": "2.7.12"
  }
 },
 "nbformat": 4,
 "nbformat_minor": 1
}
