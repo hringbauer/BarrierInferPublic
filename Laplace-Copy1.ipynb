{
 "cells": [
  {
   "cell_type": "code",
   "execution_count": 2,
   "metadata": {
    "collapsed": false,
    "deletable": true,
    "editable": true
   },
   "outputs": [],
   "source": [
    "import numpy as np\n",
    "import tensorflow as tf\n",
    "import pylab\n",
    "%matplotlib inline\n",
    "\n",
    "from tensorflow.python.framework import ops\n",
    "from tensorflow.python.ops import gen_nn_ops\n",
    "from random import shuffle # For shuffling start position list\n",
    "\n",
    "import cPickle as pickle\n",
    "import time\n",
    "import scipy.optimize as opt"
   ]
  },
  {
   "cell_type": "code",
   "execution_count": 24,
   "metadata": {
    "collapsed": false,
    "deletable": true,
    "editable": true
   },
   "outputs": [
    {
     "name": "stdout",
     "output_type": "stream",
     "text": [
      "Length of Data-Set: \n",
      "80\n",
      "Dim. of X-data: 500 x 2\n",
      "Mean p: \n",
      "[ 0.514  0.538  0.438  0.45   0.466  0.402  0.418  0.556  0.46   0.464\n",
      "  0.606  0.484  0.53   0.534  0.512  0.484  0.536  0.504  0.458  0.51\n",
      "  0.552  0.462  0.53   0.426  0.518  0.474  0.498  0.46   0.474  0.514\n",
      "  0.494  0.512  0.5    0.446  0.544  0.356  0.494  0.456  0.566  0.51\n",
      "  0.528  0.524  0.532  0.574  0.532  0.51   0.474  0.46   0.602  0.512\n",
      "  0.458  0.564  0.528  0.506  0.542  0.512  0.556  0.51   0.562  0.56\n",
      "  0.502  0.56   0.454  0.48   0.482  0.534  0.56   0.558  0.544  0.486\n",
      "  0.496  0.498  0.476  0.528  0.482  0.486  0.534  0.456  0.45   0.484\n",
      "  0.462  0.46   0.492  0.498  0.526  0.502  0.498  0.482  0.492  0.568\n",
      "  0.53   0.494  0.52   0.55   0.584  0.508  0.466  0.456  0.498  0.506]\n",
      "Dim. of Y-data: 500 x 100\n",
      "Assumed f-mean:\n",
      "[ 1.57079633  1.57079633  1.57079633  1.57079633  1.57079633  1.57079633\n",
      "  1.57079633  1.57079633  1.57079633  1.57079633]\n"
     ]
    },
    {
     "data": {
      "image/png": "[encoded data removed]",
      "text/plain": [
       "<matplotlib.figure.Figure at 0x7ba9090>"
      ]
     },
     "metadata": {},
     "output_type": "display_data"
    }
   ],
   "source": [
    "nr_inds = 600 # Nr. of Individuals to Check\n",
    "\n",
    "#X_data = np.loadtxt('./coordinates10.csv', delimiter='$').astype('float64') # Load the complete X-Data\n",
    "#Y_data = np.loadtxt('./data_genotypes10.csv', delimiter='$').astype('float64') # Load the complete Y-Data\n",
    "\n",
    "path1 = \"data_lists.p\"  # Load data from pickle file!\n",
    "x_data_sets, y_data_sets  = pickle.load(open(path1, \"rb\"))  # Load data from pickle file!\n",
    "print(\"Length of Data-Set: \")\n",
    "print(len(x_data_sets))\n",
    "\n",
    "data_set_nr=1\n",
    "X_data=x_data_sets[data_set_nr]\n",
    "Y_data=y_data_sets[data_set_nr]\n",
    "\n",
    "#print(len(X_data))\n",
    "inds=range(len(X_data))\n",
    "shuffle(inds)  # Random permutation of the indices. If not random draw - comment out\n",
    "inds=inds[:nr_inds]  # Only load first nr_inds\n",
    "\n",
    "\n",
    "# Only load first nr_inds entries\n",
    "X_data = X_data[inds,:]\n",
    "#X_data = np.array([[1,1],[1,0],[-1,1],[-1,0]])   # For debugging\n",
    "Y_data = Y_data[inds,:]\n",
    "#Y_data = np.array([[0, 1], [0, 0],[1, 1], [0, 0]])\n",
    "\n",
    "\n",
    "\n",
    "#./data_genotypes5.csv has mean p=0.2\n",
    "assert(len(X_data) == len(Y_data))\n",
    "\n",
    "N = X_data.shape[0]\n",
    "k = X_data.shape[1]\n",
    "print(\"Dim. of X-data: %i x %i\" % (N,k))\n",
    "M1 = Y_data.shape[0]\n",
    "nr_loci = Y_data.shape[1]\n",
    "\n",
    "\n",
    "p_mean = np.mean(Y_data, axis=0) # Empirical average for every loci\n",
    "#p_mean=np.mean(Y_data)\n",
    "print(\"Mean p: \")\n",
    "print(p_mean)\n",
    "\n",
    "# Change this for coordinates5.csv  (If mean is known)\n",
    "#f_mean = np.loadtxt('./mean_f6.csv', delimiter='$').astype('float64')[inds]   # Empirical f_mean\n",
    "#f_mean = np.log(p_mean) - np.log(1 - p_mean) # Does a Logit Transform\n",
    "#f_mean=np.log(0.2)-np.log(1.0-0.2)   # If known\n",
    "\n",
    "#print(len(f_mean))\n",
    "#print(len(f_mean))\n",
    "Y_data[Y_data < 0.5] = -1.0  # For the logit Link function\n",
    "print(\"Dim. of Y-data: %i x %i\" % (M1, nr_loci))\n",
    "\n",
    "#mean_paramss = np.array([f_mean for _ in range(nr_loci)]) # Initial Parameter for the mean-parameters\n",
    "#mean_paramss = np.array([0.0 for _ in range(nr_loci)])  # Set everything to 0\n",
    "mean_paramss = np.array([np.pi/2.0 for _ in range(nr_loci)])  # Set everything to 0.5. For ArcSin Model\n",
    "#mean_paramss = np.array(f_mean)\n",
    "print(\"Assumed f-mean:\")\n",
    "print(mean_paramss[:10])\n",
    "\n",
    "# Plot the data\n",
    "pylab.figure()\n",
    "pylab.title(\"Sample Distribution\", fontsize=30)\n",
    "pylab.scatter(X_data[:,0], X_data[:,1], label = \"Samples\",s=50)\n",
    "pylab.vlines(0, min(X_data[:,1]), max(X_data[:,1]),linewidth=2, color=\"red\", label=\"Barrier\")\n",
    "pylab.xlabel(\"X-Coordinate\", fontsize=30)\n",
    "pylab.ylabel(\"Y-Coordinate\", fontsize=30)\n",
    "pylab.xlim([-22,22])\n",
    "pylab.ylim([-30,30])\n",
    "pylab.tick_params(axis='both', which='both', bottom='off', \n",
    "                    top='off', labelbottom='off', right='off', left='off', labelleft='off')\n",
    "#pylab.legend(fontsize=20)\n",
    "pylab.show()"
   ]
  },
  {
   "cell_type": "code",
   "execution_count": 28,
   "metadata": {
    "collapsed": false,
    "deletable": true,
    "editable": true
   },
   "outputs": [],
   "source": [
    "###### The Full Kernel:\n",
    "def full_kernel_function(coords, l, a, c, sigma_sqrd=0):\n",
    "    '''Return barrier Kernel - describing reduced correlation across barrier\n",
    "    and increased correlation next to barrier. Coords is nx2 Numpy array.\n",
    "    Barrier is assumed to be at x=0'''\n",
    "    x = coords[:, 0]  # Extracts x-coords\n",
    "    nr_inds=tf.size(x)\n",
    "    \n",
    "    mask = tf.constant([-1.0, 1.0], dtype=tf.float64) # Mask used for reflecting coordinates\n",
    "    \n",
    "    coords_refl = coords * mask[None,:]  # Reflects the x-Coordinate\n",
    "    \n",
    "    g = tf.sign(x)  # Calculates Signum of x\n",
    "    same_side = (g[:,None] * g + 1) / 2  # Whether the x-Values are on the same side\n",
    "    #print(\"Same Side Vector: \")\n",
    "    #print(same_side)\n",
    "    \n",
    "    r_sqrd = tf.reduce_sum(((coords[:, None] - coords[None, :]) ** 2), reduction_indices=[2])  # Calculates pairwise Distance\n",
    "    r_refl_sqrd = tf.reduce_sum(((coords_refl[:, None] - coords[None, :]) ** 2), reduction_indices=[2])  # Calculates the reflected Distance \n",
    "    \n",
    "    # Calculate the normal Kernel:\n",
    "    cov_mat = a * tf.exp(-r_sqrd / (2. * l ** 2))  # Calculate the co-variance matrix. Added diagonal term\n",
    "    cov_mat_refl = a * tf.exp(-r_refl_sqrd / (2. * l ** 2))  # Calculate the covariance matrix for reflected coordinates.\n",
    "    \n",
    "    # Introduce the Covariance Function due to complete correlation\n",
    "    K1 = sigma_sqrd * tf.ones((nr_inds,nr_inds),dtype=tf.float64)\n",
    "    \n",
    "    # Calculate the full Covariance Matrix\n",
    "    K = same_side * (cov_mat + c * cov_mat_refl) + (1 - same_side) * (1 - c) * cov_mat + K1\n",
    "    \n",
    "    #print(\"Covariance Matrix: \")\n",
    "    #print(cov_tot)\n",
    "    #print(\"Eigenvalues: \")\n",
    "    #print(np.linalg.eig(cov_mat)[0])\n",
    "    return K\n",
    "\n",
    "def rbf_kernel_function(coords, l, a):\n",
    "    '''The usual exponential kernel function'''\n",
    "    K = a * tf.exp(-tf.reduce_sum(((coords[:, None] - coords[None, :]) ** 2) / (2 * l**2), reduction_indices=[2]))\n",
    "    return K"
   ]
  },
  {
   "cell_type": "code",
   "execution_count": 29,
   "metadata": {
    "collapsed": true,
    "deletable": true,
    "editable": true
   },
   "outputs": [],
   "source": [
    "# From Alex: To calculate the log determinant\n",
    "\n",
    "def py_func(func, inp, Tout, stateful=True, name=None, grad=None):\n",
    "    \n",
    "    # Need to generate a unique name to avoid duplicates:\n",
    "    rnd_name = 'PyFuncGrad' + str(np.random.randint(0, 1E+8))\n",
    "    \n",
    "    tf.RegisterGradient(rnd_name)(grad)\n",
    "    g = tf.get_default_graph()\n",
    "    with g.gradient_override_map({\"PyFunc\": rnd_name}):\n",
    "        return tf.py_func(func, inp, Tout, stateful=stateful, name=name)\n",
    "    \n",
    "def py_logdet(x, name=None):\n",
    "    \n",
    "    with ops.op_scope([x], name, \"Logdet\") as name:\n",
    "        logdet = py_func(lambda x: np.linalg.slogdet(x)[1],\n",
    "                         [x],\n",
    "                         [tf.float64],\n",
    "                         name=name,\n",
    "                         grad=_LogdetGrad)  # <-- here's the call to the gradient\n",
    "    return logdet[0]\n",
    "\n",
    "def _LogdetGrad(op, grad):\n",
    "    x = op.inputs[0]\n",
    "    return tf.matrix_inverse(x) * grad[:, None, None]"
   ]
  },
  {
   "cell_type": "code",
   "execution_count": 30,
   "metadata": {
    "collapsed": false,
    "deletable": true,
    "editable": true
   },
   "outputs": [
    {
     "name": "stdout",
     "output_type": "stream",
     "text": [
      "WARNING:tensorflow:tf.op_scope(values, name, default_name) is deprecated, use tf.name_scope(name, default_name, values)\n"
     ]
    }
   ],
   "source": [
    "# For sin^2(x/2) Link function\n",
    "def link_f(f):   # Define Link function\n",
    "    '''Sinus Squared Link function'''\n",
    "    pi=0.999*np.pi*tf.ones((N, nr_loci), dtype=tf.float64)  # Matrix - for values bigger than Pi. \n",
    "    #Allow for values slightly smaller than Pi to infinte likelihood (to avoid infinities)\n",
    "    z=0.001*tf.ones((N, nr_loci), dtype=tf.float64)       \n",
    "    # Matrix - for values smaller than 0. Allow for small values slightly bigger than 1 (to avoid infinities)\n",
    "    f=tf.where(f>np.pi, pi, f)       # Make values bigger than pi almost pi\n",
    "    f=tf.where(f<0, z, f)            # Make values smaller than 0 almost 0\n",
    "    \n",
    "    y = tf.sin(0.5*f) ** 2        # Do the actual calculation\n",
    "    return y\n",
    "\n",
    "with tf.device('/gpu:0'):\n",
    "    X = tf.Variable(dtype=tf.float64, initial_value = X_data, trainable=False)\n",
    "    Y = tf.Variable(dtype=tf.float64, initial_value = Y_data, trainable=False)\n",
    "    F = tf.Variable(dtype=tf.float64, initial_value = np.random.normal(0.0, 0.1, (N, nr_loci)).astype('float64'),\n",
    "                    trainable=True)\n",
    "\n",
    "    #hyper_params = tf.placeholder(shape = [3 + nr_loci], dtype=tf.float64)      # HyperParameters for the Kernel\n",
    "    hyper_params = tf.placeholder(shape=[4], dtype = tf.float64)                # The Kernel Hyper Parameters\n",
    "    hyper_params_means =tf.placeholder(shape=[nr_loci], dtype = tf.float64)      # The Mean Hyper Parameters\n",
    "    \n",
    "    # First two are for the kernel; nr_loci are for the means of the GRFs!\n",
    "    #mean_params = tf.placeholder(shape=[nr_loci], dtype=tf.float64)  # HyperParameters for the mean Values\n",
    "    \n",
    "    a = tf.abs(hyper_params[0])           # The Parameter for the absolute correlation\n",
    "    l = tf.abs(hyper_params[1])           # The Parameter for the length scale\n",
    "    c = tf.abs(hyper_params[2])           # The Parameter for the Barrier strenght\n",
    "    sigma_sqrd = tf.abs(hyper_params[3])  # The Parameter for the overall deviation from the mean (Gaussian Model)\n",
    "    \n",
    "    #mean_param = hyper_params[3:]   # The mean parameters\n",
    "    mean_param = hyper_params_means\n",
    "    \n",
    "    eye = tf.eye(N, dtype=tf.float64)\n",
    "\n",
    "    # The Kernel for the classical Covariance Matrix\n",
    "    #K = a * tf.exp(-tf.reduce_sum(((X[:, None] - X[None, :]) ** 2) / (2 * l**2), reduction_indices=[2])) + 0.00001*eye\\\n",
    "    #0.00001 * tf.eye(N, dtype=tf.float64) # Calculate Matrix of Covariances\n",
    "    \n",
    "    # The Kernel for the full covariance Matrix:\n",
    "    K = full_kernel_function(X, l, a, c, sigma_sqrd) + 0.00001 * eye # Add identity to make positive definite\n",
    "    #K = rbf_kernel_function(X, l, a) + 0.00001 * eye  # Add identity to make positive definite\n",
    " \n",
    "    \n",
    "    f_tot = F + mean_param[None, :]    # Adds mean term; None is at position of an individual\n",
    "    #f_tot= F + f_mean[None,:]          # Adds empirical mean term\n",
    "    #f_tot = F + f_mean                 # For the case that there is a single Value\n",
    "    p = link_f(f_tot)    # Calculate novel p, assuming sin^2 Link Function\n",
    "    Kinv_F = tf.matrix_solve(K, F)      # Calculate K^(-1)*F\n",
    "    \n",
    "    g0 = tf.greater(Y, 0.5)        # Values where Y is greater than 0; i.e. data is 1.\n",
    "    g0 = tf.cast(g0, tf.float64)   # Transform so that can be multiplied\n",
    "\n",
    "    y_f= g0*p + (1-g0)*(1-p)  # Probability of observing y given probabilities p\n",
    "    \n",
    "    data_fit = tf.reduce_sum(tf.log(y_f), reduction_indices=[0])   # Calculate Data Fit: Check  \n",
    "    prior_fit = -0.5 * tf.reduce_sum(F * Kinv_F, reduction_indices=[0])          # Calculate 1st term of prior probability: Check\n",
    "    \n",
    "    logL = tf.reduce_sum(data_fit + prior_fit) # Modulo terms not depending on f: Check\n",
    "    \n",
    "    d1 = 1.0/tf.tan(0.5*f_tot)   # Gradient coming from f_tot (for y=1)\n",
    "    d0 = -tf.tan(0.5*f_tot)      # Gradient comfing from t_tot (for y=0)\n",
    "    \n",
    "    grad1 = g0*d1 + (1-g0)*d0  # First part of the gradient\n",
    "    \n",
    "    g =  grad1 - Kinv_F       # Calculate Matrix for Gradients Check\n",
    "    \n",
    "    h1 = -0.5 / ((tf.sin(0.5 * f_tot))**2) # Minus second derivative of data. (for y=1)\n",
    "    h0 = -1.0 / (1 + tf.cos(f_tot))        # Second derivative of data (for y=0)\n",
    "    W = - g0 * h1 - (1 - g0) * h0       # Calculate first part of Hessian. It is diagonal (but here diagonal in every column)\n",
    "    \n",
    "    lhs = -K[:, :, None] * W[None, :, :] - tf.eye(N, dtype=tf.float64)[:, :, None] # Check (HEAD-ACHE)\n",
    "    #lhs = -K[:, :, None] * W[None, :, :] - eye[:, :, None] \n",
    "    rhs = tf.matmul(K, g)\n",
    "    \n",
    "    update = tf.matrix_solve(tf.transpose(lhs, [2, 0, 1]), tf.transpose(rhs, [1, 0])[:, :, None])[:, :, 0]\n",
    "    update = tf.transpose(update)\n",
    "    \n",
    "    opt_op = F.assign(F - update)\n",
    "    \n",
    "    #####\n",
    "    \n",
    "    B = (W[:, None, :] ** 0.5) * K[:, :, None] * (W[None, :, :] ** 0.5) + tf.eye(N, dtype=tf.float64)[:, :, None]  # Check\n",
    "    #B = (W[:, None, :] ** 0.5) * K[:, :, None] * (W[None, :, :] ** 0.5) + eye[:, :, None] \n",
    "    \n",
    "    logdet = tf.reduce_sum(py_logdet(tf.transpose(B, [2, 0, 1])))  # Factor of 2??\n",
    "    \n",
    "    margL = logL - 0.5 * logdet\n",
    "    \n",
    "    ##### Gradients and Hessian #######################3\n",
    "    \n",
    "    grad = tf.gradients(margL, hyper_params)\n",
    "    #hessian = tf.hessians(margL, hyper_params)  # Comment out to avoid computational overhead."
   ]
  },
  {
   "cell_type": "code",
   "execution_count": 31,
   "metadata": {
    "collapsed": false,
    "deletable": true,
    "editable": true
   },
   "outputs": [],
   "source": [
    "config = tf.ConfigProto()\n",
    "config.gpu_options.per_process_gpu_memory_fraction = 1.0\n",
    "config.allow_soft_placement = True"
   ]
  },
  {
   "cell_type": "code",
   "execution_count": null,
   "metadata": {
    "collapsed": false,
    "deletable": true,
    "editable": true
   },
   "outputs": [],
   "source": [
    "opt.fmin_l_bfgs_b?"
   ]
  },
  {
   "cell_type": "code",
   "execution_count": null,
   "metadata": {
    "collapsed": false,
    "deletable": true,
    "editable": true
   },
   "outputs": [
    {
     "name": "stdout",
     "output_type": "stream",
     "text": [
      "\n",
      "Inside Function \n",
      "\n",
      "[  1.83000000e-02   1.29000000e+01   1.00000000e-02   1.00000000e-02]\n",
      "Likelihood: \n",
      "-34515.3728701\n",
      "\n",
      "Inside Function \n",
      "\n",
      "[  1.00000000e-04   1.21530267e+01   1.00000000e+00   0.00000000e+00]\n",
      "Likelihood: \n",
      "-34653.2313414\n",
      "\n",
      "Inside Function \n",
      "\n",
      "[  1.32929555e-02   1.26944984e+01   2.82361210e-01   7.24887667e-03]\n"
     ]
    }
   ],
   "source": [
    "### Optimization Run with BFGS\n",
    "#hyper_paramss = np.array([0.02, 15, 0.2]) # The initial values for a & L & c // 0.02 25 0.8\n",
    "mps = mean_paramss\n",
    "initial_values = np.array([0.0183, 12.9, 0.01, 0.01]) # Optimize with the right initial Values\n",
    "\n",
    "#kk =  np.array([0.012, 20] + f)\n",
    "\n",
    "with tf.Session(config=config) as sess:\n",
    "    sess.run(tf.global_variables_initializer())\n",
    "    \n",
    "        \n",
    "    for _ in range(5):   # First optimize the f locally with the initial Values\n",
    "        _, = sess.run([opt_op], {hyper_params: initial_values, hyper_params_means: mps})  \n",
    "\n",
    "    def fg(x):\n",
    "        print(\"\\nInside Function \\n\")\n",
    "        print(x)\n",
    "        \n",
    "        for _ in range(5):   # Optimize the f locally\n",
    "            _, = sess.run([opt_op], {hyper_params: x, hyper_params_means: mps}) # Optimize for right Hyper_params\n",
    "        f, g = sess.run([margL, grad], {hyper_params: x, hyper_params_means: mps})\n",
    "        print(\"Likelihood: \")\n",
    "        print(f)\n",
    "        return -f, -g[0]\n",
    "\n",
    "    result = opt.fmin_l_bfgs_b(fg, initial_values, disp=0,\n",
    "                               bounds=[(0.0001, 1), (0.01, 100), (0, 1),(0,1)])\n",
    "    hyper_paramss = result[0]\n",
    "\n",
    "    print(['%.4f %.2f %.2f' % (hyper_paramss[0], hyper_paramss[1], hyper_paramss[2])])\n",
    "\n",
    "        #if i < 3:  # First three times just run to optimize f_i\n",
    "        #    continue\n",
    "        \n",
    "        #u = np.matmul(np.linalg.inv(h[0]), g[0]) \n",
    "        #hyper_paramss -= u\n",
    "        #print(hyper_paramss, u)\n",
    "    \n",
    "    # Code for calculating empirical Fisher-Information Matrix:\n",
    "#fisher_info = np.matrix(h[0])\n",
    "#stds = np.sqrt(np.diag(-fisher_info.I)) # Calculates the Standard Deviations (Sqrt of Variance)\n",
    "#print(\"Standard Deviations: \")\n",
    "#print(stds)"
   ]
  },
  {
   "cell_type": "code",
   "execution_count": null,
   "metadata": {
    "collapsed": false,
    "deletable": true,
    "editable": true
   },
   "outputs": [],
   "source": [
    "mps = mean_paramss\n",
    "hyper_paramss = [0.01,25,0.5]\n",
    "\n",
    "with tf.Session(config=config) as sess:\n",
    "    sess.run(tf.global_variables_initializer())\n",
    "    \n",
    "    for j in range(5):\n",
    "        _ = sess.run([opt_op], {hyper_params: hyper_paramss, hyper_params_means: mps}) \n",
    "    \n",
    "        \n",
    "    def f(x):\n",
    "        print(\"\\nParameters: \")\n",
    "        print(x)\n",
    "        \n",
    "        for i in range(2):\n",
    "            _, = sess.run([opt_op,], {hyper_params: x, hyper_params_means: mps})   # Optimize the F 2x (Very fast; quadratic convergence)\n",
    "            \n",
    "        f, = sess.run([margL,], {hyper_params: x, hyper_params_means: mps})    # Calculates the Likelihood\n",
    "        print(\"Likelihood: \")\n",
    "        print(f)\n",
    "        return -f # Returns the negative function Value\n",
    "\n",
    "    result = opt.fmin(f, hyper_paramss, disp=1, ftol=1.0)   # Do 1 iteration\n",
    "    hyper_paramss_est = np.array([result[0], result[1], result[2]])\n",
    "    g, h = sess.run([grad, hessian], {hyper_params: hyper_paramss_est, hyper_params_means: mps})\n",
    "    \n",
    "    fisher_info = np.matrix(h[0])\n",
    "    stds = np.sqrt(np.diag(-fisher_info.I)) # Calculates the Standard Deviations (Sqrt of Variance)\n",
    "    \n",
    "    res=result[:3]\n",
    "    print(res)\n",
    "    print(stds)"
   ]
  },
  {
   "cell_type": "code",
   "execution_count": null,
   "metadata": {
    "collapsed": false,
    "deletable": true,
    "editable": true
   },
   "outputs": [],
   "source": [
    "with tf.Session(config=config) as sess:\n",
    "    sess.run(tf.global_variables_initializer())\n",
    "    \n",
    "    for i in range(10):\n",
    "        tic = time.time()\n",
    "        sess.run(margL, {hyper_params: [1.0, 1.0, 1.0], hyper_params_means: np.zeros(nr_loci)})\n",
    "        toc = time.time()\n",
    "        t1 = toc - tic\n",
    "        \n",
    "        tic = time.time()\n",
    "        sess.run(grad, {hyper_params: [1.0, 1.0, 1.0], hyper_params_means: np.zeros(nr_loci)})\n",
    "        toc = time.time()\n",
    "        t2 = toc - tic\n",
    "        \n",
    "        tic = time.time()\n",
    "        sess.run(hessian, {hyper_params: [1.0, 1.0, 1.0], hyper_params_means: np.zeros(nr_loci)})\n",
    "        toc = time.time()\n",
    "        t3 = toc - tic\n",
    "        \n",
    "        print(t1, t2, t3)"
   ]
  },
  {
   "cell_type": "code",
   "execution_count": null,
   "metadata": {
    "collapsed": false,
    "deletable": true,
    "editable": true
   },
   "outputs": [],
   "source": [
    "for i in range(len(hyper_paramss)):\n",
    "    print(\"Hyperparameter %i: \" %i)\n",
    "    print(\"MLE Estimate: %.6f\" % hyper_paramss[i])\n",
    "    print(\"Standard Deviation: %.6f\" % stds[i])"
   ]
  },
  {
   "cell_type": "code",
   "execution_count": null,
   "metadata": {
    "collapsed": false,
    "deletable": true,
    "editable": true
   },
   "outputs": [],
   "source": [
    "#a_list = np.logspace(-1.5, -0.5, 10)   # Original Values\n",
    "\n",
    "a_list=np.logspace(-3,-1.5,10)\n",
    "l_list = np.logspace(0.5, 2, 10)\n",
    "#c_list = np.logspace(-0.4, 0, 10)\n",
    "c_list =np.linspace(0,1,10)\n",
    "\n",
    "#a_list = np.logspace(-3, -0.5, 10)\n",
    "#l_list = np.logspace(0, 2, 10)\n",
    "\n",
    "\n",
    "print(a_list)\n",
    "print(l_list)\n",
    "print(c_list)"
   ]
  },
  {
   "cell_type": "code",
   "execution_count": null,
   "metadata": {
    "collapsed": false,
    "deletable": true,
    "editable": true,
    "scrolled": false
   },
   "outputs": [],
   "source": [
    "res = []\n",
    "j=0\n",
    "print(\"Mean Parameters: \")\n",
    "print(mean_paramss[:10])\n",
    "with tf.Session(config=config) as sess:\n",
    "    aa = 0.02  # The true Value\n",
    "    #cc = 0.0 # The value for the barrier\n",
    "    #for aa in a_list:\n",
    "    for cc in c_list:  # Replaced aa with cc\n",
    "        for ll in l_list:\n",
    "            print(\"Doing run: %i\" % j)\n",
    "            j+=1\n",
    "    \n",
    "            sess.run(tf.global_variables_initializer())   # Changed to global_variables_initializer\n",
    "\n",
    "            prev = None\n",
    "            for i in range(20):\n",
    "                #hyper_paramss = np.array([aa,ll])\n",
    "                #hyper_paramss = np.append(hyper_paramss, mean_paramss)\n",
    "                \n",
    "                hyper_paramss = np.array([aa, ll, cc])\n",
    "                #hyper_paramss = np.append(hyper_paramss, mean_paramss)\n",
    "                \n",
    "                r = sess.run([opt_op, update, logL, margL], {hyper_params: hyper_paramss, hyper_params_means: mean_paramss})\n",
    "                if prev and np.abs(prev - r[-1]) < 0.01:\n",
    "                    break\n",
    "                prev = r[-1]\n",
    "            print(\"Tested a: %4f\" % aa)\n",
    "            print(\"Tested l: %4f\" % ll)\n",
    "            print(\"Tested c: %4f\" % cc)\n",
    "            print(\"Marginal Likelihood: %4f\" % r[-1])\n",
    "            res.append(r[-1])"
   ]
  },
  {
   "cell_type": "code",
   "execution_count": null,
   "metadata": {
    "collapsed": false,
    "deletable": true,
    "editable": true
   },
   "outputs": [],
   "source": [
    "surface = np.array(res).reshape((10, 10))\n",
    "pylab.pcolormesh(l_list, a_list, surface)\n",
    "#pylab.pcolormesh(, a_list, surface)\n",
    "pylab.xscale('log')\n",
    "#pylab.yscale('log')\n",
    "pylab.xlabel('l')\n",
    "pylab.ylabel('a')\n",
    "pylab.colorbar()\n",
    "#pylab.plot(25, 0.1, 'ko', linewidth=5)\n",
    "pylab.plot(15, 0.02, 'ko', linewidth=5)"
   ]
  },
  {
   "cell_type": "code",
   "execution_count": null,
   "metadata": {
    "collapsed": false,
    "deletable": true,
    "editable": true
   },
   "outputs": [],
   "source": [
    "pylab.figure()\n",
    "levels = np.arange(max(res) - 30, max(res) + 1, 2)  # Every two likelihood units\n",
    "#ax=pylab.contourf(l_list, a_list, surface, alpha=0.9, levels=levels)\n",
    "ax=pylab.contourf(l_list, a_list, surface, alpha=0.9,levels=levels)\n",
    "\n",
    "# plt.clabel(ax, inline=1, fontsize=10)\n",
    "cb=pylab.colorbar(ax, format=\"%i\")\n",
    "cb.ax.tick_params(labelsize=16)\n",
    "pylab.title(\"Log Likelihood Surface\", fontsize=20)\n",
    "pylab.xlabel(\"Parameter 1\", fontsize=20) # l\n",
    "pylab.ylabel(\"Parameter 2\", fontsize=20) # a\n",
    "pylab.xticks(fontsize=16)\n",
    "pylab.yticks(fontsize=16)\n",
    "pylab.xscale('log')\n",
    "pylab.tick_params(axis='both', which='both', bottom='off', \n",
    "                    top='off', labelbottom='off', right='off', left='off', labelleft='off')\n",
    "#pylab.yscale('log')\n",
    "pylab.plot(15, 0.02, 'ko', linewidth=5, label=\"True Value\")\n",
    "pylab.legend()\n",
    "pylab.tight_layout()\n",
    "pylab.show()"
   ]
  },
  {
   "cell_type": "code",
   "execution_count": null,
   "metadata": {
    "collapsed": false,
    "deletable": true,
    "editable": true
   },
   "outputs": [],
   "source": [
    "aa, ll = 1, 1\n",
    "kk = np.array([1, 1, 0.8])   #a,l,c\n",
    "kk = np.append(kk, mean_paramss)\n",
    "print(\"Hyper Parameters: \")\n",
    "print(kk[:10])"
   ]
  },
  {
   "cell_type": "code",
   "execution_count": null,
   "metadata": {
    "collapsed": false,
    "deletable": true,
    "editable": true
   },
   "outputs": [],
   "source": [
    "# Single Run; where optimization is computed.\n",
    "with tf.Session(config=config) as sess:\n",
    "    #sess.run(tf.initialize_all_variables())\n",
    "    sess.run(tf.global_variables_initializer())   # Update by Harald\n",
    "    \n",
    "    for i in range(5):\n",
    "        sess.run(opt_op, {hyper_params: kk})\n",
    "    r = sess.run([f_tot, F, logdet, margL, K], {hyper_params: kk})\n",
    "print(\"f_tot:\")\n",
    "print(r[0])\n",
    "print(\"F:\")\n",
    "print(r[1])\n",
    "print(\"logdet:\")\n",
    "print(r[2])\n",
    "print(\"Marg.L\")\n",
    "print(r[3])\n",
    "print(\"K\")\n",
    "print(r[4])"
   ]
  },
  {
   "cell_type": "code",
   "execution_count": null,
   "metadata": {
    "collapsed": true,
    "deletable": true,
    "editable": true
   },
   "outputs": [],
   "source": []
  },
  {
   "cell_type": "code",
   "execution_count": null,
   "metadata": {
    "collapsed": false,
    "deletable": true,
    "editable": true
   },
   "outputs": [],
   "source": [
    "x, y, z = X_data[:nr_inds, 0], X_data[:nr_inds, 1], r[0][:,1]\n",
    "#x=np.linspace(0, 1, 20)\n",
    "#print(len(x))\n",
    "print(len(x))\n",
    "print(len(y))\n",
    "print(len(z))"
   ]
  },
  {
   "cell_type": "code",
   "execution_count": null,
   "metadata": {
    "collapsed": false,
    "deletable": true,
    "editable": true
   },
   "outputs": [],
   "source": [
    "pylab.pcolormesh(x, y, z.reshape(21,21))\n",
    "pylab.colorbar()"
   ]
  },
  {
   "cell_type": "code",
   "execution_count": null,
   "metadata": {
    "collapsed": false,
    "deletable": true,
    "editable": true
   },
   "outputs": [],
   "source": [
    "x.shape"
   ]
  },
  {
   "cell_type": "code",
   "execution_count": null,
   "metadata": {
    "collapsed": false,
    "deletable": true,
    "editable": true
   },
   "outputs": [],
   "source": [
    "y.shape"
   ]
  },
  {
   "cell_type": "code",
   "execution_count": null,
   "metadata": {
    "collapsed": false,
    "deletable": true,
    "editable": true
   },
   "outputs": [],
   "source": [
    "z.shape"
   ]
  },
  {
   "cell_type": "code",
   "execution_count": null,
   "metadata": {
    "collapsed": false,
    "deletable": true,
    "editable": true
   },
   "outputs": [],
   "source": [
    "961 ** 0.5"
   ]
  },
  {
   "cell_type": "code",
   "execution_count": null,
   "metadata": {
    "collapsed": false,
    "deletable": true,
    "editable": true
   },
   "outputs": [],
   "source": [
    "with tf.device('/cpu:0'):\n",
    "    X = tf.Variable(dtype=tf.float64, initial_value = 0, trainable=False)"
   ]
  },
  {
   "cell_type": "code",
   "execution_count": 15,
   "metadata": {
    "collapsed": false,
    "deletable": true,
    "editable": true
   },
   "outputs": [],
   "source": [
    "with tf.device('/cpu:0'):   # For debugging\n",
    "    c = 3*tf.ones((5,2), dtype=tf.float64)\n",
    "    d = tf.constant([-1,1], dtype=tf.float64)\n",
    "    e = c * d[None,:]\n",
    "    f = c[:,0]\n",
    "    g = tf.ones((5,5))\n",
    "    h = tf.size(g[:,0])"
   ]
  },
  {
   "cell_type": "code",
   "execution_count": 16,
   "metadata": {
    "collapsed": false,
    "deletable": true,
    "editable": true
   },
   "outputs": [],
   "source": [
    "with tf.Session() as sess:\n",
    "    sess.run(tf.global_variables_initializer())\n",
    "    r=sess.run([c,d,e,f,g,h])"
   ]
  },
  {
   "cell_type": "code",
   "execution_count": 17,
   "metadata": {
    "collapsed": false,
    "deletable": true,
    "editable": true
   },
   "outputs": [
    {
     "data": {
      "text/plain": [
       "5"
      ]
     },
     "execution_count": 17,
     "metadata": {},
     "output_type": "execute_result"
    }
   ],
   "source": [
    "r[-1]"
   ]
  },
  {
   "cell_type": "code",
   "execution_count": null,
   "metadata": {
    "collapsed": false,
    "deletable": true,
    "editable": true
   },
   "outputs": [],
   "source": [
    "tf.__version__"
   ]
  },
  {
   "cell_type": "code",
   "execution_count": null,
   "metadata": {
    "collapsed": false,
    "deletable": true,
    "editable": true
   },
   "outputs": [],
   "source": [
    "logdet"
   ]
  },
  {
   "cell_type": "code",
   "execution_count": null,
   "metadata": {
    "collapsed": false,
    "deletable": true,
    "editable": true
   },
   "outputs": [],
   "source": [
    "with tf.Session() as sess:\n",
    "    sess.run(tf.global_variables_initializer())\n",
    "    r = sess.run(logdet, {a: 1.0, l: 1.0})"
   ]
  },
  {
   "cell_type": "code",
   "execution_count": null,
   "metadata": {
    "collapsed": false,
    "deletable": true,
    "editable": true
   },
   "outputs": [],
   "source": [
    "r"
   ]
  },
  {
   "cell_type": "code",
   "execution_count": null,
   "metadata": {
    "collapsed": true,
    "deletable": true,
    "editable": true
   },
   "outputs": [],
   "source": []
  }
 ],
 "metadata": {
  "kernelspec": {
   "display_name": "Python 2",
   "language": "python",
   "name": "python2"
  },
  "language_info": {
   "codemirror_mode": {
    "name": "ipython",
    "version": 2
   },
   "file_extension": ".py",
   "mimetype": "text/x-python",
   "name": "python",
   "nbconvert_exporter": "python",
   "pygments_lexer": "ipython2",
   "version": "2.7.12"
  }
 },
 "nbformat": 4,
 "nbformat_minor": 1
}
