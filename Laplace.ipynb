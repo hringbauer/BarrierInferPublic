{
 "cells": [
  {
   "cell_type": "code",
   "execution_count": 1,
   "metadata": {
    "collapsed": true
   },
   "outputs": [],
   "source": [
    "import numpy as np\n",
    "import tensorflow as tf\n",
    "import pylab\n",
    "%matplotlib inline\n",
    "\n",
    "from tensorflow.python.framework import ops\n",
    "from tensorflow.python.ops import gen_nn_ops"
   ]
  },
  {
   "cell_type": "code",
   "execution_count": 2,
   "metadata": {
    "collapsed": false
   },
   "outputs": [],
   "source": [
    "X_data = np.loadtxt('./coordinates1.csv', delimiter='$').astype('float64')[:,:] # Only load first 400 entries\n",
    "#X_data /= np.max(X_data)    # Divide by the maximum WHY??\n",
    "\n",
    "Y_data = np.loadtxt('./data_genotypes1.csv', delimiter='$').astype('float64')[:,:]"
   ]
  },
  {
   "cell_type": "code",
   "execution_count": 3,
   "metadata": {
    "collapsed": false
   },
   "outputs": [
    {
     "name": "stdout",
     "output_type": "stream",
     "text": [
      "Dim. of X-data: 961 x 2\n",
      "Dim. of Y-data: 961 x 100\n"
     ]
    }
   ],
   "source": [
    "assert(len(X_data) == len(Y_data))\n",
    "\n",
    "N = X_data.shape[0]\n",
    "k = X_data.shape[1]\n",
    "print(\"Dim. of X-data: %i x %i\" % (N,k))\n",
    "M1 = Y_data.shape[0]\n",
    "M = Y_data.shape[1]\n",
    "Y_data[Y_data < 0.5] = -1.0\n",
    "print(\"Dim. of Y-data: %i x %i\" % (M1,M))"
   ]
  },
  {
   "cell_type": "code",
   "execution_count": 4,
   "metadata": {
    "collapsed": true
   },
   "outputs": [],
   "source": [
    "def py_func(func, inp, Tout, stateful=True, name=None, grad=None):\n",
    "    \n",
    "    # Need to generate a unique name to avoid duplicates:\n",
    "    rnd_name = 'PyFuncGrad' + str(np.random.randint(0, 1E+8))\n",
    "    \n",
    "    tf.RegisterGradient(rnd_name)(grad)\n",
    "    g = tf.get_default_graph()\n",
    "    with g.gradient_override_map({\"PyFunc\": rnd_name}):\n",
    "        return tf.py_func(func, inp, Tout, stateful=stateful, name=name)\n",
    "    \n",
    "def py_logdet(x, name=None):\n",
    "    \n",
    "    with ops.op_scope([x], name, \"Logdet\") as name:\n",
    "        logdet = py_func(lambda x: np.linalg.slogdet(x)[1],\n",
    "                         [x],\n",
    "                         [tf.float64],\n",
    "                         name=name,\n",
    "                         grad=_LogdetGrad)  # <-- here's the call to the gradient\n",
    "    return logdet[0]\n",
    "\n",
    "def _LogdetGrad(op, grad):\n",
    "    x = op.inputs[0]\n",
    "    return tf.matrix_inverse(x) * grad"
   ]
  },
  {
   "cell_type": "code",
   "execution_count": 5,
   "metadata": {
    "collapsed": false
   },
   "outputs": [
    {
     "name": "stdout",
     "output_type": "stream",
     "text": [
      "WARNING:tensorflow:tf.op_scope(values, name, default_name) is deprecated, use tf.name_scope(name, default_name, values)\n"
     ]
    }
   ],
   "source": [
    "with tf.device('/cpu:0'):\n",
    "    X = tf.Variable(dtype=tf.float64, initial_value=X_data, trainable=False)\n",
    "    Y = tf.Variable(dtype=tf.float64, initial_value=Y_data, trainable=False)\n",
    "    F = tf.Variable(dtype=tf.float64, initial_value=np.random.normal(0.0, 0.1, (N, M)).astype('float64'),\n",
    "                    trainable=True)\n",
    "\n",
    "    kernel_params = tf.placeholder(shape=[2], dtype=tf.float64)\n",
    "    l = kernel_params[0]\n",
    "    a = kernel_params[1]\n",
    "    \n",
    "    eye=tf.eye(N)\n",
    "\n",
    "    K = a * tf.exp(-tf.reduce_sum(((X[:, None] - X[None, :]) ** 2) / (2 * l **2), reduction_indices=[2])) + \\\n",
    "        0.00001 * tf.eye(N, dtype=tf.float64) # Calculate Matrix of Covariances\n",
    "    \n",
    "    #K = a * tf.exp(-tf.reduce_sum(((X[:, None] - X[None, :]) ** 2) / (2 * l), reduction_indices=[2])) + \\\n",
    "       # 0.0001 * eye                \n",
    "\n",
    "    p = tf.nn.sigmoid(F)            # Calculate probabilities(assuming sigmoid link function)\n",
    "    Kinv_F = tf.matrix_solve(K, F)  # Calculate K^(-1)*F\n",
    "    \n",
    "    data_fit = -tf.reduce_sum(tf.log(1 + tf.exp(-Y * F)), reduction_indices=[0]) # Calculate Data Fit: Check  \n",
    "    prior_fit = -0.5 * tf.reduce_sum(F * Kinv_F, reduction_indices=[0])          # Calcualte 1st term of prior probability: Check\n",
    "    \n",
    "    logL = tf.reduce_sum(data_fit + prior_fit) # Modulo terms not depending on f: Check\n",
    "    \n",
    "    g =  (0.5 * (Y + 1) - p) - Kinv_F # Calculate Matrix for Gradients Check\n",
    "    \n",
    "    W = p * (1 - p)        # Calculate first part of Hessia. It is diagonal (but here diagonal in every column)\n",
    "    lhs = -K[:, :, None] * W[None, :, :] - tf.eye(N, dtype=tf.float64)[:, :, None] # Check (HEADACHE)\n",
    "    #lhs = -K[:, :, None] * W[None, :, :] - eye[:, :, None] \n",
    "    rhs = tf.matmul(K, g)\n",
    "    \n",
    "    update = tf.matrix_solve(tf.transpose(lhs, [2, 0, 1]), tf.transpose(rhs, [1, 0])[:, :, None])[:, :, 0]\n",
    "    update = tf.transpose(update)\n",
    "    \n",
    "    opt_op = F.assign(F - update)\n",
    "    \n",
    "    #####\n",
    "    \n",
    "    B = (W[:, None, :] ** 0.5) * K[:, :, None] * (W[None, :, :] ** 0.5) + tf.eye(N, dtype=tf.float64)[:, :, None]  # Check\n",
    "    #B = (W[:, None, :] ** 0.5) * K[:, :, None] * (W[None, :, :] ** 0.5) + eye[:, :, None] \n",
    "    \n",
    "    logdet = tf.reduce_sum(py_logdet(tf.transpose(B, [2, 0, 1])))  # Factor of 2??\n",
    "    \n",
    "    margL = logL - 0.5 * logdet\n",
    "    \n",
    "    \n",
    "    ##### Gradients and Hessian #######################3\n",
    "    \n",
    "    grad = tf.gradients(margL, kernel_params)\n",
    "    hessian = tf.hessians(margL, kernel_params)"
   ]
  },
  {
   "cell_type": "code",
   "execution_count": null,
   "metadata": {
    "collapsed": false
   },
   "outputs": [],
   "source": [
    "config = tf.ConfigProto()\n",
    "config.gpu_options.per_process_gpu_memory_fraction = 0.01"
   ]
  },
  {
   "cell_type": "code",
   "execution_count": null,
   "metadata": {
    "collapsed": false
   },
   "outputs": [],
   "source": [
    "### Single Run\n",
    "aa, ll = 0.1, 25\n",
    "\n",
    "with tf.Session(config=config) as sess:\n",
    "    sess.run(tf.global_variables_initializer())\n",
    "    r = sess.run([opt_op, update, logL, margL], {a: aa, l: ll})\n",
    "    print(r[-1])    # Print marginal Likelihood"
   ]
  },
  {
   "cell_type": "code",
   "execution_count": null,
   "metadata": {
    "collapsed": false
   },
   "outputs": [],
   "source": [
    "a_list = 0.01 * 2 ** np.arange(10)   # 10\n",
    "l_list = 1.0 * 2 ** np.arange(10)  # 10\n",
    "\n",
    "print(a_list)\n",
    "print(l_list)\n",
    "\n",
    "a_list = np.logspace(-1.5, -0.5, 10)\n",
    "l_list = np.logspace(1, 2, 10)\n",
    "print(a_list)\n",
    "print(l_list)"
   ]
  },
  {
   "cell_type": "code",
   "execution_count": null,
   "metadata": {
    "collapsed": false,
    "scrolled": true
   },
   "outputs": [],
   "source": [
    "res = []\n",
    "j=0\n",
    "with tf.Session(config=config) as sess:\n",
    "    for aa in a_list:\n",
    "        for ll in l_list:\n",
    "            print(\"Doing run: %i\" % j)\n",
    "            j+=1\n",
    "    \n",
    "            sess.run(tf.global_variables_initializer())   # Changed to global_variables_initializer\n",
    "\n",
    "            prev = None\n",
    "            for i in range(20):\n",
    "                r = sess.run([opt_op, update, logL, margL], {a: aa, l:ll})\n",
    "                if prev and np.abs(prev - r[-1]) < 0.01:\n",
    "                    break\n",
    "                prev = r[-1]\n",
    "            print(\"Tested a: %4f\" % aa)\n",
    "            print(\"Tested l: %4f\" % ll)\n",
    "            print(\"Likelihood: %4f\" % r[-1])\n",
    "            res.append(r[-1])"
   ]
  },
  {
   "cell_type": "code",
   "execution_count": null,
   "metadata": {
    "collapsed": false
   },
   "outputs": [],
   "source": [
    "surface = np.array(res).reshape((10, 10))\n",
    "pylab.pcolormesh(l_list, a_list, surface)\n",
    "pylab.xscale('log')\n",
    "pylab.yscale('log')\n",
    "pylab.xlabel('l')\n",
    "pylab.ylabel('a')\n",
    "pylab.colorbar()\n",
    "pylab.plot(25, 0.1, 'ko', linewidth=5)"
   ]
  },
  {
   "cell_type": "code",
   "execution_count": null,
   "metadata": {
    "collapsed": false
   },
   "outputs": [],
   "source": [
    "pylab.figure()\n",
    "levels = np.arange(max(res) - 30, max(res) + 1, 2)  # Every two likelihood units\n",
    "ax=pylab.contourf(l_list, a_list, surface, alpha=0.9, levels=levels)\n",
    "\n",
    "# plt.clabel(ax, inline=1, fontsize=10)\n",
    "pylab.colorbar(ax, format=\"%i\")\n",
    "pylab.title(\"Log Likelihood Surface\", fontsize=20)\n",
    "pylab.xlabel(\"l\", fontsize=20)\n",
    "pylab.ylabel(\"a\", fontsize=20)\n",
    "pylab.xscale('log')\n",
    "pylab.yscale('log')\n",
    "pylab.plot(25, 0.1, 'ko', linewidth=5, label=\"True Value\")\n",
    "pylab.legend()\n",
    "pylab.show()"
   ]
  },
  {
   "cell_type": "code",
   "execution_count": null,
   "metadata": {
    "collapsed": false
   },
   "outputs": [],
   "source": [
    "np.max(surface) / (N * np.log(2) * M)"
   ]
  },
  {
   "cell_type": "code",
   "execution_count": null,
   "metadata": {
    "collapsed": false
   },
   "outputs": [],
   "source": [
    "with tf.Session(config=config) as sess:\n",
    "    #sess.run(tf.initialize_all_variables())\n",
    "    sess.run(tf.global_variables_initializer())# Update by Harald\n",
    "    \n",
    "    for i in range(3):\n",
    "        sess.run(opt_op, {a: 0.1, l:25})\n",
    "    r = sess.run(F, {a: 0.1, l: 25})\n",
    "    print(r)"
   ]
  },
  {
   "cell_type": "code",
   "execution_count": null,
   "metadata": {
    "collapsed": false
   },
   "outputs": [],
   "source": [
    "x, y, z = X_data[:, 0], X_data[:, 1], r[:, 1]\n",
    "x=np.linspace(0, 1, 20)\n",
    "print(len(x))"
   ]
  },
  {
   "cell_type": "code",
   "execution_count": null,
   "metadata": {
    "collapsed": false
   },
   "outputs": [],
   "source": [
    "pylab.pcolormesh(x, x, z.reshape(21, 21))\n",
    "pylab.colorbar()"
   ]
  },
  {
   "cell_type": "code",
   "execution_count": null,
   "metadata": {
    "collapsed": false
   },
   "outputs": [],
   "source": [
    "x.shape"
   ]
  },
  {
   "cell_type": "code",
   "execution_count": null,
   "metadata": {
    "collapsed": false
   },
   "outputs": [],
   "source": [
    "y.shape"
   ]
  },
  {
   "cell_type": "code",
   "execution_count": null,
   "metadata": {
    "collapsed": false
   },
   "outputs": [],
   "source": [
    "z.shape"
   ]
  },
  {
   "cell_type": "code",
   "execution_count": null,
   "metadata": {
    "collapsed": false
   },
   "outputs": [],
   "source": [
    "961 ** 0.5"
   ]
  },
  {
   "cell_type": "code",
   "execution_count": null,
   "metadata": {
    "collapsed": false
   },
   "outputs": [],
   "source": [
    "with tf.Session() as sess:\n",
    "    r = sess.run(tf.diag(tf.ones(5)))"
   ]
  },
  {
   "cell_type": "code",
   "execution_count": null,
   "metadata": {
    "collapsed": false
   },
   "outputs": [],
   "source": [
    "r"
   ]
  },
  {
   "cell_type": "code",
   "execution_count": null,
   "metadata": {
    "collapsed": false
   },
   "outputs": [],
   "source": [
    "tf.__version__"
   ]
  },
  {
   "cell_type": "code",
   "execution_count": null,
   "metadata": {
    "collapsed": false
   },
   "outputs": [],
   "source": [
    "logdet"
   ]
  },
  {
   "cell_type": "code",
   "execution_count": null,
   "metadata": {
    "collapsed": false
   },
   "outputs": [],
   "source": [
    "with tf.Session() as sess:\n",
    "    sess.run(tf.initialize_all_variables())\n",
    "    r = sess.run(logdet, {a: 1.0, l: 1.0})"
   ]
  },
  {
   "cell_type": "code",
   "execution_count": null,
   "metadata": {
    "collapsed": false
   },
   "outputs": [],
   "source": [
    "len(r)"
   ]
  },
  {
   "cell_type": "code",
   "execution_count": null,
   "metadata": {
    "collapsed": true
   },
   "outputs": [],
   "source": []
  }
 ],
 "metadata": {
  "kernelspec": {
   "display_name": "Python 2",
   "language": "python",
   "name": "python2"
  },
  "language_info": {
   "codemirror_mode": {
    "name": "ipython",
    "version": 2
   },
   "file_extension": ".py",
   "mimetype": "text/x-python",
   "name": "python",
   "nbconvert_exporter": "python",
   "pygments_lexer": "ipython2",
   "version": "2.7.12"
  }
 },
 "nbformat": 4,
 "nbformat_minor": 1
}
