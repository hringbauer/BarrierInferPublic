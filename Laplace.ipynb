{
 "cells": [
  {
   "cell_type": "code",
   "execution_count": 1,
   "metadata": {
    "collapsed": true
   },
   "outputs": [],
   "source": [
    "import numpy as np\n",
    "\n",
    "import tensorflow as tf\n",
    "\n",
    "import pylab\n",
    "%matplotlib inline"
   ]
  },
  {
   "cell_type": "code",
   "execution_count": 2,
   "metadata": {
    "collapsed": false
   },
   "outputs": [],
   "source": [
    "X_data = np.loadtxt('./coordinates1.csv', delimiter='$').astype('float64')\n",
    "X_data /= np.max(X_data)\n",
    "\n",
    "Y_data = np.loadtxt('./data_genotypes1.csv', delimiter='$').astype('float64')"
   ]
  },
  {
   "cell_type": "code",
   "execution_count": 3,
   "metadata": {
    "collapsed": false
   },
   "outputs": [],
   "source": [
    "assert(len(X_data) == len(Y_data))\n",
    "\n",
    "N = X_data.shape[0]\n",
    "k = X_data.shape[1]\n",
    "M = Y_data.shape[1]\n",
    "Y_data[Y_data < 0.5] = -1.0"
   ]
  },
  {
   "cell_type": "code",
   "execution_count": 4,
   "metadata": {
    "collapsed": false
   },
   "outputs": [],
   "source": [
    "with tf.device('/cpu:0'):\n",
    "    X = tf.Variable(dtype=tf.float64, initial_value=X_data, trainable=False)\n",
    "    Y = tf.Variable(dtype=tf.float64, initial_value=Y_data, trainable=False)\n",
    "    \n",
    "    F = tf.Variable(dtype=tf.float64, initial_value=np.random.normal(0.0, 0.1, (N, M)).astype('float64'),\n",
    "                    trainable=True)\n",
    "\n",
    "    l = tf.placeholder(shape=[], dtype=tf.float64)\n",
    "    a = tf.placeholder(shape=[], dtype=tf.float64)\n",
    "\n",
    "    K = a * tf.exp(-tf.reduce_sum(((X[:, None] - X[None, :]) ** 2) / (2 * l), reduction_indices=[2])) + \\\n",
    "        0.0001 * tf.eye(N, dtype=tf.float64)\n",
    "\n",
    "    p = tf.nn.sigmoid(F)\n",
    "    Kinv_F = tf.matrix_solve(K, F)\n",
    "    \n",
    "    data_fit = -tf.reduce_sum(tf.log(1 + tf.exp(-Y * F)), reduction_indices=[0])\n",
    "    prior_fit = -0.5 * tf.reduce_sum(F * Kinv_F, reduction_indices=[0])\n",
    "    \n",
    "    logL = tf.reduce_sum(data_fit + prior_fit)\n",
    "    \n",
    "    g =  (0.5 * (Y + 1) - p) - Kinv_F\n",
    "    \n",
    "    W = p * (1 - p)\n",
    "    lhs = -K[:, :, None] * W[None, :, :] - tf.eye(N, dtype=tf.float64)[:, :, None]\n",
    "    rhs = tf.matmul(K, g)\n",
    "    \n",
    "    update = tf.matrix_solve(tf.transpose(lhs, [2, 0, 1]), tf.transpose(rhs, [1, 0])[:, :, None])[:, :, 0]\n",
    "    update = tf.transpose(update)\n",
    "    \n",
    "    opt_op = F.assign(F - update)\n",
    "    \n",
    "    #####\n",
    "    \n",
    "    B = (W[:, None, :] ** 0.5) * K[:, :, None] * (W[None, :, :] ** 0.5) + tf.eye(N, dtype=tf.float64)[:, :, None]\n",
    "    det = tf.reduce_sum(tf.log(tf.matrix_diag_part(tf.cholesky(tf.transpose(B, [2, 0, 1])))))\n",
    "    \n",
    "    margL = logL - det"
   ]
  },
  {
   "cell_type": "code",
   "execution_count": 5,
   "metadata": {
    "collapsed": false
   },
   "outputs": [],
   "source": [
    "config = tf.ConfigProto()\n",
    "config.gpu_options.per_process_gpu_memory_fraction = 0.01"
   ]
  },
  {
   "cell_type": "code",
   "execution_count": 11,
   "metadata": {
    "collapsed": false,
    "scrolled": true
   },
   "outputs": [],
   "source": [
    "a_list = 0.01 * 2 ** np.arange(10)\n",
    "l_list = 0.001 * 2 ** np.arange(10)\n",
    "\n",
    "res = []\n",
    "\n",
    "with tf.Session(config=config) as sess:\n",
    "    \n",
    "    for aa in a_list:\n",
    "        for ll in l_list:\n",
    "    \n",
    "            sess.run(tf.initialize_all_variables())\n",
    "\n",
    "            prev = None\n",
    "            for i in range(20):\n",
    "                r = sess.run([opt_op, update, logL, margL], {a: aa, l:ll})\n",
    "                if prev and np.abs(prev - r[-1]) < 0.01:\n",
    "                    break\n",
    "                prev = r[-1]\n",
    "            \n",
    "            res.append(r[-1])"
   ]
  },
  {
   "cell_type": "code",
   "execution_count": 18,
   "metadata": {
    "collapsed": false
   },
   "outputs": [
    {
     "data": {
      "text/plain": [
       "<matplotlib.text.Text at 0x7f21500e7690>"
      ]
     },
     "execution_count": 18,
     "metadata": {},
     "output_type": "execute_result"
    },
    {
     "data": {
      "image/png": "[encoded data removed]",
      "text/plain": [
       "<matplotlib.figure.Figure at 0x7f21440edbd0>"
      ]
     },
     "metadata": {},
     "output_type": "display_data"
    }
   ],
   "source": [
    "surface = np.array(res).reshape((10, 10))\n",
    "pylab.pcolormesh(a_list, l_list, surface)\n",
    "pylab.xscale('log')\n",
    "pylab.yscale('log')\n",
    "pylab.xlabel('a')\n",
    "pylab.ylabel('l')"
   ]
  },
  {
   "cell_type": "code",
   "execution_count": 25,
   "metadata": {
    "collapsed": false
   },
   "outputs": [
    {
     "data": {
      "text/plain": [
       "-0.99742642499559919"
      ]
     },
     "execution_count": 25,
     "metadata": {},
     "output_type": "execute_result"
    }
   ],
   "source": [
    "np.max(surface) / (N * np.log(2) * M)"
   ]
  },
  {
   "cell_type": "code",
   "execution_count": 33,
   "metadata": {
    "collapsed": false
   },
   "outputs": [
    {
     "name": "stdout",
     "output_type": "stream",
     "text": [
      "[[-0.24373595 -0.0545596  -0.22419409 ..., -0.1735684  -0.04007622\n",
      "   0.01667403]\n",
      " [-0.25001659 -0.05697588 -0.28202501 ..., -0.17966255 -0.05566548\n",
      "   0.01034017]\n",
      " [-0.22651483 -0.03118542 -0.31736785 ..., -0.17535107 -0.06709491\n",
      "   0.00240781]\n",
      " ..., \n",
      " [-0.34625759  0.03027676  0.13141705 ...,  0.11592376 -0.08358974\n",
      "   0.17164766]\n",
      " [-0.31298319 -0.0083094   0.11794772 ...,  0.12612358 -0.12891975\n",
      "   0.11239384]\n",
      " [-0.2589873  -0.04222188  0.09869407 ...,  0.12795075 -0.14595392\n",
      "   0.06265363]]\n"
     ]
    }
   ],
   "source": [
    "with tf.Session(config=config) as sess:\n",
    "    sess.run(tf.initialize_all_variables())\n",
    "    for i in range(3):\n",
    "        sess.run(opt_op, {a: 0.1, l:0.01})\n",
    "    r = sess.run(F, {a: 0.1, l: 0.01})\n",
    "    print(r)"
   ]
  },
  {
   "cell_type": "code",
   "execution_count": 52,
   "metadata": {
    "collapsed": false
   },
   "outputs": [],
   "source": [
    "x, y, z = X_data[:, 0], X_data[:, 1], r[:, 0]"
   ]
  },
  {
   "cell_type": "code",
   "execution_count": 60,
   "metadata": {
    "collapsed": false
   },
   "outputs": [
    {
     "data": {
      "text/plain": [
       "<matplotlib.collections.QuadMesh at 0x7f211419c790>"
      ]
     },
     "execution_count": 60,
     "metadata": {},
     "output_type": "execute_result"
    },
    {
     "data": {
      "image/png": "[encoded data removed]",
      "text/plain": [
       "<matplotlib.figure.Figure at 0x7f21142f3490>"
      ]
     },
     "metadata": {},
     "output_type": "display_data"
    }
   ],
   "source": [
    "pylab.pcolormesh(x.reshape(31, 31), y.reshape(31, 31), z.reshape(31, 31))"
   ]
  },
  {
   "cell_type": "code",
   "execution_count": 42,
   "metadata": {
    "collapsed": false
   },
   "outputs": [
    {
     "data": {
      "text/plain": [
       "(961,)"
      ]
     },
     "execution_count": 42,
     "metadata": {},
     "output_type": "execute_result"
    }
   ],
   "source": [
    "x.shape"
   ]
  },
  {
   "cell_type": "code",
   "execution_count": 43,
   "metadata": {
    "collapsed": false
   },
   "outputs": [
    {
     "data": {
      "text/plain": [
       "(961,)"
      ]
     },
     "execution_count": 43,
     "metadata": {},
     "output_type": "execute_result"
    }
   ],
   "source": [
    "y.shape"
   ]
  },
  {
   "cell_type": "code",
   "execution_count": 54,
   "metadata": {
    "collapsed": false
   },
   "outputs": [
    {
     "data": {
      "text/plain": [
       "(961,)"
      ]
     },
     "execution_count": 54,
     "metadata": {},
     "output_type": "execute_result"
    }
   ],
   "source": [
    "z.shape"
   ]
  },
  {
   "cell_type": "code",
   "execution_count": 55,
   "metadata": {
    "collapsed": false
   },
   "outputs": [
    {
     "data": {
      "text/plain": [
       "31.0"
      ]
     },
     "execution_count": 55,
     "metadata": {},
     "output_type": "execute_result"
    }
   ],
   "source": [
    "961 ** 0.5"
   ]
  },
  {
   "cell_type": "code",
   "execution_count": null,
   "metadata": {
    "collapsed": true
   },
   "outputs": [],
   "source": []
  }
 ],
 "metadata": {
  "kernelspec": {
   "display_name": "Python 2",
   "language": "python",
   "name": "python2"
  },
  "language_info": {
   "codemirror_mode": {
    "name": "ipython",
    "version": 2
   },
   "file_extension": ".py",
   "mimetype": "text/x-python",
   "name": "python",
   "nbconvert_exporter": "python",
   "pygments_lexer": "ipython2",
   "version": "2.7.12"
  }
 },
 "nbformat": 4,
 "nbformat_minor": 1
}
