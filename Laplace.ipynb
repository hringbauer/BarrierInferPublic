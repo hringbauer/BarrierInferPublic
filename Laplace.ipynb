{
 "cells": [
  {
   "cell_type": "code",
   "execution_count": 15,
   "metadata": {
    "collapsed": false
   },
   "outputs": [],
   "source": [
    "import numpy as np\n",
    "import tensorflow as tf\n",
    "import pylab\n",
    "%matplotlib inline\n",
    "\n",
    "from tensorflow.python.framework import ops\n",
    "from tensorflow.python.ops import gen_nn_ops\n",
    "from random import shuffle # For shuffling start position list\n",
    "\n",
    "import time\n",
    "\n",
    "import scipy.optimize as opt"
   ]
  },
  {
   "cell_type": "code",
   "execution_count": 2,
   "metadata": {
    "collapsed": false
   },
   "outputs": [
    {
     "name": "stdout",
     "output_type": "stream",
     "text": [
      "Dim. of X-data: 484 x 2\n",
      "Mean p: \n",
      "[ 0.55165289  0.46900826  0.4607438   0.53305785  0.54338843  0.57644628\n",
      "  0.47520661  0.49793388  0.41942149  0.60123967  0.49793388  0.52066116\n",
      "  0.48966942  0.50413223  0.58884298  0.43801653  0.49380165  0.48760331\n",
      "  0.53099174  0.50826446  0.42768595  0.46487603  0.49793388  0.45247934\n",
      "  0.54752066  0.46280992  0.43595041  0.39256198  0.4607438   0.59504132\n",
      "  0.41115702  0.50619835  0.5         0.50206612  0.46900826  0.46900826\n",
      "  0.48966942  0.56198347  0.4731405   0.46694215  0.51239669  0.4607438\n",
      "  0.48140496  0.5268595   0.53719008  0.57644628  0.5268595   0.53512397\n",
      "  0.51033058  0.46694215  0.44834711  0.4731405   0.32438017  0.61157025\n",
      "  0.54958678  0.57644628  0.61363636  0.44214876  0.53305785  0.52066116\n",
      "  0.53512397  0.44214876  0.51859504  0.46694215  0.60330579  0.48140496\n",
      "  0.46280992  0.40495868  0.45867769  0.57438017  0.46694215  0.61983471\n",
      "  0.49586777  0.55371901  0.51859504  0.5         0.36570248  0.50619835\n",
      "  0.50413223  0.45454545  0.48347107  0.54752066  0.42768595  0.50206612\n",
      "  0.59504132  0.42975207  0.58264463  0.48760331  0.52272727  0.57438017\n",
      "  0.44214876  0.43181818  0.50826446  0.57644628  0.53305785  0.48347107\n",
      "  0.53099174  0.53099174  0.51033058  0.5785124 ]\n",
      "Dim. of Y-data: 484 x 100\n",
      "Assumed f-mean:\n",
      "[ 1.57079633  1.57079633  1.57079633  1.57079633  1.57079633  1.57079633\n",
      "  1.57079633  1.57079633  1.57079633  1.57079633]\n"
     ]
    },
    {
     "data": {
      "image/png": "[encoded data removed]",
      "text/plain": [
       "<matplotlib.figure.Figure at 0x7fa89fb9b850>"
      ]
     },
     "metadata": {},
     "output_type": "display_data"
    }
   ],
   "source": [
    "nr_inds=500  # Nr. of Individuals to Check\n",
    "\n",
    "X_data = np.loadtxt('./coordinates10.csv', delimiter='$').astype('float64') # Load the complete X-Data\n",
    "Y_data = np.loadtxt('./data_genotypes10.csv', delimiter='$').astype('float64') # Load the complete Y-Data\n",
    "#print(len(X_data))\n",
    "inds=range(len(X_data))\n",
    "shuffle(inds)  # Random permutation of the indices. If not random draw - comment out\n",
    "inds=inds[:nr_inds]  # Only load first nr_inds\n",
    "\n",
    "\n",
    "# Only load first nr_inds entries\n",
    "X_data = X_data[inds,:]\n",
    "#X_data = np.array([[1,1],[1,0],[-1,1],[-1,0]])   # For debugging\n",
    "Y_data = Y_data[inds,:]\n",
    "#Y_data = np.array([[0, 1], [0, 0],[1, 1], [0, 0]])\n",
    "\n",
    "\n",
    "\n",
    "#./data_genotypes5.csv has mean p=0.2\n",
    "assert(len(X_data) == len(Y_data))\n",
    "\n",
    "N = X_data.shape[0]\n",
    "k = X_data.shape[1]\n",
    "print(\"Dim. of X-data: %i x %i\" % (N,k))\n",
    "M1 = Y_data.shape[0]\n",
    "nr_loci = Y_data.shape[1]\n",
    "\n",
    "\n",
    "p_mean = np.mean(Y_data, axis=0) # Empirical average for every loci\n",
    "#p_mean=np.mean(Y_data)\n",
    "print(\"Mean p: \")\n",
    "print(p_mean)\n",
    "\n",
    "# Change this for coordinates5.csv  (If mean is known)\n",
    "#f_mean = np.loadtxt('./mean_f6.csv', delimiter='$').astype('float64')[inds]   # Empirical f_mean\n",
    "#f_mean = np.log(p_mean) - np.log(1 - p_mean) # Does a Logit Transform\n",
    "#f_mean=np.log(0.2)-np.log(1.0-0.2)   # If known\n",
    "\n",
    "#print(len(f_mean))\n",
    "#print(len(f_mean))\n",
    "Y_data[Y_data < 0.5] = -1.0  # For the logit Link function\n",
    "print(\"Dim. of Y-data: %i x %i\" % (M1, nr_loci))\n",
    "\n",
    "#mean_paramss = np.array([f_mean for _ in range(nr_loci)]) # Initial Parameter for the mean-parameters\n",
    "#mean_paramss = np.array([0.0 for _ in range(nr_loci)])  # Set everything to 0\n",
    "mean_paramss = np.array([np.pi/2.0 for _ in range(nr_loci)])  # Set everything to 0.5. For ArcSin Model\n",
    "#mean_paramss = np.array(f_mean)\n",
    "print(\"Assumed f-mean:\")\n",
    "print(mean_paramss[:10])\n",
    "\n",
    "# Plot the data\n",
    "pylab.figure()\n",
    "pylab.title(\"Sample Distribution\")\n",
    "pylab.scatter(X_data[:,0], X_data[:,1], label = \"Samples\")\n",
    "pylab.vlines(0, min(X_data[:,1]), max(X_data[:,1]),linewidth=2, color=\"red\", label=\"Barrier\")\n",
    "pylab.xlabel(\"X-Coordinate\")\n",
    "pylab.ylabel(\"Y-Coordinate\")\n",
    "pylab.legend()\n",
    "pylab.show()"
   ]
  },
  {
   "cell_type": "code",
   "execution_count": 3,
   "metadata": {
    "collapsed": false
   },
   "outputs": [],
   "source": [
    "###### The Full Kernel:\n",
    "def full_kernel_function(coords, l, a, c):\n",
    "    '''Return barrier Kernel - describing reduced correlation across barrier\n",
    "    and increased correlation next to barrier. Coords is nx2 Numpy array.\n",
    "    Barrier is assumed to be at x=0'''\n",
    "    x = coords[:, 0]  # Extracts x-coords\n",
    "    \n",
    "    mask = tf.constant([-1.0, 1.0], dtype=tf.float64) # Mask used for reflecting coordinates\n",
    "    \n",
    "    coords_refl = coords * mask[None,:]  # Reflects the x-Coordinate\n",
    "    \n",
    "    g = tf.sign(x)  # Calculates Signum of x\n",
    "    same_side = (g[:,None] * g + 1) / 2  # Whether the x-Values are on the same side\n",
    "    #print(\"Same Side Vector: \")\n",
    "    #print(same_side)\n",
    "    \n",
    "    r_sqrd = tf.reduce_sum(((coords[:, None] - coords[None, :]) ** 2), reduction_indices=[2])  # Calculates pairwise Distance\n",
    "    r_refl_sqrd = tf.reduce_sum(((coords_refl[:, None] - coords[None, :]) ** 2), reduction_indices=[2])  # Calculates the reflected Distance \n",
    "    \n",
    "    # Calculate the normal Kernel:\n",
    "    cov_mat = a * tf.exp(-r_sqrd / (2. * l ** 2))  # Calculate the co-variance matrix. Added diagonal term\n",
    "    cov_mat_refl = a * tf.exp(-r_refl_sqrd / (2. * l ** 2))  # Calculate the covariance matrix for reflected coordinates.\n",
    "    K = same_side * (cov_mat + c * cov_mat_refl) + (1 - same_side) * (1 - c) * cov_mat\n",
    "    \n",
    "    #print(\"Covariance Matrix: \")\n",
    "    #print(cov_tot)\n",
    "    #print(\"Eigenvalues: \")\n",
    "    #print(np.linalg.eig(cov_mat)[0])\n",
    "    return K\n",
    "\n",
    "def rbf_kernel_function(coords, l, a):\n",
    "    '''The usual exponential kernel function'''\n",
    "    K = a * tf.exp(-tf.reduce_sum(((coords[:, None] - coords[None, :]) ** 2) / (2 * l**2), reduction_indices=[2]))\n",
    "    return K"
   ]
  },
  {
   "cell_type": "code",
   "execution_count": 4,
   "metadata": {
    "collapsed": true
   },
   "outputs": [],
   "source": [
    "# From Alex: To calculate the log determinant\n",
    "\n",
    "def py_func(func, inp, Tout, stateful=True, name=None, grad=None):\n",
    "    \n",
    "    # Need to generate a unique name to avoid duplicates:\n",
    "    rnd_name = 'PyFuncGrad' + str(np.random.randint(0, 1E+8))\n",
    "    \n",
    "    tf.RegisterGradient(rnd_name)(grad)\n",
    "    g = tf.get_default_graph()\n",
    "    with g.gradient_override_map({\"PyFunc\": rnd_name}):\n",
    "        return tf.py_func(func, inp, Tout, stateful=stateful, name=name)\n",
    "    \n",
    "def py_logdet(x, name=None):\n",
    "    \n",
    "    with ops.op_scope([x], name, \"Logdet\") as name:\n",
    "        logdet = py_func(lambda x: np.linalg.slogdet(x)[1],\n",
    "                         [x],\n",
    "                         [tf.float64],\n",
    "                         name=name,\n",
    "                         grad=_LogdetGrad)  # <-- here's the call to the gradient\n",
    "    return logdet[0]\n",
    "\n",
    "def _LogdetGrad(op, grad):\n",
    "    x = op.inputs[0]\n",
    "    return tf.matrix_inverse(x) * grad[:, None, None]"
   ]
  },
  {
   "cell_type": "code",
   "execution_count": 5,
   "metadata": {
    "collapsed": false
   },
   "outputs": [
    {
     "name": "stdout",
     "output_type": "stream",
     "text": [
      "WARNING:tensorflow:tf.op_scope(values, name, default_name) is deprecated, use tf.name_scope(name, default_name, values)\n"
     ]
    }
   ],
   "source": [
    "# For sin^2(x/2) Link function\n",
    "def link_f(f):   # Define Link function\n",
    "    '''Sinus Squared Link function'''\n",
    "    pi=0.999*np.pi*tf.ones((N, nr_loci), dtype=tf.float64)  # Matrix - for values bigger than Pi. \n",
    "    #Allow for values slightly smaller than Pi to infinte likelihood (to avoid infinities)\n",
    "    z=0.001*tf.ones((N, nr_loci), dtype=tf.float64)       \n",
    "    # Matrix - for values smaller than 0. Allow for small values slightly bigger than 1 (to avoid infinities)\n",
    "    f=tf.where(f>np.pi, pi, f)       # Make values bigger than pi almost pi\n",
    "    f=tf.where(f<0, z, f)            # Make values smaller than 0 almost 0\n",
    "    \n",
    "    y = tf.sin(0.5*f) ** 2        # Do the actual calculation\n",
    "    return y\n",
    "\n",
    "with tf.device('/gpu:0'):\n",
    "    X = tf.Variable(dtype=tf.float64, initial_value = X_data, trainable=False)\n",
    "    Y = tf.Variable(dtype=tf.float64, initial_value = Y_data, trainable=False)\n",
    "    F = tf.Variable(dtype=tf.float64, initial_value = np.random.normal(0.0, 0.1, (N, nr_loci)).astype('float64'),\n",
    "                    trainable=True)\n",
    "\n",
    "    #hyper_params = tf.placeholder(shape = [3 + nr_loci], dtype=tf.float64)      # HyperParameters for the Kernel\n",
    "    hyper_params = tf.placeholder(shape=[3], dtype=tf.float64)                # The Kernel Hyper Parameters\n",
    "    hyper_params_means =tf.placeholder(shape=[nr_loci], dtype=tf.float64)      # The Mean Hyper Parameters\n",
    "    # First two are for the kernel; nr_loci are for the means of the GRFs!\n",
    "    #mean_params = tf.placeholder(shape=[nr_loci], dtype=tf.float64)  # HyperParameters for the mean Values\n",
    "    \n",
    "    a = tf.abs(hyper_params[0])     # The Parameter for the absolute correlation\n",
    "    l = tf.abs(hyper_params[1])     # The Parameter for the length scale\n",
    "    c = tf.abs(hyper_params[2])\n",
    "    #mean_param = hyper_params[3:]   # The mean parameters\n",
    "    mean_param = hyper_params_means\n",
    "    \n",
    "    eye = tf.eye(N, dtype=tf.float64)\n",
    "\n",
    "    # The Kernel for the classical Covariance Matrix\n",
    "    #K = a * tf.exp(-tf.reduce_sum(((X[:, None] - X[None, :]) ** 2) / (2 * l**2), reduction_indices=[2])) + 0.00001*eye\\\n",
    "    #0.00001 * tf.eye(N, dtype=tf.float64) # Calculate Matrix of Covariances\n",
    "    \n",
    "    # The Kernel for the full covariance Matrix:\n",
    "    #K = rbf_kernel_function(X, l, a) + 0.00001 *eye\n",
    "    K = full_kernel_function(X, l, a, c) + 0.00001 * eye # Add identity to make positive definite\n",
    " \n",
    "    \n",
    "    f_tot = F + mean_param[None, :]    # Adds mean term; None is at position of an individual\n",
    "    #f_tot= F + f_mean[None,:]          # Adds empirical mean term\n",
    "    #f_tot = F + f_mean                 # For the case that there is a single Value\n",
    "    p = link_f(f_tot)    # Calculate novel p, assuming sin^2 Link Function\n",
    "    Kinv_F = tf.matrix_solve(K, F)      # Calculate K^(-1)*F\n",
    "    \n",
    "    g0 = tf.greater(Y, 0.5)        # Values where Y is greater than 0; i.e. data is 1.\n",
    "    g0 = tf.cast(g0, tf.float64)   # Transform so that can be multiplied\n",
    "\n",
    "    y_f= g0*p + (1-g0)*(1-p)  # Probability of observing y given probabilities p\n",
    "    \n",
    "    data_fit = tf.reduce_sum(tf.log(y_f), reduction_indices=[0])   # Calculate Data Fit: Check  \n",
    "    prior_fit = -0.5 * tf.reduce_sum(F * Kinv_F, reduction_indices=[0])          # Calculate 1st term of prior probability: Check\n",
    "    \n",
    "    logL = tf.reduce_sum(data_fit + prior_fit) # Modulo terms not depending on f: Check\n",
    "    \n",
    "    d1 = 1.0/tf.tan(0.5*f_tot)   # Gradient coming from f_tot (for y=1)\n",
    "    d0 = -tf.tan(0.5*f_tot)      # Gradient comfing from t_tot (for y=0)\n",
    "    \n",
    "    grad1 = g0*d1 + (1-g0)*d0  # First part of the gradient\n",
    "    \n",
    "    g =  grad1 - Kinv_F       # Calculate Matrix for Gradients Check\n",
    "    \n",
    "    h1 = -0.5 / ((tf.sin(0.5 * f_tot))**2) # Minus second derivative of data. (for y=1)\n",
    "    h0 = -1.0 / (1 + tf.cos(f_tot))        # Second derivative of data (for y=0)\n",
    "    W = - g0*h1 - (1-g0)*h0       # Calculate first part of Hessian. It is diagonal (but here diagonal in every column)\n",
    "    \n",
    "    lhs = -K[:, :, None] * W[None, :, :] - tf.eye(N, dtype=tf.float64)[:, :, None] # Check (HEAD-ACHE)\n",
    "    #lhs = -K[:, :, None] * W[None, :, :] - eye[:, :, None] \n",
    "    rhs = tf.matmul(K, g)\n",
    "    \n",
    "    update = tf.matrix_solve(tf.transpose(lhs, [2, 0, 1]), tf.transpose(rhs, [1, 0])[:, :, None])[:, :, 0]\n",
    "    update = tf.transpose(update)\n",
    "    \n",
    "    opt_op = F.assign(F - update)\n",
    "    \n",
    "    #####\n",
    "    \n",
    "    B = (W[:, None, :] ** 0.5) * K[:, :, None] * (W[None, :, :] ** 0.5) + tf.eye(N, dtype=tf.float64)[:, :, None]  # Check\n",
    "    #B = (W[:, None, :] ** 0.5) * K[:, :, None] * (W[None, :, :] ** 0.5) + eye[:, :, None] \n",
    "    \n",
    "    logdet = tf.reduce_sum(py_logdet(tf.transpose(B, [2, 0, 1])))  # Factor of 2??\n",
    "    \n",
    "    margL = logL - 0.5 * logdet\n",
    "    \n",
    "    ##### Gradients and Hessian #######################3\n",
    "    \n",
    "    grad = tf.gradients(margL, hyper_params)\n",
    "    hessian = tf.hessians(margL, hyper_params)  # Comment out to avoid computational overhead."
   ]
  },
  {
   "cell_type": "code",
   "execution_count": 6,
   "metadata": {
    "collapsed": false
   },
   "outputs": [],
   "source": [
    "config = tf.ConfigProto()\n",
    "config.gpu_options.per_process_gpu_memory_fraction = 1.0\n",
    "config.allow_soft_placement = True"
   ]
  },
  {
   "cell_type": "code",
   "execution_count": 37,
   "metadata": {
    "collapsed": false
   },
   "outputs": [],
   "source": [
    "opt.fmin_l_bfgs_b?"
   ]
  },
  {
   "cell_type": "code",
   "execution_count": 43,
   "metadata": {
    "collapsed": false
   },
   "outputs": [
    {
     "name": "stdout",
     "output_type": "stream",
     "text": [
      "['0.0178 24.14 0.82']\n",
      "['0.0167 23.08 0.80']\n",
      "['0.0208 28.17 0.72']\n",
      "['0.0214 29.96 0.68']\n"
     ]
    },
    {
     "ename": "KeyboardInterrupt",
     "evalue": "",
     "output_type": "error",
     "traceback": [
      "\u001b[1;31m---------------------------------------------------------------------------\u001b[0m",
      "\u001b[1;31mKeyboardInterrupt\u001b[0m                         Traceback (most recent call last)",
      "\u001b[1;32m<ipython-input-43-8da41e7049ba>\u001b[0m in \u001b[0;36m<module>\u001b[1;34m()\u001b[0m\n\u001b[0;32m     19\u001b[0m \u001b[1;33m\u001b[0m\u001b[0m\n\u001b[0;32m     20\u001b[0m         result = opt.fmin_l_bfgs_b(fg, np.array([0.03, 30, 0.7]), disp=1,\n\u001b[1;32m---> 21\u001b[1;33m                                    bounds=[(0, 1), (0, 100), (0, 1)], maxiter=1)\n\u001b[0m\u001b[0;32m     22\u001b[0m         \u001b[0mhyper_paramss\u001b[0m \u001b[1;33m=\u001b[0m \u001b[0mresult\u001b[0m\u001b[1;33m[\u001b[0m\u001b[1;36m0\u001b[0m\u001b[1;33m]\u001b[0m\u001b[1;33m\u001b[0m\u001b[0m\n\u001b[0;32m     23\u001b[0m \u001b[1;33m\u001b[0m\u001b[0m\n",
      "\u001b[1;32m/home/akolesnikov/.local/lib/python2.7/site-packages/scipy/optimize/lbfgsb.pyc\u001b[0m in \u001b[0;36mfmin_l_bfgs_b\u001b[1;34m(func, x0, fprime, args, approx_grad, bounds, m, factr, pgtol, epsilon, iprint, maxfun, maxiter, disp, callback, maxls)\u001b[0m\n\u001b[0;32m    191\u001b[0m \u001b[1;33m\u001b[0m\u001b[0m\n\u001b[0;32m    192\u001b[0m     res = _minimize_lbfgsb(fun, x0, args=args, jac=jac, bounds=bounds,\n\u001b[1;32m--> 193\u001b[1;33m                            **opts)\n\u001b[0m\u001b[0;32m    194\u001b[0m     d = {'grad': res['jac'],\n\u001b[0;32m    195\u001b[0m          \u001b[1;34m'task'\u001b[0m\u001b[1;33m:\u001b[0m \u001b[0mres\u001b[0m\u001b[1;33m[\u001b[0m\u001b[1;34m'message'\u001b[0m\u001b[1;33m]\u001b[0m\u001b[1;33m,\u001b[0m\u001b[1;33m\u001b[0m\u001b[0m\n",
      "\u001b[1;32m/home/akolesnikov/.local/lib/python2.7/site-packages/scipy/optimize/lbfgsb.pyc\u001b[0m in \u001b[0;36m_minimize_lbfgsb\u001b[1;34m(fun, x0, args, jac, bounds, disp, maxcor, ftol, gtol, eps, maxfun, maxiter, iprint, callback, maxls, **unknown_options)\u001b[0m\n\u001b[0;32m    326\u001b[0m             \u001b[1;31m# until the completion of the current minimization iteration.\u001b[0m\u001b[1;33m\u001b[0m\u001b[1;33m\u001b[0m\u001b[0m\n\u001b[0;32m    327\u001b[0m             \u001b[1;31m# Overwrite f and g:\u001b[0m\u001b[1;33m\u001b[0m\u001b[1;33m\u001b[0m\u001b[0m\n\u001b[1;32m--> 328\u001b[1;33m             \u001b[0mf\u001b[0m\u001b[1;33m,\u001b[0m \u001b[0mg\u001b[0m \u001b[1;33m=\u001b[0m \u001b[0mfunc_and_grad\u001b[0m\u001b[1;33m(\u001b[0m\u001b[0mx\u001b[0m\u001b[1;33m)\u001b[0m\u001b[1;33m\u001b[0m\u001b[0m\n\u001b[0m\u001b[0;32m    329\u001b[0m         \u001b[1;32melif\u001b[0m \u001b[0mtask_str\u001b[0m\u001b[1;33m.\u001b[0m\u001b[0mstartswith\u001b[0m\u001b[1;33m(\u001b[0m\u001b[1;34mb'NEW_X'\u001b[0m\u001b[1;33m)\u001b[0m\u001b[1;33m:\u001b[0m\u001b[1;33m\u001b[0m\u001b[0m\n\u001b[0;32m    330\u001b[0m             \u001b[1;31m# new iteration\u001b[0m\u001b[1;33m\u001b[0m\u001b[1;33m\u001b[0m\u001b[0m\n",
      "\u001b[1;32m/home/akolesnikov/.local/lib/python2.7/site-packages/scipy/optimize/lbfgsb.pyc\u001b[0m in \u001b[0;36mfunc_and_grad\u001b[1;34m(x)\u001b[0m\n\u001b[0;32m    276\u001b[0m     \u001b[1;32melse\u001b[0m\u001b[1;33m:\u001b[0m\u001b[1;33m\u001b[0m\u001b[0m\n\u001b[0;32m    277\u001b[0m         \u001b[1;32mdef\u001b[0m \u001b[0mfunc_and_grad\u001b[0m\u001b[1;33m(\u001b[0m\u001b[0mx\u001b[0m\u001b[1;33m)\u001b[0m\u001b[1;33m:\u001b[0m\u001b[1;33m\u001b[0m\u001b[0m\n\u001b[1;32m--> 278\u001b[1;33m             \u001b[0mf\u001b[0m \u001b[1;33m=\u001b[0m \u001b[0mfun\u001b[0m\u001b[1;33m(\u001b[0m\u001b[0mx\u001b[0m\u001b[1;33m,\u001b[0m \u001b[1;33m*\u001b[0m\u001b[0margs\u001b[0m\u001b[1;33m)\u001b[0m\u001b[1;33m\u001b[0m\u001b[0m\n\u001b[0m\u001b[0;32m    279\u001b[0m             \u001b[0mg\u001b[0m \u001b[1;33m=\u001b[0m \u001b[0mjac\u001b[0m\u001b[1;33m(\u001b[0m\u001b[0mx\u001b[0m\u001b[1;33m,\u001b[0m \u001b[1;33m*\u001b[0m\u001b[0margs\u001b[0m\u001b[1;33m)\u001b[0m\u001b[1;33m\u001b[0m\u001b[0m\n\u001b[0;32m    280\u001b[0m             \u001b[1;32mreturn\u001b[0m \u001b[0mf\u001b[0m\u001b[1;33m,\u001b[0m \u001b[0mg\u001b[0m\u001b[1;33m\u001b[0m\u001b[0m\n",
      "\u001b[1;32m/home/akolesnikov/.local/lib/python2.7/site-packages/scipy/optimize/optimize.pyc\u001b[0m in \u001b[0;36mfunction_wrapper\u001b[1;34m(*wrapper_args)\u001b[0m\n\u001b[0;32m    290\u001b[0m     \u001b[1;32mdef\u001b[0m \u001b[0mfunction_wrapper\u001b[0m\u001b[1;33m(\u001b[0m\u001b[1;33m*\u001b[0m\u001b[0mwrapper_args\u001b[0m\u001b[1;33m)\u001b[0m\u001b[1;33m:\u001b[0m\u001b[1;33m\u001b[0m\u001b[0m\n\u001b[0;32m    291\u001b[0m         \u001b[0mncalls\u001b[0m\u001b[1;33m[\u001b[0m\u001b[1;36m0\u001b[0m\u001b[1;33m]\u001b[0m \u001b[1;33m+=\u001b[0m \u001b[1;36m1\u001b[0m\u001b[1;33m\u001b[0m\u001b[0m\n\u001b[1;32m--> 292\u001b[1;33m         \u001b[1;32mreturn\u001b[0m \u001b[0mfunction\u001b[0m\u001b[1;33m(\u001b[0m\u001b[1;33m*\u001b[0m\u001b[1;33m(\u001b[0m\u001b[0mwrapper_args\u001b[0m \u001b[1;33m+\u001b[0m \u001b[0margs\u001b[0m\u001b[1;33m)\u001b[0m\u001b[1;33m)\u001b[0m\u001b[1;33m\u001b[0m\u001b[0m\n\u001b[0m\u001b[0;32m    293\u001b[0m \u001b[1;33m\u001b[0m\u001b[0m\n\u001b[0;32m    294\u001b[0m     \u001b[1;32mreturn\u001b[0m \u001b[0mncalls\u001b[0m\u001b[1;33m,\u001b[0m \u001b[0mfunction_wrapper\u001b[0m\u001b[1;33m\u001b[0m\u001b[0m\n",
      "\u001b[1;32m/home/akolesnikov/.local/lib/python2.7/site-packages/scipy/optimize/optimize.pyc\u001b[0m in \u001b[0;36m__call__\u001b[1;34m(self, x, *args)\u001b[0m\n\u001b[0;32m     61\u001b[0m     \u001b[1;32mdef\u001b[0m \u001b[0m__call__\u001b[0m\u001b[1;33m(\u001b[0m\u001b[0mself\u001b[0m\u001b[1;33m,\u001b[0m \u001b[0mx\u001b[0m\u001b[1;33m,\u001b[0m \u001b[1;33m*\u001b[0m\u001b[0margs\u001b[0m\u001b[1;33m)\u001b[0m\u001b[1;33m:\u001b[0m\u001b[1;33m\u001b[0m\u001b[0m\n\u001b[0;32m     62\u001b[0m         \u001b[0mself\u001b[0m\u001b[1;33m.\u001b[0m\u001b[0mx\u001b[0m \u001b[1;33m=\u001b[0m \u001b[0mnumpy\u001b[0m\u001b[1;33m.\u001b[0m\u001b[0masarray\u001b[0m\u001b[1;33m(\u001b[0m\u001b[0mx\u001b[0m\u001b[1;33m)\u001b[0m\u001b[1;33m.\u001b[0m\u001b[0mcopy\u001b[0m\u001b[1;33m(\u001b[0m\u001b[1;33m)\u001b[0m\u001b[1;33m\u001b[0m\u001b[0m\n\u001b[1;32m---> 63\u001b[1;33m         \u001b[0mfg\u001b[0m \u001b[1;33m=\u001b[0m \u001b[0mself\u001b[0m\u001b[1;33m.\u001b[0m\u001b[0mfun\u001b[0m\u001b[1;33m(\u001b[0m\u001b[0mx\u001b[0m\u001b[1;33m,\u001b[0m \u001b[1;33m*\u001b[0m\u001b[0margs\u001b[0m\u001b[1;33m)\u001b[0m\u001b[1;33m\u001b[0m\u001b[0m\n\u001b[0m\u001b[0;32m     64\u001b[0m         \u001b[0mself\u001b[0m\u001b[1;33m.\u001b[0m\u001b[0mjac\u001b[0m \u001b[1;33m=\u001b[0m \u001b[0mfg\u001b[0m\u001b[1;33m[\u001b[0m\u001b[1;36m1\u001b[0m\u001b[1;33m]\u001b[0m\u001b[1;33m\u001b[0m\u001b[0m\n\u001b[0;32m     65\u001b[0m         \u001b[1;32mreturn\u001b[0m \u001b[0mfg\u001b[0m\u001b[1;33m[\u001b[0m\u001b[1;36m0\u001b[0m\u001b[1;33m]\u001b[0m\u001b[1;33m\u001b[0m\u001b[0m\n",
      "\u001b[1;32m<ipython-input-43-8da41e7049ba>\u001b[0m in \u001b[0;36mfg\u001b[1;34m(x)\u001b[0m\n\u001b[0;32m     15\u001b[0m \u001b[1;33m\u001b[0m\u001b[0m\n\u001b[0;32m     16\u001b[0m         \u001b[1;32mdef\u001b[0m \u001b[0mfg\u001b[0m\u001b[1;33m(\u001b[0m\u001b[0mx\u001b[0m\u001b[1;33m)\u001b[0m\u001b[1;33m:\u001b[0m\u001b[1;33m\u001b[0m\u001b[0m\n\u001b[1;32m---> 17\u001b[1;33m             \u001b[0mf\u001b[0m\u001b[1;33m,\u001b[0m \u001b[0mg\u001b[0m \u001b[1;33m=\u001b[0m \u001b[0msess\u001b[0m\u001b[1;33m.\u001b[0m\u001b[0mrun\u001b[0m\u001b[1;33m(\u001b[0m\u001b[1;33m[\u001b[0m\u001b[0mmargL\u001b[0m\u001b[1;33m,\u001b[0m \u001b[0mgrad\u001b[0m\u001b[1;33m]\u001b[0m\u001b[1;33m,\u001b[0m \u001b[1;33m{\u001b[0m\u001b[0mhyper_params\u001b[0m\u001b[1;33m:\u001b[0m \u001b[0mx\u001b[0m\u001b[1;33m,\u001b[0m \u001b[0mhyper_params_means\u001b[0m\u001b[1;33m:\u001b[0m \u001b[0mmps\u001b[0m\u001b[1;33m}\u001b[0m\u001b[1;33m)\u001b[0m\u001b[1;33m\u001b[0m\u001b[0m\n\u001b[0m\u001b[0;32m     18\u001b[0m             \u001b[1;32mreturn\u001b[0m \u001b[1;33m-\u001b[0m\u001b[0mf\u001b[0m\u001b[1;33m,\u001b[0m \u001b[1;33m-\u001b[0m\u001b[0mg\u001b[0m\u001b[1;33m[\u001b[0m\u001b[1;36m0\u001b[0m\u001b[1;33m]\u001b[0m\u001b[1;33m\u001b[0m\u001b[0m\n\u001b[0;32m     19\u001b[0m \u001b[1;33m\u001b[0m\u001b[0m\n",
      "\u001b[1;32m/usr/local/lib/python2.7/dist-packages/tensorflow/python/client/session.pyc\u001b[0m in \u001b[0;36mrun\u001b[1;34m(self, fetches, feed_dict, options, run_metadata)\u001b[0m\n\u001b[0;32m    764\u001b[0m     \u001b[1;32mtry\u001b[0m\u001b[1;33m:\u001b[0m\u001b[1;33m\u001b[0m\u001b[0m\n\u001b[0;32m    765\u001b[0m       result = self._run(None, fetches, feed_dict, options_ptr,\n\u001b[1;32m--> 766\u001b[1;33m                          run_metadata_ptr)\n\u001b[0m\u001b[0;32m    767\u001b[0m       \u001b[1;32mif\u001b[0m \u001b[0mrun_metadata\u001b[0m\u001b[1;33m:\u001b[0m\u001b[1;33m\u001b[0m\u001b[0m\n\u001b[0;32m    768\u001b[0m         \u001b[0mproto_data\u001b[0m \u001b[1;33m=\u001b[0m \u001b[0mtf_session\u001b[0m\u001b[1;33m.\u001b[0m\u001b[0mTF_GetBuffer\u001b[0m\u001b[1;33m(\u001b[0m\u001b[0mrun_metadata_ptr\u001b[0m\u001b[1;33m)\u001b[0m\u001b[1;33m\u001b[0m\u001b[0m\n",
      "\u001b[1;32m/usr/local/lib/python2.7/dist-packages/tensorflow/python/client/session.pyc\u001b[0m in \u001b[0;36m_run\u001b[1;34m(self, handle, fetches, feed_dict, options, run_metadata)\u001b[0m\n\u001b[0;32m    962\u001b[0m     \u001b[1;32mif\u001b[0m \u001b[0mfinal_fetches\u001b[0m \u001b[1;32mor\u001b[0m \u001b[0mfinal_targets\u001b[0m\u001b[1;33m:\u001b[0m\u001b[1;33m\u001b[0m\u001b[0m\n\u001b[0;32m    963\u001b[0m       results = self._do_run(handle, final_targets, final_fetches,\n\u001b[1;32m--> 964\u001b[1;33m                              feed_dict_string, options, run_metadata)\n\u001b[0m\u001b[0;32m    965\u001b[0m     \u001b[1;32melse\u001b[0m\u001b[1;33m:\u001b[0m\u001b[1;33m\u001b[0m\u001b[0m\n\u001b[0;32m    966\u001b[0m       \u001b[0mresults\u001b[0m \u001b[1;33m=\u001b[0m \u001b[1;33m[\u001b[0m\u001b[1;33m]\u001b[0m\u001b[1;33m\u001b[0m\u001b[0m\n",
      "\u001b[1;32m/usr/local/lib/python2.7/dist-packages/tensorflow/python/client/session.pyc\u001b[0m in \u001b[0;36m_do_run\u001b[1;34m(self, handle, target_list, fetch_list, feed_dict, options, run_metadata)\u001b[0m\n\u001b[0;32m   1012\u001b[0m     \u001b[1;32mif\u001b[0m \u001b[0mhandle\u001b[0m \u001b[1;32mis\u001b[0m \u001b[0mNone\u001b[0m\u001b[1;33m:\u001b[0m\u001b[1;33m\u001b[0m\u001b[0m\n\u001b[0;32m   1013\u001b[0m       return self._do_call(_run_fn, self._session, feed_dict, fetch_list,\n\u001b[1;32m-> 1014\u001b[1;33m                            target_list, options, run_metadata)\n\u001b[0m\u001b[0;32m   1015\u001b[0m     \u001b[1;32melse\u001b[0m\u001b[1;33m:\u001b[0m\u001b[1;33m\u001b[0m\u001b[0m\n\u001b[0;32m   1016\u001b[0m       return self._do_call(_prun_fn, self._session, handle, feed_dict,\n",
      "\u001b[1;32m/usr/local/lib/python2.7/dist-packages/tensorflow/python/client/session.pyc\u001b[0m in \u001b[0;36m_do_call\u001b[1;34m(self, fn, *args)\u001b[0m\n\u001b[0;32m   1019\u001b[0m   \u001b[1;32mdef\u001b[0m \u001b[0m_do_call\u001b[0m\u001b[1;33m(\u001b[0m\u001b[0mself\u001b[0m\u001b[1;33m,\u001b[0m \u001b[0mfn\u001b[0m\u001b[1;33m,\u001b[0m \u001b[1;33m*\u001b[0m\u001b[0margs\u001b[0m\u001b[1;33m)\u001b[0m\u001b[1;33m:\u001b[0m\u001b[1;33m\u001b[0m\u001b[0m\n\u001b[0;32m   1020\u001b[0m     \u001b[1;32mtry\u001b[0m\u001b[1;33m:\u001b[0m\u001b[1;33m\u001b[0m\u001b[0m\n\u001b[1;32m-> 1021\u001b[1;33m       \u001b[1;32mreturn\u001b[0m \u001b[0mfn\u001b[0m\u001b[1;33m(\u001b[0m\u001b[1;33m*\u001b[0m\u001b[0margs\u001b[0m\u001b[1;33m)\u001b[0m\u001b[1;33m\u001b[0m\u001b[0m\n\u001b[0m\u001b[0;32m   1022\u001b[0m     \u001b[1;32mexcept\u001b[0m \u001b[0merrors\u001b[0m\u001b[1;33m.\u001b[0m\u001b[0mOpError\u001b[0m \u001b[1;32mas\u001b[0m \u001b[0me\u001b[0m\u001b[1;33m:\u001b[0m\u001b[1;33m\u001b[0m\u001b[0m\n\u001b[0;32m   1023\u001b[0m       \u001b[0mmessage\u001b[0m \u001b[1;33m=\u001b[0m \u001b[0mcompat\u001b[0m\u001b[1;33m.\u001b[0m\u001b[0mas_text\u001b[0m\u001b[1;33m(\u001b[0m\u001b[0me\u001b[0m\u001b[1;33m.\u001b[0m\u001b[0mmessage\u001b[0m\u001b[1;33m)\u001b[0m\u001b[1;33m\u001b[0m\u001b[0m\n",
      "\u001b[1;32m/usr/local/lib/python2.7/dist-packages/tensorflow/python/client/session.pyc\u001b[0m in \u001b[0;36m_run_fn\u001b[1;34m(session, feed_dict, fetch_list, target_list, options, run_metadata)\u001b[0m\n\u001b[0;32m   1001\u001b[0m         return tf_session.TF_Run(session, options,\n\u001b[0;32m   1002\u001b[0m                                  \u001b[0mfeed_dict\u001b[0m\u001b[1;33m,\u001b[0m \u001b[0mfetch_list\u001b[0m\u001b[1;33m,\u001b[0m \u001b[0mtarget_list\u001b[0m\u001b[1;33m,\u001b[0m\u001b[1;33m\u001b[0m\u001b[0m\n\u001b[1;32m-> 1003\u001b[1;33m                                  status, run_metadata)\n\u001b[0m\u001b[0;32m   1004\u001b[0m \u001b[1;33m\u001b[0m\u001b[0m\n\u001b[0;32m   1005\u001b[0m     \u001b[1;32mdef\u001b[0m \u001b[0m_prun_fn\u001b[0m\u001b[1;33m(\u001b[0m\u001b[0msession\u001b[0m\u001b[1;33m,\u001b[0m \u001b[0mhandle\u001b[0m\u001b[1;33m,\u001b[0m \u001b[0mfeed_dict\u001b[0m\u001b[1;33m,\u001b[0m \u001b[0mfetch_list\u001b[0m\u001b[1;33m)\u001b[0m\u001b[1;33m:\u001b[0m\u001b[1;33m\u001b[0m\u001b[0m\n",
      "\u001b[1;31mKeyboardInterrupt\u001b[0m: "
     ]
    }
   ],
   "source": [
    "### Optimization Run\n",
    "hyper_paramss = np.array([0.02, 25, 0.8]) # The initial values for a & L & c // 0.02 25 0.8\n",
    "mps = mean_paramss\n",
    "\n",
    "#kk =  np.array([0.012, 20] + f)\n",
    "\n",
    "with tf.Session(config=config) as sess:\n",
    "    sess.run(tf.global_variables_initializer())\n",
    "    \n",
    "    for i in range(30):\n",
    "        \n",
    "        for _ in range(1):\n",
    "            _, r,  g, h = sess.run([opt_op, margL, grad, hessian],\n",
    "                                   {hyper_params: hyper_paramss, hyper_params_means: mps})  \n",
    "        \n",
    "        def fg(x):\n",
    "            f, g = sess.run([margL, grad], {hyper_params: x, hyper_params_means: mps})\n",
    "            return -f, -g[0]\n",
    "\n",
    "        result = opt.fmin_l_bfgs_b(fg, np.array([0.03, 30, 0.7]), disp=1,\n",
    "                                   bounds=[(0, 1), (0, 100), (0, 1)], maxiter=1)\n",
    "        hyper_paramss = result[0]\n",
    "        \n",
    "        print(['%.4f %.2f %.2f' % (hyper_paramss[0], hyper_paramss[1], hyper_paramss[2])])\n",
    "\n",
    "        #if i < 3:  # First three times just run to optimize f_i\n",
    "        #    continue\n",
    "        \n",
    "        #u = np.matmul(np.linalg.inv(h[0]), g[0]) \n",
    "        #hyper_paramss -= u\n",
    "        #print(hyper_paramss, u)\n",
    "    \n",
    "    # Code for calculating empirical Fisher-Information Matrix:\n",
    "#fisher_info = np.matrix(h[0])\n",
    "#stds = np.sqrt(np.diag(-fisher_info.I)) # Calculates the Standard Deviations (Sqrt of Variance)\n",
    "#print(\"Standard Deviations: \")\n",
    "#print(stds)"
   ]
  },
  {
   "cell_type": "code",
   "execution_count": 9,
   "metadata": {
    "collapsed": false
   },
   "outputs": [
    {
     "name": "stdout",
     "output_type": "stream",
     "text": [
      "(0.579463005065918, 0.7130060195922852, 0.17415213584899902)\n",
      "(0.4631350040435791, 0.5979189872741699, 0.11843204498291016)\n",
      "(0.4216601848602295, 0.5627479553222656, 0.1193389892578125)\n",
      "(0.39631104469299316, 0.5913858413696289, 0.11941695213317871)\n",
      "(0.3881959915161133, 0.5624179840087891, 0.10687613487243652)\n",
      "(0.40087103843688965, 0.5855870246887207, 0.11196303367614746)\n",
      "(0.37268710136413574, 0.589400053024292, 0.1107790470123291)\n",
      "(0.37917208671569824, 0.5630910396575928, 0.11264801025390625)\n",
      "(0.36365389823913574, 0.5597648620605469, 0.11838698387145996)\n",
      "(0.4197120666503906, 0.5913097858428955, 0.10978579521179199)\n"
     ]
    }
   ],
   "source": [
    "with tf.Session(config=config) as sess:\n",
    "    sess.run(tf.global_variables_initializer())\n",
    "    \n",
    "    for i in range(10):\n",
    "        tic = time.time()\n",
    "        sess.run(margL, {hyper_params: [1.0, 1.0, 1.0], hyper_params_means: np.zeros(nr_loci)})\n",
    "        toc = time.time()\n",
    "        t1 = toc - tic\n",
    "        \n",
    "        tic = time.time()\n",
    "        sess.run(grad, {hyper_params: [1.0, 1.0, 1.0], hyper_params_means: np.zeros(nr_loci)})\n",
    "        toc = time.time()\n",
    "        t2 = toc - tic\n",
    "        \n",
    "        tic = time.time()\n",
    "        sess.run(hessian, {hyper_params: [1.0, 1.0, 1.0], hyper_params_means: np.zeros(nr_loci)})\n",
    "        toc = time.time()\n",
    "        t3 = toc - tic\n",
    "        \n",
    "        print(t1, t2, t3)"
   ]
  },
  {
   "cell_type": "code",
   "execution_count": null,
   "metadata": {
    "collapsed": false
   },
   "outputs": [],
   "source": [
    "for i in range(len(hyper_paramss)):\n",
    "    print(\"Hyperparameter %i: \" %i)\n",
    "    print(\"MLE Estimate: %.6f\" % hyper_paramss[i])\n",
    "    print(\"Standard Deviation: %.6f\" % stds[i])"
   ]
  },
  {
   "cell_type": "code",
   "execution_count": null,
   "metadata": {
    "collapsed": false
   },
   "outputs": [],
   "source": [
    "#a_list = np.logspace(-1.5, -0.5, 10)   # Original Values\n",
    "\n",
    "a_list=np.logspace(-3,-1.5,10)\n",
    "l_list = np.logspace(0.5, 2, 10)\n",
    "#c_list = np.logspace(-0.4, 0, 10)\n",
    "c_list =np.linspace(0,1,10)\n",
    "\n",
    "#a_list = np.logspace(-3, -0.5, 10)\n",
    "#l_list = np.logspace(0, 2, 10)\n",
    "\n",
    "\n",
    "print(a_list)\n",
    "print(l_list)\n",
    "print(c_list)"
   ]
  },
  {
   "cell_type": "code",
   "execution_count": null,
   "metadata": {
    "collapsed": false,
    "scrolled": false
   },
   "outputs": [],
   "source": [
    "res = []\n",
    "j=0\n",
    "print(\"Mean Parameters: \")\n",
    "print(mean_paramss[:10])\n",
    "with tf.Session(config=config) as sess:\n",
    "    aa = 0.02  # The true Value\n",
    "    #cc = 0.0 # The value for the barrier\n",
    "    #for aa in a_list:\n",
    "    for cc in c_list:  # Replaced aa with cc\n",
    "        for ll in l_list:\n",
    "            print(\"Doing run: %i\" % j)\n",
    "            j+=1\n",
    "    \n",
    "            sess.run(tf.global_variables_initializer())   # Changed to global_variables_initializer\n",
    "\n",
    "            prev = None\n",
    "            for i in range(20):\n",
    "                #hyper_paramss = np.array([aa,ll])\n",
    "                #hyper_paramss = np.append(hyper_paramss, mean_paramss)\n",
    "                \n",
    "                hyper_paramss = np.array([aa, ll, cc])\n",
    "                #hyper_paramss = np.append(hyper_paramss, mean_paramss)\n",
    "                \n",
    "                r = sess.run([opt_op, update, logL, margL], {hyper_params: hyper_paramss, hyper_params_means: mean_paramss})\n",
    "                if prev and np.abs(prev - r[-1]) < 0.01:\n",
    "                    break\n",
    "                prev = r[-1]\n",
    "            print(\"Tested a: %4f\" % aa)\n",
    "            print(\"Tested l: %4f\" % ll)\n",
    "            print(\"Tested c: %4f\" % cc)\n",
    "            print(\"Marginal Likelihood: %4f\" % r[-1])\n",
    "            res.append(r[-1])"
   ]
  },
  {
   "cell_type": "code",
   "execution_count": null,
   "metadata": {
    "collapsed": false
   },
   "outputs": [],
   "source": [
    "surface = np.array(res).reshape((10, 10))\n",
    "pylab.pcolormesh(l_list, c_list, surface)\n",
    "#pylab.pcolormesh(, a_list, surface)\n",
    "pylab.xscale('log')\n",
    "#pylab.yscale('log')\n",
    "pylab.xlabel('l')\n",
    "pylab.ylabel('a')\n",
    "pylab.colorbar()\n",
    "#pylab.plot(25, 0.1, 'ko', linewidth=5)\n",
    "pylab.plot(25, 0.8, 'ko', linewidth=5)"
   ]
  },
  {
   "cell_type": "code",
   "execution_count": null,
   "metadata": {
    "collapsed": false
   },
   "outputs": [],
   "source": [
    "pylab.figure()\n",
    "levels = np.arange(max(res) - 30, max(res) + 1, 2)  # Every two likelihood units\n",
    "#ax=pylab.contourf(l_list, a_list, surface, alpha=0.9, levels=levels)\n",
    "ax=pylab.contourf(l_list, c_list, surface, alpha=0.9,levels=levels)\n",
    "\n",
    "# plt.clabel(ax, inline=1, fontsize=10)\n",
    "pylab.colorbar(ax, format=\"%i\")\n",
    "pylab.title(\"Log Likelihood Surface\", fontsize=20)\n",
    "pylab.xlabel(\"l\", fontsize=20)\n",
    "pylab.ylabel(\"a\", fontsize=20)\n",
    "pylab.xscale('log')\n",
    "#pylab.yscale('log')\n",
    "pylab.plot(25, 0.8, 'ko', linewidth=5, label=\"True Value\")\n",
    "pylab.legend()\n",
    "pylab.show()"
   ]
  },
  {
   "cell_type": "code",
   "execution_count": null,
   "metadata": {
    "collapsed": false
   },
   "outputs": [],
   "source": [
    "aa, ll = 1, 1\n",
    "kk = np.array([1, 1, 0.8])   #a,l,c\n",
    "kk = np.append(kk, mean_paramss)\n",
    "print(\"Hyper Parameters: \")\n",
    "print(kk[:10])"
   ]
  },
  {
   "cell_type": "code",
   "execution_count": null,
   "metadata": {
    "collapsed": false
   },
   "outputs": [],
   "source": [
    "# Single Run; where optimization is computed.\n",
    "with tf.Session(config=config) as sess:\n",
    "    #sess.run(tf.initialize_all_variables())\n",
    "    sess.run(tf.global_variables_initializer())   # Update by Harald\n",
    "    \n",
    "    for i in range(5):\n",
    "        sess.run(opt_op, {hyper_params: kk})\n",
    "    r = sess.run([f_tot, F, logdet, margL, K], {hyper_params: kk})\n",
    "print(\"f_tot:\")\n",
    "print(r[0])\n",
    "print(\"F:\")\n",
    "print(r[1])\n",
    "print(\"logdet:\")\n",
    "print(r[2])\n",
    "print(\"Marg.L\")\n",
    "print(r[3])\n",
    "print(\"K\")\n",
    "print(r[4])"
   ]
  },
  {
   "cell_type": "code",
   "execution_count": null,
   "metadata": {
    "collapsed": true
   },
   "outputs": [],
   "source": []
  },
  {
   "cell_type": "code",
   "execution_count": null,
   "metadata": {
    "collapsed": false
   },
   "outputs": [],
   "source": [
    "x, y, z = X_data[:nr_inds, 0], X_data[:nr_inds, 1], r[0][:,1]\n",
    "#x=np.linspace(0, 1, 20)\n",
    "#print(len(x))\n",
    "print(len(x))\n",
    "print(len(y))\n",
    "print(len(z))"
   ]
  },
  {
   "cell_type": "code",
   "execution_count": null,
   "metadata": {
    "collapsed": false
   },
   "outputs": [],
   "source": [
    "pylab.pcolormesh(x, y, z.reshape(21,21))\n",
    "pylab.colorbar()"
   ]
  },
  {
   "cell_type": "code",
   "execution_count": null,
   "metadata": {
    "collapsed": false
   },
   "outputs": [],
   "source": [
    "x.shape"
   ]
  },
  {
   "cell_type": "code",
   "execution_count": null,
   "metadata": {
    "collapsed": false
   },
   "outputs": [],
   "source": [
    "y.shape"
   ]
  },
  {
   "cell_type": "code",
   "execution_count": null,
   "metadata": {
    "collapsed": false
   },
   "outputs": [],
   "source": [
    "z.shape"
   ]
  },
  {
   "cell_type": "code",
   "execution_count": null,
   "metadata": {
    "collapsed": false
   },
   "outputs": [],
   "source": [
    "961 ** 0.5"
   ]
  },
  {
   "cell_type": "code",
   "execution_count": null,
   "metadata": {
    "collapsed": false
   },
   "outputs": [],
   "source": [
    "with tf.device('/cpu:0'):\n",
    "    X = tf.Variable(dtype=tf.float64, initial_value = 0, trainable=False)"
   ]
  },
  {
   "cell_type": "code",
   "execution_count": null,
   "metadata": {
    "collapsed": false
   },
   "outputs": [],
   "source": [
    "with tf.device('/cpu:0'):   # For debugging\n",
    "    c = 3*tf.ones((5,2), dtype=tf.float64)\n",
    "    d = tf.constant([-1,1], dtype=tf.float64)\n",
    "    e= c * d[None,:]\n",
    "    f = c[:,0]"
   ]
  },
  {
   "cell_type": "code",
   "execution_count": null,
   "metadata": {
    "collapsed": false
   },
   "outputs": [],
   "source": [
    "with tf.Session() as sess:\n",
    "    sess.run(tf.global_variables_initializer())\n",
    "    r=sess.run([c,d,e,f])"
   ]
  },
  {
   "cell_type": "code",
   "execution_count": null,
   "metadata": {
    "collapsed": false
   },
   "outputs": [],
   "source": [
    "r[-1]"
   ]
  },
  {
   "cell_type": "code",
   "execution_count": null,
   "metadata": {
    "collapsed": false
   },
   "outputs": [],
   "source": [
    "tf.__version__"
   ]
  },
  {
   "cell_type": "code",
   "execution_count": null,
   "metadata": {
    "collapsed": false
   },
   "outputs": [],
   "source": [
    "logdet"
   ]
  },
  {
   "cell_type": "code",
   "execution_count": null,
   "metadata": {
    "collapsed": false
   },
   "outputs": [],
   "source": [
    "with tf.Session() as sess:\n",
    "    sess.run(tf.global_variables_initializer())\n",
    "    r = sess.run(logdet, {a: 1.0, l: 1.0})"
   ]
  },
  {
   "cell_type": "code",
   "execution_count": null,
   "metadata": {
    "collapsed": false
   },
   "outputs": [],
   "source": [
    "r"
   ]
  },
  {
   "cell_type": "code",
   "execution_count": null,
   "metadata": {
    "collapsed": true
   },
   "outputs": [],
   "source": []
  }
 ],
 "metadata": {
  "kernelspec": {
   "display_name": "Python 2",
   "language": "python",
   "name": "python2"
  },
  "language_info": {
   "codemirror_mode": {
    "name": "ipython",
    "version": 2
   },
   "file_extension": ".py",
   "mimetype": "text/x-python",
   "name": "python",
   "nbconvert_exporter": "python",
   "pygments_lexer": "ipython2",
   "version": "2.7.12"
  }
 },
 "nbformat": 4,
 "nbformat_minor": 1
}
