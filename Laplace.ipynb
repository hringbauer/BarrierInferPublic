{
 "cells": [
  {
   "cell_type": "code",
   "execution_count": 102,
   "metadata": {
    "collapsed": false
   },
   "outputs": [],
   "source": [
    "import numpy as np\n",
    "import tensorflow as tf\n",
    "import pylab\n",
    "%matplotlib inline\n",
    "\n",
    "from tensorflow.python.framework import ops\n",
    "from tensorflow.python.ops import gen_nn_ops"
   ]
  },
  {
   "cell_type": "code",
   "execution_count": 103,
   "metadata": {
    "collapsed": false
   },
   "outputs": [
    {
     "name": "stdout",
     "output_type": "stream",
     "text": [
      "Dim. of X-data: 400 x 2\n",
      "Mean p: \n",
      "[ 0.4075  0.3625  0.505   0.38    0.495   0.3725  0.4575  0.4575  0.42\n",
      "  0.3775  0.535   0.46    0.6725  0.5     0.425   0.55    0.4075  0.4275\n",
      "  0.5525  0.41    0.39    0.6125  0.5275  0.4875  0.47    0.5775  0.485\n",
      "  0.375   0.4125  0.53    0.245   0.36    0.4725  0.5425  0.395   0.4575\n",
      "  0.5575  0.4575  0.38    0.6225  0.47    0.6425  0.4425  0.475   0.4425\n",
      "  0.5375  0.4875  0.4175  0.3775  0.4875  0.69    0.59    0.495   0.55\n",
      "  0.52    0.3775  0.4975  0.5125  0.6125  0.43    0.6225  0.51    0.3225\n",
      "  0.3575  0.4725  0.675   0.5125  0.375   0.38    0.4075  0.4325  0.5275\n",
      "  0.6225  0.485   0.49    0.3775  0.455   0.445   0.585   0.445   0.37\n",
      "  0.65    0.5     0.5975  0.4725  0.5475  0.645   0.4375  0.6475  0.51\n",
      "  0.57    0.4675  0.5625  0.5425  0.445   0.43    0.4975  0.625   0.415\n",
      "  0.41  ]\n",
      "Dim. of Y-data: 400 x 100\n",
      "Assumed f-mean:\n",
      "[ 0.  0.  0.  0.  0.  0.  0.  0.  0.  0.  0.  0.  0.  0.  0.  0.  0.  0.\n",
      "  0.  0.  0.  0.  0.  0.  0.  0.  0.  0.  0.  0.  0.  0.  0.  0.  0.  0.\n",
      "  0.  0.  0.  0.  0.  0.  0.  0.  0.  0.  0.  0.  0.  0.  0.  0.  0.  0.\n",
      "  0.  0.  0.  0.  0.  0.  0.  0.  0.  0.  0.  0.  0.  0.  0.  0.  0.  0.\n",
      "  0.  0.  0.  0.  0.  0.  0.  0.  0.  0.  0.  0.  0.  0.  0.  0.  0.  0.\n",
      "  0.  0.  0.  0.  0.  0.  0.  0.  0.  0.]\n"
     ]
    },
    {
     "data": {
      "image/png": "[encoded data removed]",
      "text/plain": [
       "<matplotlib.figure.Figure at 0x20bf6290>"
      ]
     },
     "metadata": {},
     "output_type": "display_data"
    }
   ],
   "source": [
    "nr_inds=101\n",
    "X_data = np.loadtxt('./coordinates6.csv', delimiter='$').astype('float64')[:400,:] # Only load first nr_inds entries\n",
    "#X_data /= np.max(X_data)    # Divide by the maximum WHY??\n",
    "Y_data = np.loadtxt('./data_genotypes6.csv', delimiter='$').astype('float64')[:400,:]\n",
    "\n",
    "\n",
    "\n",
    "#print(mean_f)\n",
    "\n",
    "#./data_genotypes5.csv has mean p=0.2\n",
    "\n",
    "assert(len(X_data) == len(Y_data))\n",
    "\n",
    "N = X_data.shape[0]\n",
    "k = X_data.shape[1]\n",
    "print(\"Dim. of X-data: %i x %i\" % (N,k))\n",
    "M1 = Y_data.shape[0]\n",
    "nr_loci = Y_data.shape[1]\n",
    "\n",
    "\n",
    "p_mean=np.mean(Y_data, axis=0) # Empirical average for every loci\n",
    "#p_mean=np.mean(Y_data)\n",
    "print(\"Mean p: \")\n",
    "print(p_mean)\n",
    "\n",
    "# Change this for coordinates5.csv  (If mean is known)\n",
    "f_mean = np.loadtxt('./mean_f6.csv', delimiter='$').astype('float64')   # Empirical f_mean\n",
    "#f_mean = np.log(p_mean) - np.log(1 - p_mean) # Does a Logit Transform\n",
    "#f_mean=np.log(0.2)-np.log(1.0-0.2)   # If known\n",
    "\n",
    "#print(len(f_mean))\n",
    "#print(len(f_mean))\n",
    "Y_data[Y_data < 0.5] = -1.0\n",
    "print(\"Dim. of Y-data: %i x %i\" % (M1, nr_loci))\n",
    "\n",
    "#mean_paramss = np.array([f_mean for _ in range(nr_loci)]) # Initial Parameter for the mean-parameters\n",
    "mean_paramss = np.array([0.0 for _ in range(nr_loci)])  # Set everything to 0\n",
    "#mean_paramss = np.array(f_mean)\n",
    "print(\"Assumed f-mean:\")\n",
    "print(mean_paramss)\n",
    "\n",
    "# Plot the data\n",
    "pylab.figure()\n",
    "pylab.title(\"Sample Distribution\")\n",
    "pylab.scatter(X_data[:,0], X_data[:,1])\n",
    "pylab.show()"
   ]
  },
  {
   "cell_type": "code",
   "execution_count": 104,
   "metadata": {
    "collapsed": true
   },
   "outputs": [],
   "source": [
    "def py_func(func, inp, Tout, stateful=True, name=None, grad=None):\n",
    "    \n",
    "    # Need to generate a unique name to avoid duplicates:\n",
    "    rnd_name = 'PyFuncGrad' + str(np.random.randint(0, 1E+8))\n",
    "    \n",
    "    tf.RegisterGradient(rnd_name)(grad)\n",
    "    g = tf.get_default_graph()\n",
    "    with g.gradient_override_map({\"PyFunc\": rnd_name}):\n",
    "        return tf.py_func(func, inp, Tout, stateful=stateful, name=name)\n",
    "    \n",
    "def py_logdet(x, name=None):\n",
    "    \n",
    "    with ops.op_scope([x], name, \"Logdet\") as name:\n",
    "        logdet = py_func(lambda x: np.linalg.slogdet(x)[1],\n",
    "                         [x],\n",
    "                         [tf.float64],\n",
    "                         name=name,\n",
    "                         grad=_LogdetGrad)  # <-- here's the call to the gradient\n",
    "    return logdet[0]\n",
    "\n",
    "def _LogdetGrad(op, grad):\n",
    "    x = op.inputs[0]\n",
    "    return tf.matrix_inverse(x) * grad"
   ]
  },
  {
   "cell_type": "code",
   "execution_count": 105,
   "metadata": {
    "collapsed": false
   },
   "outputs": [
    {
     "name": "stdout",
     "output_type": "stream",
     "text": [
      "WARNING:tensorflow:tf.op_scope(values, name, default_name) is deprecated, use tf.name_scope(name, default_name, values)\n"
     ]
    }
   ],
   "source": [
    "with tf.device('/cpu:0'):\n",
    "    X = tf.Variable(dtype=tf.float64, initial_value = X_data, trainable=False)\n",
    "    Y = tf.Variable(dtype=tf.float64, initial_value = Y_data, trainable=False)\n",
    "    F = tf.Variable(dtype=tf.float64, initial_value = np.random.normal(0.0, 0.1, (N, nr_loci)).astype('float64'),\n",
    "                    trainable=True)\n",
    "\n",
    "    kernel_params = tf.placeholder(shape=[2], dtype=tf.float64)      # HyperParameters for the Kernel\n",
    "    mean_params = tf.placeholder(shape=[nr_loci], dtype=tf.float64)  # HyperParameters for the mean Values\n",
    "    \n",
    "    l = kernel_params[1]\n",
    "    a = kernel_params[0]\n",
    "    mean_param = mean_params\n",
    "    \n",
    "    eye = tf.eye(N)\n",
    "\n",
    "    K = a * tf.exp(-tf.reduce_sum(((X[:, None] - X[None, :]) ** 2) / (2 * l **2), reduction_indices=[2])) + \\\n",
    "        0.00001 * tf.eye(N, dtype=tf.float64) # Calculate Matrix of Covariances\n",
    "    \n",
    "    #K = a * tf.exp(-tf.reduce_sum(((X[:, None] - X[None, :]) ** 2) / (2 * l), reduction_indices=[2])) + \\\n",
    "       # 0.0001 * eye                \n",
    "\n",
    "    f_tot = F + mean_param[None, :]    # Adds mean term; None is at position of an individual\n",
    "    #f_tot= F + f_mean[None,:]          # Adds empirical mean term\n",
    "    #f_tot = F + f_mean                 # For the case that there is a single Value\n",
    "    p = tf.nn.sigmoid(f_tot)            # Calculate probabilities(assuming sigmoid link function)\n",
    "    Kinv_F = tf.matrix_solve(K, F)      # Calculate K^(-1)*F\n",
    "    \n",
    "    data_fit = -tf.reduce_sum(tf.log(1 + tf.exp(-Y * f_tot)), reduction_indices=[0]) # Calculate Data Fit: Check  \n",
    "    prior_fit = -0.5 * tf.reduce_sum(F * Kinv_F, reduction_indices=[0])          # Calcualte 1st term of prior probability: Check\n",
    "    \n",
    "    logL = tf.reduce_sum(data_fit + prior_fit) # Modulo terms not depending on f: Check\n",
    "    \n",
    "    g =  (0.5 * (Y + 1) - p) - Kinv_F # Calculate Matrix for Gradients Check\n",
    "    \n",
    "    W = p * (1 - p)        # Calculate first part of Hessia. It is diagonal (but here diagonal in every column)\n",
    "    lhs = -K[:, :, None] * W[None, :, :] - tf.eye(N, dtype=tf.float64)[:, :, None] # Check (HEADACHE)\n",
    "    #lhs = -K[:, :, None] * W[None, :, :] - eye[:, :, None] \n",
    "    rhs = tf.matmul(K, g)\n",
    "    \n",
    "    update = tf.matrix_solve(tf.transpose(lhs, [2, 0, 1]), tf.transpose(rhs, [1, 0])[:, :, None])[:, :, 0]\n",
    "    update = tf.transpose(update)\n",
    "    \n",
    "    opt_op = F.assign(F - update)\n",
    "    \n",
    "    #####\n",
    "    \n",
    "    B = (W[:, None, :] ** 0.5) * K[:, :, None] * (W[None, :, :] ** 0.5) + tf.eye(N, dtype=tf.float64)[:, :, None]  # Check\n",
    "    #B = (W[:, None, :] ** 0.5) * K[:, :, None] * (W[None, :, :] ** 0.5) + eye[:, :, None] \n",
    "    \n",
    "    logdet = tf.reduce_sum(py_logdet(tf.transpose(B, [2, 0, 1])))  # Factor of 2??\n",
    "    \n",
    "    margL = logL - 0.5 * logdet\n",
    "    \n",
    "    \n",
    "    ##### Gradients and Hessian #######################3\n",
    "    \n",
    "    grad = tf.gradients(margL, kernel_params)\n",
    "    hessian = tf.hessians(margL, kernel_params)"
   ]
  },
  {
   "cell_type": "code",
   "execution_count": 106,
   "metadata": {
    "collapsed": false
   },
   "outputs": [],
   "source": [
    "config = tf.ConfigProto()\n",
    "config.gpu_options.per_process_gpu_memory_fraction = 0.01"
   ]
  },
  {
   "cell_type": "code",
   "execution_count": 89,
   "metadata": {
    "collapsed": false
   },
   "outputs": [
    {
     "name": "stdout",
     "output_type": "stream",
     "text": [
      "-11529509.889\n"
     ]
    }
   ],
   "source": [
    "### Single Run\n",
    "aa, ll = 0.1, 25\n",
    "kk = np.array([0.1, 25])\n",
    "\n",
    "\n",
    "with tf.Session(config=config) as sess:\n",
    "    sess.run(tf.global_variables_initializer())\n",
    "    #r = sess.run([opt_op, update, logL, margL], {a: aa, l: ll})\n",
    "    r = sess.run([opt_op, update, logL, margL], {kernel_params: kk, mean_param: mean_paramss})\n",
    "    print(r[-1])    # Print marginal Likelihood"
   ]
  },
  {
   "cell_type": "code",
   "execution_count": 107,
   "metadata": {
    "collapsed": false
   },
   "outputs": [
    {
     "name": "stdout",
     "output_type": "stream",
     "text": [
      "[ 0.03162278  0.04084239  0.05274997  0.06812921  0.08799225  0.11364637\n",
      "  0.14677993  0.18957357  0.24484367  0.31622777]\n",
      "[  10.           12.91549665   16.68100537   21.5443469    27.82559402\n",
      "   35.93813664   46.41588834   59.94842503   77.42636827  100.        ]\n",
      "100\n"
     ]
    }
   ],
   "source": [
    "a_list = np.logspace(-1.5, -0.5, 10)   # Original Values\n",
    "l_list = np.logspace(1, 2, 10)\n",
    "\n",
    "#a_list = np.logspace(-3, -0.5, 10)\n",
    "#l_list = np.logspace(0, 2, 10)\n",
    "\n",
    "\n",
    "print(a_list)\n",
    "print(l_list)\n",
    "print(len(mean_paramss))"
   ]
  },
  {
   "cell_type": "code",
   "execution_count": 108,
   "metadata": {
    "collapsed": false,
    "scrolled": true
   },
   "outputs": [
    {
     "name": "stdout",
     "output_type": "stream",
     "text": [
      "Doing run: 0\n",
      "Tested a: 0.031623\n",
      "Tested l: 10.000000\n",
      "Likelihood: -27692.411760\n",
      "Doing run: 1\n",
      "Tested a: 0.031623\n",
      "Tested l: 12.915497\n",
      "Likelihood: -27670.828287\n",
      "Doing run: 2\n",
      "Tested a: 0.031623\n",
      "Tested l: 16.681005\n",
      "Likelihood: -27641.131741\n",
      "Doing run: 3\n",
      "Tested a: 0.031623\n",
      "Tested l: 21.544347\n",
      "Likelihood: -27603.118794\n",
      "Doing run: 4\n",
      "Tested a: 0.031623\n",
      "Tested l: 27.825594\n",
      "Likelihood: -27558.420386\n",
      "Doing run: 5\n",
      "Tested a: 0.031623\n",
      "Tested l: 35.938137\n",
      "Likelihood: -27509.954232\n",
      "Doing run: 6\n",
      "Tested a: 0.031623\n",
      "Tested l: 46.415888\n",
      "Likelihood: -27460.856350\n",
      "Doing run: 7\n",
      "Tested a: 0.031623\n",
      "Tested l: 59.948425\n",
      "Likelihood: -27414.276122\n",
      "Doing run: 8\n",
      "Tested a: 0.031623\n",
      "Tested l: 77.426368\n",
      "Likelihood: -27373.987404\n",
      "Doing run: 9\n",
      "Tested a: 0.031623\n",
      "Tested l: 100.000000\n",
      "Likelihood: -27343.354182\n",
      "Doing run: 10\n",
      "Tested a: 0.040842\n",
      "Tested l: 10.000000\n",
      "Likelihood: -27683.872278\n",
      "Doing run: 11\n",
      "Tested a: 0.040842\n",
      "Tested l: 12.915497\n",
      "Likelihood: -27657.204476\n",
      "Doing run: 12\n",
      "Tested a: 0.040842\n",
      "Tested l: 16.681005\n",
      "Likelihood: -27621.196543\n",
      "Doing run: 13\n",
      "Tested a: 0.040842\n",
      "Tested l: 21.544347\n",
      "Likelihood: -27576.375150\n",
      "Doing run: 14\n",
      "Tested a: 0.040842\n",
      "Tested l: 27.825594\n",
      "Likelihood: -27525.771525\n",
      "Doing run: 15\n",
      "Tested a: 0.040842\n",
      "Tested l: 35.938137\n",
      "Likelihood: -27473.784797\n",
      "Doing run: 16\n",
      "Tested a: 0.040842\n",
      "Tested l: 46.415888\n",
      "Likelihood: -27424.152288\n",
      "Doing run: 17\n",
      "Tested a: 0.040842\n",
      "Tested l: 59.948425\n",
      "Likelihood: -27379.371923\n",
      "Doing run: 18\n",
      "Tested a: 0.040842\n",
      "Tested l: 77.426368\n",
      "Likelihood: -27341.998917\n",
      "Doing run: 19\n",
      "Tested a: 0.040842\n",
      "Tested l: 100.000000\n",
      "Likelihood: -27314.363761\n",
      "Doing run: 20\n",
      "Tested a: 0.052750\n",
      "Tested l: 10.000000\n",
      "Likelihood: -27673.587129\n",
      "Doing run: 21\n",
      "Tested a: 0.052750\n",
      "Tested l: 12.915497\n",
      "Likelihood: -27641.029928\n",
      "Doing run: 22\n",
      "Tested a: 0.052750\n",
      "Tested l: 16.681005\n",
      "Likelihood: -27598.071996\n",
      "Doing run: 23\n",
      "Tested a: 0.052750\n",
      "Tested l: 21.544347\n",
      "Likelihood: -27546.356298\n",
      "Doing run: 24\n",
      "Tested a: 0.052750\n",
      "Tested l: 27.825594\n",
      "Likelihood: -27490.678127\n",
      "Doing run: 25\n",
      "Tested a: 0.052750\n",
      "Tested l: 35.938137\n",
      "Likelihood: -27436.915300\n",
      "Doing run: 26\n",
      "Tested a: 0.052750\n",
      "Tested l: 46.415888\n",
      "Likelihood: -27388.880428\n",
      "Doing run: 27\n",
      "Tested a: 0.052750\n",
      "Tested l: 59.948425\n",
      "Likelihood: -27347.710836\n",
      "Doing run: 28\n",
      "Tested a: 0.052750\n",
      "Tested l: 77.426368\n",
      "Likelihood: -27314.370852\n",
      "Doing run: 29\n",
      "Tested a: 0.052750\n",
      "Tested l: 100.000000\n",
      "Likelihood: -27290.207514\n",
      "Doing run: 30\n",
      "Tested a: 0.068129\n",
      "Tested l: 10.000000\n",
      "Likelihood: -27661.470642\n",
      "Doing run: 31\n",
      "Tested a: 0.068129\n",
      "Tested l: 12.915497\n",
      "Likelihood: -27622.313064\n",
      "Doing run: 32\n",
      "Tested a: 0.068129\n",
      "Tested l: 16.681005\n",
      "Likelihood: -27572.067315\n",
      "Doing run: 33\n",
      "Tested a: 0.068129\n",
      "Tested l: 21.544347\n",
      "Likelihood: -27513.904893\n",
      "Doing run: 34\n",
      "Tested a: 0.068129\n",
      "Tested l: 27.825594\n",
      "Likelihood: -27454.605611\n",
      "Doing run: 35\n",
      "Tested a: 0.068129\n",
      "Tested l: 35.938137\n",
      "Likelihood: -27401.233813\n",
      "Doing run: 36\n",
      "Tested a: 0.068129\n",
      "Tested l: 46.415888\n",
      "Likelihood: -27356.946514\n",
      "Doing run: 37\n",
      "Tested a: 0.068129\n",
      "Tested l: 59.948425\n",
      "Likelihood: -27320.865360\n",
      "Doing run: 38\n",
      "Tested a: 0.068129\n",
      "Tested l: 77.426368\n",
      "Likelihood: -27292.212698\n",
      "Doing run: 39\n",
      "Tested a: 0.068129\n",
      "Tested l: 100.000000\n",
      "Likelihood: -27271.589336\n",
      "Doing run: 40\n",
      "Tested a: 0.087992\n",
      "Tested l: 10.000000\n",
      "Likelihood: -27647.622995\n",
      "Doing run: 41\n",
      "Tested a: 0.087992\n",
      "Tested l: 12.915497\n",
      "Likelihood: -27601.390172\n",
      "Doing run: 42\n",
      "Tested a: 0.087992\n",
      "Tested l: 16.681005\n",
      "Likelihood: -27544.004094\n",
      "Doing run: 43\n",
      "Tested a: 0.087992\n",
      "Tested l: 21.544347\n",
      "Likelihood: -27480.506207\n",
      "Doing run: 44\n",
      "Tested a: 0.087992\n",
      "Tested l: 27.825594\n",
      "Likelihood: -27419.608100\n",
      "Doing run: 45\n",
      "Tested a: 0.087992\n",
      "Tested l: 35.938137\n",
      "Likelihood: -27368.961199\n",
      "Doing run: 46\n",
      "Tested a: 0.087992\n",
      "Tested l: 46.415888\n",
      "Likelihood: -27330.279236\n",
      "Doing run: 47\n",
      "Tested a: 0.087992\n",
      "Tested l: 59.948425\n",
      "Likelihood: -27300.220772\n",
      "Doing run: 48\n",
      "Tested a: 0.087992\n",
      "Tested l: 77.426368\n",
      "Likelihood: -27276.366039\n",
      "Doing run: 49\n",
      "Tested a: 0.087992\n",
      "Tested l: 100.000000\n",
      "Likelihood: -27258.945736\n",
      "Doing run: 50\n",
      "Tested a: 0.113646\n",
      "Tested l: 10.000000\n",
      "Likelihood: -27632.461716\n",
      "Doing run: 51\n",
      "Tested a: 0.113646\n",
      "Tested l: 12.915497\n",
      "Likelihood: -27579.101783\n",
      "Doing run: 52\n",
      "Tested a: 0.113646\n",
      "Tested l: 16.681005\n",
      "Likelihood: -27515.393912\n",
      "Doing run: 53\n",
      "Tested a: 0.113646\n",
      "Tested l: 21.544347\n",
      "Likelihood: -27448.378768\n",
      "Doing run: 54\n",
      "Tested a: 0.113646\n",
      "Tested l: 27.825594\n",
      "Likelihood: -27388.274588\n",
      "Doing run: 55\n",
      "Tested a: 0.113646\n",
      "Tested l: 35.938137\n",
      "Likelihood: -27342.503021\n",
      "Doing run: 56\n",
      "Tested a: 0.113646\n",
      "Tested l: 46.415888\n",
      "Likelihood: -27310.696572\n",
      "Doing run: 57\n",
      "Tested a: 0.113646\n",
      "Tested l: 59.948425\n",
      "Likelihood: -27286.917011\n",
      "Doing run: 58\n",
      "Tested a: 0.113646\n",
      "Tested l: 77.426368\n",
      "Likelihood: -27267.414842\n",
      "Doing run: 59\n",
      "Tested a: 0.113646\n",
      "Tested l: 100.000000\n",
      "Likelihood: -27252.488857\n",
      "Doing run: 60\n",
      "Tested a: 0.146780\n",
      "Tested l: 10.000000\n",
      "Likelihood: -27616.896036\n",
      "Doing run: 61\n",
      "Tested a: 0.146780\n",
      "Tested l: 12.915497\n",
      "Likelihood: -27556.995065\n",
      "Doing run: 62\n",
      "Tested a: 0.146780\n",
      "Tested l: 16.681005\n",
      "Likelihood: -27488.592141\n",
      "Doing run: 63\n",
      "Tested a: 0.146780\n",
      "Tested l: 21.544347\n",
      "Likelihood: -27420.488420\n",
      "Doing run: 64\n",
      "Tested a: 0.146780\n",
      "Tested l: 27.825594\n",
      "Likelihood: -27363.602084\n",
      "Doing run: 65\n",
      "Tested a: 0.146780\n",
      "Tested l: 35.938137\n",
      "Likelihood: -27324.287829\n",
      "Doing run: 66\n",
      "Tested a: 0.146780\n",
      "Tested l: 46.415888\n",
      "Likelihood: -27299.809205\n",
      "Doing run: 67\n",
      "Tested a: 0.146780\n",
      "Tested l: 59.948425\n",
      "Likelihood: -27281.836599\n",
      "Doing run: 68\n",
      "Tested a: 0.146780\n",
      "Tested l: 77.426368\n",
      "Likelihood: -27265.728220\n",
      "Doing run: 69\n",
      "Tested a: 0.146780\n",
      "Tested l: 100.000000\n",
      "Likelihood: -27252.266425\n",
      "Doing run: 70\n",
      "Tested a: 0.189574\n",
      "Tested l: 10.000000\n",
      "Likelihood: -27602.535665\n",
      "Doing run: 71\n",
      "Tested a: 0.189574\n",
      "Tested l: 12.915497\n",
      "Likelihood: -27537.523061\n",
      "Doing run: 72\n",
      "Tested a: 0.189574\n",
      "Tested l: 16.681005\n",
      "Likelihood: -27466.886727\n",
      "Doing run: 73\n",
      "Tested a: 0.189574\n",
      "Tested l: 21.544347\n",
      "Likelihood: -27400.468125\n",
      "Doing run: 74\n",
      "Tested a: 0.189574\n",
      "Tested l: 27.825594\n",
      "Likelihood: -27348.818966\n",
      "Doing run: 75\n",
      "Tested a: 0.189574\n",
      "Tested l: 35.938137\n",
      "Likelihood: -27316.623854\n",
      "Doing run: 76\n",
      "Tested a: 0.189574\n",
      "Tested l: 46.415888\n",
      "Likelihood: -27298.969744\n",
      "Doing run: 77\n",
      "Tested a: 0.189574\n",
      "Tested l: 59.948425\n",
      "Likelihood: -27285.625684\n",
      "Doing run: 78\n",
      "Tested a: 0.189574\n",
      "Tested l: 77.426368\n",
      "Likelihood: -27271.516337\n",
      "Doing run: 79\n",
      "Tested a: 0.189574\n",
      "Tested l: 100.000000\n",
      "Likelihood: -27258.225409\n",
      "Doing run: 80\n",
      "Tested a: 0.244844\n",
      "Tested l: 10.000000\n",
      "Likelihood: -27591.908625\n",
      "Doing run: 81\n",
      "Tested a: 0.244844\n",
      "Tested l: 12.915497\n",
      "Likelihood: -27524.196707\n",
      "Doing run: 82\n",
      "Tested a: 0.244844\n",
      "Tested l: 16.681005\n",
      "Likelihood: -27454.485307\n",
      "Doing run: 83\n",
      "Tested a: 0.244844\n",
      "Tested l: 21.544347\n",
      "Likelihood: -27392.449210\n",
      "Doing run: 84\n",
      "Tested a: 0.244844\n",
      "Tested l: 27.825594\n",
      "Likelihood: -27347.193866\n",
      "Doing run: 85\n",
      "Tested a: 0.244844\n",
      "Tested l: 35.938137\n",
      "Likelihood: -27321.596048\n",
      "Doing run: 86\n",
      "Tested a: 0.244844\n",
      "Tested l: 46.415888\n",
      "Likelihood: -27309.263460\n",
      "Doing run: 87\n",
      "Tested a: 0.244844\n",
      "Tested l: 59.948425\n",
      "Likelihood: -27298.732205\n",
      "Doing run: 88\n",
      "Tested a: 0.244844\n",
      "Tested l: 77.426368\n",
      "Likelihood: -27284.883048\n",
      "Doing run: 89\n",
      "Tested a: 0.244844\n",
      "Tested l: 100.000000\n",
      "Likelihood: -27270.268846\n",
      "Doing run: 90\n",
      "Tested a: 0.316228\n",
      "Tested l: 10.000000\n",
      "Likelihood: -27588.643773\n",
      "Doing run: 91\n",
      "Tested a: 0.316228\n",
      "Tested l: 12.915497\n",
      "Likelihood: -27521.640288\n",
      "Doing run: 92\n",
      "Tested a: 0.316228\n",
      "Tested l: 16.681005\n",
      "Likelihood: -27456.383785\n",
      "Doing run: 93\n",
      "Tested a: 0.316228\n",
      "Tested l: 21.544347\n",
      "Likelihood: -27400.832961\n",
      "Doing run: 94\n",
      "Tested a: 0.316228\n",
      "Tested l: 27.825594\n",
      "Likelihood: -27361.864536\n",
      "Doing run: 95\n",
      "Tested a: 0.316228\n",
      "Tested l: 35.938137\n",
      "Likelihood: -27341.011000\n",
      "Doing run: 96\n",
      "Tested a: 0.316228\n",
      "Tested l: 46.415888\n",
      "Likelihood: -27331.529010\n",
      "Doing run: 97\n",
      "Tested a: 0.316228\n",
      "Tested l: 59.948425\n",
      "Likelihood: -27321.448560\n",
      "Doing run: 98\n",
      "Tested a: 0.316228\n",
      "Tested l: 77.426368\n",
      "Likelihood: -27305.865581\n",
      "Doing run: 99\n",
      "Tested a: 0.316228\n",
      "Tested l: 100.000000\n",
      "Likelihood: -27288.297966\n"
     ]
    }
   ],
   "source": [
    "res = []\n",
    "j=0\n",
    "with tf.Session(config=config) as sess:\n",
    "    for aa in a_list:\n",
    "        for ll in l_list:\n",
    "            print(\"Doing run: %i\" % j)\n",
    "            j+=1\n",
    "    \n",
    "            sess.run(tf.global_variables_initializer())   # Changed to global_variables_initializer\n",
    "\n",
    "            prev = None\n",
    "            for i in range(20):\n",
    "                r = sess.run([opt_op, update, logL, margL], {a: aa, l:ll, mean_param: mean_paramss})\n",
    "                if prev and np.abs(prev - r[-1]) < 0.01:\n",
    "                    break\n",
    "                prev = r[-1]\n",
    "            print(\"Tested a: %4f\" % aa)\n",
    "            print(\"Tested l: %4f\" % ll)\n",
    "            print(\"Likelihood: %4f\" % r[-1])\n",
    "            res.append(r[-1])"
   ]
  },
  {
   "cell_type": "code",
   "execution_count": 109,
   "metadata": {
    "collapsed": false
   },
   "outputs": [
    {
     "data": {
      "text/plain": [
       "[<matplotlib.lines.Line2D at 0x26086510>]"
      ]
     },
     "execution_count": 109,
     "metadata": {},
     "output_type": "execute_result"
    },
    {
     "data": {
      "image/png": "[encoded data removed]",
      "text/plain": [
       "<matplotlib.figure.Figure at 0x24b8bd10>"
      ]
     },
     "metadata": {},
     "output_type": "display_data"
    }
   ],
   "source": [
    "surface = np.array(res).reshape((10, 10))\n",
    "pylab.pcolormesh(l_list, a_list, surface)\n",
    "pylab.xscale('log')\n",
    "pylab.yscale('log')\n",
    "pylab.xlabel('l')\n",
    "pylab.ylabel('a')\n",
    "pylab.colorbar()\n",
    "pylab.plot(25, 0.1, 'ko', linewidth=5)"
   ]
  },
  {
   "cell_type": "code",
   "execution_count": 110,
   "metadata": {
    "collapsed": false
   },
   "outputs": [
    {
     "data": {
      "image/png": "[encoded data removed]",
      "text/plain": [
       "<matplotlib.figure.Figure at 0x2cbbc090>"
      ]
     },
     "metadata": {},
     "output_type": "display_data"
    }
   ],
   "source": [
    "pylab.figure()\n",
    "levels = np.arange(max(res) - 30, max(res) + 1, 2)  # Every two likelihood units\n",
    "ax=pylab.contourf(l_list, a_list, surface, alpha=0.9, levels=levels)\n",
    "\n",
    "# plt.clabel(ax, inline=1, fontsize=10)\n",
    "pylab.colorbar(ax, format=\"%i\")\n",
    "pylab.title(\"Log Likelihood Surface\", fontsize=20)\n",
    "pylab.xlabel(\"l\", fontsize=20)\n",
    "pylab.ylabel(\"a\", fontsize=20)\n",
    "pylab.xscale('log')\n",
    "pylab.yscale('log')\n",
    "pylab.plot(25, 0.1, 'ko', linewidth=5, label=\"True Value\")\n",
    "pylab.legend()\n",
    "pylab.show()"
   ]
  },
  {
   "cell_type": "code",
   "execution_count": 17,
   "metadata": {
    "collapsed": false
   },
   "outputs": [],
   "source": [
    "aa, ll = 0.1, 25\n",
    "kk = np.array([0.1, 25])"
   ]
  },
  {
   "cell_type": "code",
   "execution_count": 18,
   "metadata": {
    "collapsed": false
   },
   "outputs": [
    {
     "name": "stdout",
     "output_type": "stream",
     "text": [
      "-6914.353692\n"
     ]
    }
   ],
   "source": [
    "# Single Run; where optimization is computed.\n",
    "with tf.Session(config=config) as sess:\n",
    "    #sess.run(tf.initialize_all_variables())\n",
    "    sess.run(tf.global_variables_initializer())   # Update by Harald\n",
    "    \n",
    "    for i in range(5):\n",
    "        sess.run(opt_op, {kernel_params: kk, mean_param: mean_paramss})\n",
    "    r = sess.run([F, margL], {kernel_params: kk, mean_param: mean_paramss})\n",
    "    print(r[-1])   # Prints the Marginal Likelihood"
   ]
  },
  {
   "cell_type": "code",
   "execution_count": 94,
   "metadata": {
    "collapsed": false
   },
   "outputs": [
    {
     "name": "stdout",
     "output_type": "stream",
     "text": [
      "101\n",
      "101\n",
      "101\n"
     ]
    }
   ],
   "source": [
    "x, y, z = X_data[:nr_inds, 0], X_data[:nr_inds, 1], r[0][:,1]\n",
    "#x=np.linspace(0, 1, 20)\n",
    "#print(len(x))\n",
    "print(len(x))\n",
    "print(len(y))\n",
    "print(len(z))"
   ]
  },
  {
   "cell_type": "code",
   "execution_count": 95,
   "metadata": {
    "collapsed": false
   },
   "outputs": [
    {
     "ename": "IndexError",
     "evalue": "too many indices for array",
     "output_type": "error",
     "traceback": [
      "\u001b[0;31m---------------------------------------------------------------------------\u001b[0m",
      "\u001b[0;31mIndexError\u001b[0m                                Traceback (most recent call last)",
      "\u001b[0;32m<ipython-input-95-c4dc0adc33d4>\u001b[0m in \u001b[0;36m<module>\u001b[0;34m()\u001b[0m\n\u001b[0;32m----> 1\u001b[0;31m \u001b[0mpylab\u001b[0m\u001b[0;34m.\u001b[0m\u001b[0mpcolormesh\u001b[0m\u001b[0;34m(\u001b[0m\u001b[0mx\u001b[0m\u001b[0;34m,\u001b[0m \u001b[0my\u001b[0m\u001b[0;34m,\u001b[0m \u001b[0mz\u001b[0m\u001b[0;34m)\u001b[0m\u001b[0;34m\u001b[0m\u001b[0m\n\u001b[0m\u001b[1;32m      2\u001b[0m \u001b[0mpylab\u001b[0m\u001b[0;34m.\u001b[0m\u001b[0mcolorbar\u001b[0m\u001b[0;34m(\u001b[0m\u001b[0;34m)\u001b[0m\u001b[0;34m\u001b[0m\u001b[0m\n",
      "\u001b[0;32m/usr/lib/pymodules/python2.7/matplotlib/pyplot.pyc\u001b[0m in \u001b[0;36mpcolormesh\u001b[0;34m(*args, **kwargs)\u001b[0m\n\u001b[1;32m   2429\u001b[0m         \u001b[0max\u001b[0m\u001b[0;34m.\u001b[0m\u001b[0mhold\u001b[0m\u001b[0;34m(\u001b[0m\u001b[0mhold\u001b[0m\u001b[0;34m)\u001b[0m\u001b[0;34m\u001b[0m\u001b[0m\n\u001b[1;32m   2430\u001b[0m     \u001b[0;32mtry\u001b[0m\u001b[0;34m:\u001b[0m\u001b[0;34m\u001b[0m\u001b[0m\n\u001b[0;32m-> 2431\u001b[0;31m         \u001b[0mret\u001b[0m \u001b[0;34m=\u001b[0m \u001b[0max\u001b[0m\u001b[0;34m.\u001b[0m\u001b[0mpcolormesh\u001b[0m\u001b[0;34m(\u001b[0m\u001b[0;34m*\u001b[0m\u001b[0margs\u001b[0m\u001b[0;34m,\u001b[0m \u001b[0;34m**\u001b[0m\u001b[0mkwargs\u001b[0m\u001b[0;34m)\u001b[0m\u001b[0;34m\u001b[0m\u001b[0m\n\u001b[0m\u001b[1;32m   2432\u001b[0m         \u001b[0mdraw_if_interactive\u001b[0m\u001b[0;34m(\u001b[0m\u001b[0;34m)\u001b[0m\u001b[0;34m\u001b[0m\u001b[0m\n\u001b[1;32m   2433\u001b[0m     \u001b[0;32mfinally\u001b[0m\u001b[0;34m:\u001b[0m\u001b[0;34m\u001b[0m\u001b[0m\n",
      "\u001b[0;32m/usr/lib/pymodules/python2.7/matplotlib/axes.pyc\u001b[0m in \u001b[0;36mpcolormesh\u001b[0;34m(self, *args, **kwargs)\u001b[0m\n\u001b[1;32m   7152\u001b[0m         \u001b[0;31m# convert to one dimensional arrays\u001b[0m\u001b[0;34m\u001b[0m\u001b[0;34m\u001b[0m\u001b[0m\n\u001b[1;32m   7153\u001b[0m         \u001b[0;32mif\u001b[0m \u001b[0mshading\u001b[0m \u001b[0;34m!=\u001b[0m \u001b[0;34m'gouraud'\u001b[0m\u001b[0;34m:\u001b[0m\u001b[0;34m\u001b[0m\u001b[0m\n\u001b[0;32m-> 7154\u001b[0;31m             \u001b[0mC\u001b[0m \u001b[0;34m=\u001b[0m \u001b[0mma\u001b[0m\u001b[0;34m.\u001b[0m\u001b[0mravel\u001b[0m\u001b[0;34m(\u001b[0m\u001b[0mC\u001b[0m\u001b[0;34m[\u001b[0m\u001b[0;36m0\u001b[0m\u001b[0;34m:\u001b[0m\u001b[0mNy\u001b[0m\u001b[0;34m-\u001b[0m\u001b[0;36m1\u001b[0m\u001b[0;34m,\u001b[0m \u001b[0;36m0\u001b[0m\u001b[0;34m:\u001b[0m\u001b[0mNx\u001b[0m\u001b[0;34m-\u001b[0m\u001b[0;36m1\u001b[0m\u001b[0;34m]\u001b[0m\u001b[0;34m)\u001b[0m \u001b[0;31m# data point in each cell is value at\u001b[0m\u001b[0;34m\u001b[0m\u001b[0m\n\u001b[0m\u001b[1;32m   7155\u001b[0m                                             \u001b[0;31m# lower left corner\u001b[0m\u001b[0;34m\u001b[0m\u001b[0;34m\u001b[0m\u001b[0m\n\u001b[1;32m   7156\u001b[0m         \u001b[0;32melse\u001b[0m\u001b[0;34m:\u001b[0m\u001b[0;34m\u001b[0m\u001b[0m\n",
      "\u001b[0;31mIndexError\u001b[0m: too many indices for array"
     ]
    },
    {
     "data": {
      "image/png": "[encoded data removed]",
      "text/plain": [
       "<matplotlib.figure.Figure at 0x1b1969d0>"
      ]
     },
     "metadata": {},
     "output_type": "display_data"
    }
   ],
   "source": [
    "pylab.pcolormesh(x, y, z.reshape(21,21))\n",
    "pylab.colorbar()"
   ]
  },
  {
   "cell_type": "code",
   "execution_count": null,
   "metadata": {
    "collapsed": false
   },
   "outputs": [],
   "source": [
    "x.shape"
   ]
  },
  {
   "cell_type": "code",
   "execution_count": null,
   "metadata": {
    "collapsed": false
   },
   "outputs": [],
   "source": [
    "y.shape"
   ]
  },
  {
   "cell_type": "code",
   "execution_count": null,
   "metadata": {
    "collapsed": false
   },
   "outputs": [],
   "source": [
    "z.shape"
   ]
  },
  {
   "cell_type": "code",
   "execution_count": null,
   "metadata": {
    "collapsed": false
   },
   "outputs": [],
   "source": [
    "961 ** 0.5"
   ]
  },
  {
   "cell_type": "code",
   "execution_count": null,
   "metadata": {
    "collapsed": false
   },
   "outputs": [],
   "source": [
    "with tf.Session() as sess:\n",
    "    r = sess.run(tf.diag(tf.ones(5)))"
   ]
  },
  {
   "cell_type": "code",
   "execution_count": null,
   "metadata": {
    "collapsed": false
   },
   "outputs": [],
   "source": [
    "r"
   ]
  },
  {
   "cell_type": "code",
   "execution_count": null,
   "metadata": {
    "collapsed": false
   },
   "outputs": [],
   "source": [
    "tf.__version__"
   ]
  },
  {
   "cell_type": "code",
   "execution_count": null,
   "metadata": {
    "collapsed": false
   },
   "outputs": [],
   "source": [
    "logdet"
   ]
  },
  {
   "cell_type": "code",
   "execution_count": 13,
   "metadata": {
    "collapsed": false
   },
   "outputs": [],
   "source": [
    "with tf.Session() as sess:\n",
    "    sess.run(tf.global_variables_initializer())\n",
    "    r = sess.run(logdet, {a: 1.0, l: 1.0})"
   ]
  },
  {
   "cell_type": "code",
   "execution_count": 12,
   "metadata": {
    "collapsed": false
   },
   "outputs": [
    {
     "data": {
      "text/plain": [
       "21396.780081331875"
      ]
     },
     "execution_count": 12,
     "metadata": {},
     "output_type": "execute_result"
    }
   ],
   "source": [
    "r"
   ]
  },
  {
   "cell_type": "code",
   "execution_count": null,
   "metadata": {
    "collapsed": true
   },
   "outputs": [],
   "source": []
  }
 ],
 "metadata": {
  "kernelspec": {
   "display_name": "Python 2",
   "language": "python",
   "name": "python2"
  },
  "language_info": {
   "codemirror_mode": {
    "name": "ipython",
    "version": 2
   },
   "file_extension": ".py",
   "mimetype": "text/x-python",
   "name": "python",
   "nbconvert_exporter": "python",
   "pygments_lexer": "ipython2",
   "version": "2.7.3"
  }
 },
 "nbformat": 4,
 "nbformat_minor": 1
}
