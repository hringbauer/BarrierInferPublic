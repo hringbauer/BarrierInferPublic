{
 "cells": [
  {
   "cell_type": "code",
   "execution_count": 1,
   "metadata": {
    "collapsed": true
   },
   "outputs": [],
   "source": [
    "import numpy as np\n",
    "import tensorflow as tf\n",
    "import pylab\n",
    "%matplotlib inline"
   ]
  },
  {
   "cell_type": "code",
   "execution_count": 2,
   "metadata": {
    "collapsed": false
   },
   "outputs": [],
   "source": [
    "X_data = np.loadtxt('./coordinates2.csv', delimiter='$').astype('float64')[:,:] # Only load first 400 entries\n",
    "#X_data /= np.max(X_data)    # Divide by the maximum WHY??\n",
    "\n",
    "Y_data = np.loadtxt('./data_genotypes2.csv', delimiter='$').astype('float64')[:,:]"
   ]
  },
  {
   "cell_type": "code",
   "execution_count": 3,
   "metadata": {
    "collapsed": false
   },
   "outputs": [
    {
     "name": "stdout",
     "output_type": "stream",
     "text": [
      "Dim. of X-data: 441 x 2\n",
      "Dim. of Y-data: 441 x 100\n"
     ]
    }
   ],
   "source": [
    "assert(len(X_data) == len(Y_data))\n",
    "\n",
    "N = X_data.shape[0]\n",
    "k = X_data.shape[1]\n",
    "print(\"Dim. of X-data: %i x %i\" % (N,k))\n",
    "M1 = Y_data.shape[0]\n",
    "M = Y_data.shape[1]\n",
    "Y_data[Y_data < 0.5] = -1.0\n",
    "print(\"Dim. of Y-data: %i x %i\" % (M1,M))"
   ]
  },
  {
   "cell_type": "code",
   "execution_count": 4,
   "metadata": {
    "collapsed": false
   },
   "outputs": [],
   "source": [
    "with tf.device('/cpu:0'):\n",
    "    X = tf.Variable(dtype=tf.float64, initial_value=X_data, trainable=False)\n",
    "    Y = tf.Variable(dtype=tf.float64, initial_value=Y_data, trainable=False)\n",
    "    F = tf.Variable(dtype=tf.float64, initial_value=np.random.normal(0.0, 0.1, (N, M)).astype('float64'),\n",
    "                    trainable=True)\n",
    "\n",
    "    l = tf.placeholder(shape=[], dtype=tf.float64)\n",
    "    a = tf.placeholder(shape=[], dtype=tf.float64)\n",
    "    \n",
    "    eye=tf.eye(N)\n",
    "\n",
    "    K = a * tf.exp(-tf.reduce_sum(((X[:, None] - X[None, :]) ** 2) / (2 * l **2), reduction_indices=[2])) + \\\n",
    "        0.00001 * tf.eye(N, dtype=tf.float64) # Calculate Matrix of Covariances\n",
    "    \n",
    "    #K = a * tf.exp(-tf.reduce_sum(((X[:, None] - X[None, :]) ** 2) / (2 * l), reduction_indices=[2])) + \\\n",
    "       # 0.0001 * eye                \n",
    "\n",
    "    p = tf.nn.sigmoid(F)            # Calculate probabilities(assuming sigmoid link function)\n",
    "    Kinv_F = tf.matrix_solve(K, F)  # Calculate K^(-1)*F\n",
    "    \n",
    "    data_fit = -tf.reduce_sum(tf.log(1 + tf.exp(-Y * F)), reduction_indices=[0]) # Calculate Data Fit: Check  \n",
    "    prior_fit = -0.5 * tf.reduce_sum(F * Kinv_F, reduction_indices=[0])          # Calcualte 1st term of prior probability: Check\n",
    "    \n",
    "    logL = tf.reduce_sum(data_fit + prior_fit) # Modulo terms not depending on f: Check\n",
    "    \n",
    "    g =  (0.5 * (Y + 1) - p) - Kinv_F # Calculate Matrix for Gradients Check\n",
    "    \n",
    "    W = p * (1 - p)        # Calculate first part of Hessia. It is diagonal (but here diagonal in every column)\n",
    "    lhs = -K[:, :, None] * W[None, :, :] - tf.eye(N, dtype=tf.float64)[:, :, None] # Check (HEADACHE)\n",
    "    #lhs = -K[:, :, None] * W[None, :, :] - eye[:, :, None] \n",
    "    rhs = tf.matmul(K, g)\n",
    "    \n",
    "    update = tf.matrix_solve(tf.transpose(lhs, [2, 0, 1]), tf.transpose(rhs, [1, 0])[:, :, None])[:, :, 0]\n",
    "    update = tf.transpose(update)\n",
    "    \n",
    "    opt_op = F.assign(F - update)\n",
    "    \n",
    "    #####\n",
    "    \n",
    "    B = (W[:, None, :] ** 0.5) * K[:, :, None] * (W[None, :, :] ** 0.5) + tf.eye(N, dtype=tf.float64)[:, :, None]  # Check\n",
    "    #B = (W[:, None, :] ** 0.5) * K[:, :, None] * (W[None, :, :] ** 0.5) + eye[:, :, None] \n",
    "    \n",
    "    det = tf.reduce_sum(tf.log(tf.matrix_diag_part(tf.cholesky(tf.transpose(B, [2, 0, 1])))))   # Factor of 2??\n",
    "    \n",
    "    margL = logL - det"
   ]
  },
  {
   "cell_type": "code",
   "execution_count": 5,
   "metadata": {
    "collapsed": false
   },
   "outputs": [],
   "source": [
    "config = tf.ConfigProto()\n",
    "config.gpu_options.per_process_gpu_memory_fraction = 0.01"
   ]
  },
  {
   "cell_type": "code",
   "execution_count": 6,
   "metadata": {
    "collapsed": false
   },
   "outputs": [
    {
     "name": "stdout",
     "output_type": "stream",
     "text": [
      "-12679462.3217\n"
     ]
    }
   ],
   "source": [
    "### Single Run\n",
    "aa, ll = 0.1, 25\n",
    "\n",
    "with tf.Session(config=config) as sess:\n",
    "    sess.run(tf.global_variables_initializer())\n",
    "    r = sess.run([opt_op, update, logL, margL], {a: aa, l: ll})\n",
    "    print(r[-1])    # Print marginal Likelihood"
   ]
  },
  {
   "cell_type": "code",
   "execution_count": 7,
   "metadata": {
    "collapsed": false
   },
   "outputs": [
    {
     "name": "stdout",
     "output_type": "stream",
     "text": [
      "[ 0.01  0.02  0.04  0.08  0.16  0.32  0.64  1.28  2.56  5.12]\n",
      "[   1.    2.    4.    8.   16.   32.   64.  128.  256.  512.]\n",
      "[ 0.03162278  0.04084239  0.05274997  0.06812921  0.08799225  0.11364637\n",
      "  0.14677993  0.18957357  0.24484367  0.31622777]\n",
      "[  10.           12.91549665   16.68100537   21.5443469    27.82559402\n",
      "   35.93813664   46.41588834   59.94842503   77.42636827  100.        ]\n"
     ]
    }
   ],
   "source": [
    "a_list = 0.01 * 2 ** np.arange(10)   # 10\n",
    "l_list = 1.0 * 2 ** np.arange(10)  # 10\n",
    "\n",
    "print(a_list)\n",
    "print(l_list)\n",
    "\n",
    "a_list = np.logspace(-1.5, -0.5, 10)\n",
    "l_list = np.logspace(1, 2, 10)\n",
    "print(a_list)\n",
    "print(l_list)"
   ]
  },
  {
   "cell_type": "code",
   "execution_count": 8,
   "metadata": {
    "collapsed": false,
    "scrolled": true
   },
   "outputs": [
    {
     "name": "stdout",
     "output_type": "stream",
     "text": [
      "Doing run: 0\n",
      "Tested a: 0.031623\n",
      "Tested l: 10.000000\n",
      "Likelihood: -30552.353856\n",
      "Doing run: 1\n",
      "Tested a: 0.031623\n",
      "Tested l: 12.915497\n",
      "Likelihood: -30543.938202\n",
      "Doing run: 2\n",
      "Tested a: 0.031623\n",
      "Tested l: 16.681005\n",
      "Likelihood: -30533.940807\n",
      "Doing run: 3\n",
      "Tested a: 0.031623\n",
      "Tested l: 21.544347\n",
      "Likelihood: -30524.033247\n",
      "Doing run: 4\n",
      "Tested a: 0.031623\n",
      "Tested l: 27.825594\n",
      "Likelihood: -30517.247155\n",
      "Doing run: 5\n",
      "Tested a: 0.031623\n",
      "Tested l: 35.938137\n",
      "Likelihood: -30516.119180\n",
      "Doing run: 6\n",
      "Tested a: 0.031623\n",
      "Tested l: 46.415888\n",
      "Likelihood: -30521.264616\n",
      "Doing run: 7\n",
      "Tested a: 0.031623\n",
      "Tested l: 59.948425\n",
      "Likelihood: -30531.362582\n",
      "Doing run: 8\n",
      "Tested a: 0.031623\n",
      "Tested l: 77.426368\n",
      "Likelihood: -30543.843988\n",
      "Doing run: 9\n",
      "Tested a: 0.031623\n",
      "Tested l: 100.000000\n",
      "Likelihood: -30555.923464\n",
      "Doing run: 10\n",
      "Tested a: 0.040842\n",
      "Tested l: 10.000000\n",
      "Likelihood: -30548.808827\n",
      "Doing run: 11\n",
      "Tested a: 0.040842\n",
      "Tested l: 12.915497\n",
      "Likelihood: -30538.653083\n",
      "Doing run: 12\n",
      "Tested a: 0.040842\n",
      "Tested l: 16.681005\n",
      "Likelihood: -30526.887822\n",
      "Doing run: 13\n",
      "Tested a: 0.040842\n",
      "Tested l: 21.544347\n",
      "Likelihood: -30515.716250\n",
      "Doing run: 14\n",
      "Tested a: 0.040842\n",
      "Tested l: 27.825594\n",
      "Likelihood: -30508.881598\n",
      "Doing run: 15\n",
      "Tested a: 0.040842\n",
      "Tested l: 35.938137\n",
      "Likelihood: -30509.218394\n",
      "Doing run: 16\n",
      "Tested a: 0.040842\n",
      "Tested l: 46.415888\n",
      "Likelihood: -30516.954599\n",
      "Doing run: 17\n",
      "Tested a: 0.040842\n",
      "Tested l: 59.948425\n",
      "Likelihood: -30530.002886\n",
      "Doing run: 18\n",
      "Tested a: 0.040842\n",
      "Tested l: 77.426368\n",
      "Likelihood: -30545.105852\n",
      "Doing run: 19\n",
      "Tested a: 0.040842\n",
      "Tested l: 100.000000\n",
      "Likelihood: -30559.105957\n",
      "Doing run: 20\n",
      "Tested a: 0.052750\n",
      "Tested l: 10.000000\n",
      "Likelihood: -30544.812650\n",
      "Doing run: 21\n",
      "Tested a: 0.052750\n",
      "Tested l: 12.915497\n",
      "Likelihood: -30532.805733\n",
      "Doing run: 22\n",
      "Tested a: 0.052750\n",
      "Tested l: 16.681005\n",
      "Likelihood: -30519.337625\n",
      "Doing run: 23\n",
      "Tested a: 0.052750\n",
      "Tested l: 21.544347\n",
      "Likelihood: -30507.239968\n",
      "Doing run: 24\n",
      "Tested a: 0.052750\n",
      "Tested l: 27.825594\n",
      "Likelihood: -30500.983288\n",
      "Doing run: 25\n",
      "Tested a: 0.052750\n",
      "Tested l: 35.938137\n",
      "Likelihood: -30503.524622\n",
      "Doing run: 26\n",
      "Tested a: 0.052750\n",
      "Tested l: 46.415888\n",
      "Likelihood: -30514.433315\n",
      "Doing run: 27\n",
      "Tested a: 0.052750\n",
      "Tested l: 59.948425\n",
      "Likelihood: -30530.697754\n",
      "Doing run: 28\n",
      "Tested a: 0.052750\n",
      "Tested l: 77.426368\n",
      "Likelihood: -30548.399328\n",
      "Doing run: 29\n",
      "Tested a: 0.052750\n",
      "Tested l: 100.000000\n",
      "Likelihood: -30564.136257\n",
      "Doing run: 30\n",
      "Tested a: 0.068129\n",
      "Tested l: 10.000000\n",
      "Likelihood: -30540.564737\n",
      "Doing run: 31\n",
      "Tested a: 0.068129\n",
      "Tested l: 12.915497\n",
      "Likelihood: -30526.751343\n",
      "Doing run: 32\n",
      "Tested a: 0.068129\n",
      "Tested l: 16.681005\n",
      "Likelihood: -30511.891061\n",
      "Doing run: 33\n",
      "Tested a: 0.068129\n",
      "Tested l: 21.544347\n",
      "Likelihood: -30499.490363\n",
      "Doing run: 34\n",
      "Tested a: 0.068129\n",
      "Tested l: 27.825594\n",
      "Likelihood: -30494.653879\n",
      "Doing run: 35\n",
      "Tested a: 0.068129\n",
      "Tested l: 35.938137\n",
      "Likelihood: -30500.178452\n",
      "Doing run: 36\n",
      "Tested a: 0.068129\n",
      "Tested l: 46.415888\n",
      "Likelihood: -30514.695051\n",
      "Doing run: 37\n",
      "Tested a: 0.068129\n",
      "Tested l: 59.948425\n",
      "Likelihood: -30534.203453\n",
      "Doing run: 38\n",
      "Tested a: 0.068129\n",
      "Tested l: 77.426368\n",
      "Likelihood: -30554.249577\n",
      "Doing run: 39\n",
      "Tested a: 0.068129\n",
      "Tested l: 100.000000\n",
      "Likelihood: -30571.368704\n",
      "Doing run: 40\n",
      "Tested a: 0.087992\n",
      "Tested l: 10.000000\n",
      "Likelihood: -30536.486810\n",
      "Doing run: 41\n",
      "Tested a: 0.087992\n",
      "Tested l: 12.915497\n",
      "Likelihood: -30521.173483\n",
      "Doing run: 42\n",
      "Tested a: 0.087992\n",
      "Tested l: 16.681005\n",
      "Likelihood: -30505.582996\n",
      "Doing run: 43\n",
      "Tested a: 0.087992\n",
      "Tested l: 21.544347\n",
      "Likelihood: -30493.832608\n",
      "Doing run: 44\n",
      "Tested a: 0.087992\n",
      "Tested l: 27.825594\n",
      "Likelihood: -30491.415025\n",
      "Doing run: 45\n",
      "Tested a: 0.087992\n",
      "Tested l: 35.938137\n",
      "Likelihood: -30500.601530\n",
      "Doing run: 46\n",
      "Tested a: 0.087992\n",
      "Tested l: 46.415888\n",
      "Likelihood: -30518.872404\n",
      "Doing run: 47\n",
      "Tested a: 0.087992\n",
      "Tested l: 59.948425\n",
      "Likelihood: -30541.322873\n",
      "Doing run: 48\n",
      "Tested a: 0.087992\n",
      "Tested l: 77.426368\n",
      "Likelihood: -30563.187735\n",
      "Doing run: 49\n",
      "Tested a: 0.087992\n",
      "Tested l: 100.000000\n",
      "Likelihood: -30581.147039\n",
      "Doing run: 50\n",
      "Tested a: 0.113646\n",
      "Tested l: 10.000000\n",
      "Likelihood: -30533.346812\n",
      "Doing run: 51\n",
      "Tested a: 0.113646\n",
      "Tested l: 12.915497\n",
      "Likelihood: -30517.234436\n",
      "Doing run: 52\n",
      "Tested a: 0.113646\n",
      "Tested l: 16.681005\n",
      "Likelihood: -30502.025769\n",
      "Doing run: 53\n",
      "Tested a: 0.113646\n",
      "Tested l: 21.544347\n",
      "Likelihood: -30492.199169\n",
      "Doing run: 54\n",
      "Tested a: 0.113646\n",
      "Tested l: 27.825594\n",
      "Likelihood: -30493.219073\n",
      "Doing run: 55\n",
      "Tested a: 0.113646\n",
      "Tested l: 35.938137\n",
      "Likelihood: -30506.456803\n",
      "Doing run: 56\n",
      "Tested a: 0.113646\n",
      "Tested l: 46.415888\n",
      "Likelihood: -30528.188919\n",
      "Doing run: 57\n",
      "Tested a: 0.113646\n",
      "Tested l: 59.948425\n",
      "Likelihood: -30552.872707\n",
      "Doing run: 58\n",
      "Tested a: 0.113646\n",
      "Tested l: 77.426368\n",
      "Likelihood: -30575.735308\n",
      "Doing run: 59\n",
      "Tested a: 0.113646\n",
      "Tested l: 100.000000\n",
      "Likelihood: -30593.795049\n",
      "Doing run: 60\n",
      "Tested a: 0.146780\n",
      "Tested l: 10.000000\n",
      "Likelihood: -30532.420555\n",
      "Doing run: 61\n",
      "Tested a: 0.146780\n",
      "Tested l: 12.915497\n",
      "Likelihood: -30516.748678\n",
      "Doing run: 62\n",
      "Tested a: 0.146780\n",
      "Tested l: 16.681005\n",
      "Likelihood: -30503.542286\n",
      "Doing run: 63\n",
      "Tested a: 0.146780\n",
      "Tested l: 21.544347\n",
      "Likelihood: -30497.134520\n",
      "Doing run: 64\n",
      "Tested a: 0.146780\n",
      "Tested l: 27.825594\n",
      "Likelihood: -30502.411638\n",
      "Doing run: 65\n",
      "Tested a: 0.146780\n",
      "Tested l: 35.938137\n",
      "Likelihood: -30519.582162\n",
      "Doing run: 66\n",
      "Tested a: 0.146780\n",
      "Tested l: 46.415888\n",
      "Likelihood: -30543.906661\n",
      "Doing run: 67\n",
      "Tested a: 0.146780\n",
      "Tested l: 59.948425\n",
      "Likelihood: -30569.653282\n",
      "Doing run: 68\n",
      "Tested a: 0.146780\n",
      "Tested l: 77.426368\n",
      "Likelihood: -30592.392461\n",
      "Doing run: 69\n",
      "Tested a: 0.146780\n",
      "Tested l: 100.000000\n",
      "Likelihood: -30609.614495\n",
      "Doing run: 70\n",
      "Tested a: 0.189574\n",
      "Tested l: 10.000000\n",
      "Likelihood: -30535.683550\n",
      "Doing run: 71\n",
      "Tested a: 0.189574\n",
      "Tested l: 12.915497\n",
      "Likelihood: -30522.356942\n",
      "Doing run: 72\n",
      "Tested a: 0.189574\n",
      "Tested l: 16.681005\n",
      "Likelihood: -30513.257323\n",
      "Doing run: 73\n",
      "Tested a: 0.189574\n",
      "Tested l: 21.544347\n",
      "Likelihood: -30511.775993\n",
      "Doing run: 74\n",
      "Tested a: 0.189574\n",
      "Tested l: 27.825594\n",
      "Likelihood: -30521.646707\n",
      "Doing run: 75\n",
      "Tested a: 0.189574\n",
      "Tested l: 35.938137\n",
      "Likelihood: -30541.908254\n",
      "Doing run: 76\n",
      "Tested a: 0.189574\n",
      "Tested l: 46.415888\n",
      "Likelihood: -30567.277013\n",
      "Doing run: 77\n",
      "Tested a: 0.189574\n",
      "Tested l: 59.948425\n",
      "Likelihood: -30592.424391\n",
      "Doing run: 78\n",
      "Tested a: 0.189574\n",
      "Tested l: 77.426368\n",
      "Likelihood: -30613.629011\n",
      "Doing run: 79\n",
      "Tested a: 0.189574\n",
      "Tested l: 100.000000\n",
      "Likelihood: -30628.889746\n",
      "Doing run: 80\n",
      "Tested a: 0.244844\n",
      "Tested l: 10.000000\n",
      "Likelihood: -30546.010393\n",
      "Doing run: 81\n",
      "Tested a: 0.244844\n",
      "Tested l: 12.915497\n",
      "Likelihood: -30537.664892\n",
      "Doing run: 82\n",
      "Tested a: 0.244844\n",
      "Tested l: 16.681005\n",
      "Likelihood: -30535.114776\n",
      "Doing run: 83\n",
      "Tested a: 0.244844\n",
      "Tested l: 21.544347\n",
      "Likelihood: -30539.762568\n",
      "Doing run: 84\n",
      "Tested a: 0.244844\n",
      "Tested l: 27.825594\n",
      "Likelihood: -30553.766267\n",
      "Doing run: 85\n",
      "Tested a: 0.244844\n",
      "Tested l: 35.938137\n",
      "Likelihood: -30575.373473\n",
      "Doing run: 86\n",
      "Tested a: 0.244844\n",
      "Tested l: 46.415888\n",
      "Likelihood: -30599.500731\n",
      "Doing run: 87\n",
      "Tested a: 0.244844\n",
      "Tested l: 59.948425\n",
      "Likelihood: -30621.889406\n",
      "Doing run: 88\n",
      "Tested a: 0.244844\n",
      "Tested l: 77.426368\n",
      "Likelihood: -30639.876549\n",
      "Doing run: 89\n",
      "Tested a: 0.244844\n",
      "Tested l: 100.000000\n",
      "Likelihood: -30651.894451\n",
      "Doing run: 90\n",
      "Tested a: 0.316228\n",
      "Tested l: 10.000000\n",
      "Likelihood: -30567.341407\n",
      "Doing run: 91\n",
      "Tested a: 0.316228\n",
      "Tested l: 12.915497\n",
      "Likelihood: -30567.303584\n",
      "Doing run: 92\n",
      "Tested a: 0.316228\n",
      "Tested l: 16.681005\n",
      "Likelihood: -30573.799246\n",
      "Doing run: 93\n",
      "Tested a: 0.316228\n",
      "Tested l: 21.544347\n",
      "Likelihood: -30585.080602\n",
      "Doing run: 94\n",
      "Tested a: 0.316228\n",
      "Tested l: 27.825594\n",
      "Likelihood: -30601.664051\n",
      "Doing run: 95\n",
      "Tested a: 0.316228\n",
      "Tested l: 35.938137\n",
      "Likelihood: -30621.847464\n",
      "Doing run: 96\n",
      "Tested a: 0.316228\n",
      "Tested l: 46.415888\n",
      "Likelihood: -30641.699707\n",
      "Doing run: 97\n",
      "Tested a: 0.316228\n",
      "Tested l: 59.948425\n",
      "Likelihood: -30658.688796\n",
      "Doing run: 98\n",
      "Tested a: 0.316228\n",
      "Tested l: 77.426368\n",
      "Likelihood: -30671.521511\n",
      "Doing run: 99\n",
      "Tested a: 0.316228\n",
      "Tested l: 100.000000\n",
      "Likelihood: -30678.894270\n"
     ]
    }
   ],
   "source": [
    "res = []\n",
    "j=0\n",
    "with tf.Session(config=config) as sess:\n",
    "    for aa in a_list:\n",
    "        for ll in l_list:\n",
    "            print(\"Doing run: %i\" % j)\n",
    "            j+=1\n",
    "    \n",
    "            sess.run(tf.global_variables_initializer())   # Changed to global_variables_initializer\n",
    "\n",
    "            prev = None\n",
    "            for i in range(20):\n",
    "                r = sess.run([opt_op, update, logL, margL], {a: aa, l:ll})\n",
    "                if prev and np.abs(prev - r[-1]) < 0.01:\n",
    "                    break\n",
    "                prev = r[-1]\n",
    "            print(\"Tested a: %4f\" % aa)\n",
    "            print(\"Tested l: %4f\" % ll)\n",
    "            print(\"Likelihood: %4f\" % r[-1])\n",
    "            res.append(r[-1])"
   ]
  },
  {
   "cell_type": "code",
   "execution_count": 9,
   "metadata": {
    "collapsed": false
   },
   "outputs": [
    {
     "data": {
      "text/plain": [
       "[<matplotlib.lines.Line2D at 0x8e136d0>]"
      ]
     },
     "execution_count": 9,
     "metadata": {},
     "output_type": "execute_result"
    },
    {
     "data": {
      "image/png": "[encoded data removed]",
      "text/plain": [
       "<matplotlib.figure.Figure at 0x2bb4ad0>"
      ]
     },
     "metadata": {},
     "output_type": "display_data"
    }
   ],
   "source": [
    "surface = np.array(res).reshape((10, 10))\n",
    "pylab.pcolormesh(l_list, a_list, surface)\n",
    "pylab.xscale('log')\n",
    "pylab.yscale('log')\n",
    "pylab.xlabel('l')\n",
    "pylab.ylabel('a')\n",
    "pylab.colorbar()\n",
    "pylab.plot(25, 0.1, 'ko', linewidth=5)"
   ]
  },
  {
   "cell_type": "code",
   "execution_count": 12,
   "metadata": {
    "collapsed": false
   },
   "outputs": [
    {
     "data": {
      "image/png": "[encoded data removed]",
      "text/plain": [
       "<matplotlib.figure.Figure at 0x5edabd0>"
      ]
     },
     "metadata": {},
     "output_type": "display_data"
    }
   ],
   "source": [
    "pylab.figure()\n",
    "levels = np.arange(max(res) - 30, max(res) + 1, 2)  # Every two likelihood units\n",
    "ax=pylab.contourf(l_list, a_list, surface, alpha=0.9, levels=levels)\n",
    "\n",
    "# plt.clabel(ax, inline=1, fontsize=10)\n",
    "pylab.colorbar(ax, format=\"%i\")\n",
    "pylab.title(\"Log Likelihood Surface\", fontsize=20)\n",
    "pylab.xlabel(\"l\", fontsize=20)\n",
    "pylab.ylabel(\"a\", fontsize=20)\n",
    "pylab.xscale('log')\n",
    "pylab.yscale('log')\n",
    "pylab.plot(25, 0.1, 'ko', linewidth=5, label=\"True Value\")\n",
    "pylab.legend()\n",
    "pylab.show()"
   ]
  },
  {
   "cell_type": "code",
   "execution_count": 11,
   "metadata": {
    "collapsed": false
   },
   "outputs": [
    {
     "data": {
      "text/plain": [
       "-0.9975014341566667"
      ]
     },
     "execution_count": 11,
     "metadata": {},
     "output_type": "execute_result"
    }
   ],
   "source": [
    "np.max(surface) / (N * np.log(2) * M)"
   ]
  },
  {
   "cell_type": "code",
   "execution_count": 20,
   "metadata": {
    "collapsed": false
   },
   "outputs": [
    {
     "name": "stdout",
     "output_type": "stream",
     "text": [
      "[[ 0.06090784 -0.05272158  0.01708335 ...,  0.05659256 -0.0747567\n",
      "   0.18795428]\n",
      " [ 0.04326515 -0.08151119  0.01201972 ...,  0.08712156 -0.10628698\n",
      "   0.21776664]\n",
      " [ 0.04031486 -0.07701775 -0.00603336 ...,  0.10063769 -0.13857102\n",
      "   0.21582889]\n",
      " ..., \n",
      " [ 0.17932696 -0.0008764  -0.08902204 ..., -0.10351908 -0.11762903\n",
      "  -0.14271822]\n",
      " [ 0.14502793 -0.01582694 -0.1295628  ..., -0.11307538 -0.10490563\n",
      "  -0.13440737]\n",
      " [ 0.08959963 -0.02304626 -0.14129821 ..., -0.10442131 -0.07741264\n",
      "  -0.10911118]]\n"
     ]
    }
   ],
   "source": [
    "with tf.Session(config=config) as sess:\n",
    "    #sess.run(tf.initialize_all_variables())\n",
    "    sess.run(tf.global_variables_initializer())# Update by Harald\n",
    "    \n",
    "    for i in range(3):\n",
    "        sess.run(opt_op, {a: 0.1, l:25})\n",
    "    r = sess.run(F, {a: 0.1, l: 25})\n",
    "    print(r)"
   ]
  },
  {
   "cell_type": "code",
   "execution_count": 21,
   "metadata": {
    "collapsed": false
   },
   "outputs": [
    {
     "name": "stdout",
     "output_type": "stream",
     "text": [
      "20\n"
     ]
    }
   ],
   "source": [
    "x, y, z = X_data[:, 0], X_data[:, 1], r[:, 1]\n",
    "x=np.linspace(0, 1, 20)\n",
    "print(len(x))"
   ]
  },
  {
   "cell_type": "code",
   "execution_count": 22,
   "metadata": {
    "collapsed": false
   },
   "outputs": [
    {
     "data": {
      "text/plain": [
       "<matplotlib.colorbar.Colorbar instance at 0xbe42170>"
      ]
     },
     "execution_count": 22,
     "metadata": {},
     "output_type": "execute_result"
    },
    {
     "data": {
      "image/png": "[encoded data removed]",
      "text/plain": [
       "<matplotlib.figure.Figure at 0xbeb4250>"
      ]
     },
     "metadata": {},
     "output_type": "display_data"
    }
   ],
   "source": [
    "pylab.pcolormesh(x, x, z.reshape(21, 21))\n",
    "pylab.colorbar()"
   ]
  },
  {
   "cell_type": "code",
   "execution_count": 88,
   "metadata": {
    "collapsed": false
   },
   "outputs": [
    {
     "data": {
      "text/plain": [
       "(20,)"
      ]
     },
     "execution_count": 88,
     "metadata": {},
     "output_type": "execute_result"
    }
   ],
   "source": [
    "x.shape"
   ]
  },
  {
   "cell_type": "code",
   "execution_count": 89,
   "metadata": {
    "collapsed": false
   },
   "outputs": [
    {
     "data": {
      "text/plain": [
       "(400,)"
      ]
     },
     "execution_count": 89,
     "metadata": {},
     "output_type": "execute_result"
    }
   ],
   "source": [
    "y.shape"
   ]
  },
  {
   "cell_type": "code",
   "execution_count": 90,
   "metadata": {
    "collapsed": false
   },
   "outputs": [
    {
     "data": {
      "text/plain": [
       "(400,)"
      ]
     },
     "execution_count": 90,
     "metadata": {},
     "output_type": "execute_result"
    }
   ],
   "source": [
    "z.shape"
   ]
  },
  {
   "cell_type": "code",
   "execution_count": 55,
   "metadata": {
    "collapsed": false
   },
   "outputs": [
    {
     "data": {
      "text/plain": [
       "31.0"
      ]
     },
     "execution_count": 55,
     "metadata": {},
     "output_type": "execute_result"
    }
   ],
   "source": [
    "961 ** 0.5"
   ]
  },
  {
   "cell_type": "code",
   "execution_count": 22,
   "metadata": {
    "collapsed": false
   },
   "outputs": [],
   "source": [
    "with tf.Session() as sess:\n",
    "    r = sess.run(tf.diag(tf.ones(5)))"
   ]
  },
  {
   "cell_type": "code",
   "execution_count": 63,
   "metadata": {
    "collapsed": false
   },
   "outputs": [
    {
     "data": {
      "text/plain": [
       "array([[ 1.,  0.,  0.,  0.,  0.],\n",
       "       [ 0.,  1.,  0.,  0.,  0.],\n",
       "       [ 0.,  0.,  1.,  0.,  0.],\n",
       "       [ 0.,  0.,  0.,  1.,  0.],\n",
       "       [ 0.,  0.,  0.,  0.,  1.]], dtype=float32)"
      ]
     },
     "execution_count": 63,
     "metadata": {},
     "output_type": "execute_result"
    }
   ],
   "source": [
    "r"
   ]
  },
  {
   "cell_type": "code",
   "execution_count": 64,
   "metadata": {
    "collapsed": false
   },
   "outputs": [
    {
     "data": {
      "text/plain": [
       "'0.12.0-rc0'"
      ]
     },
     "execution_count": 64,
     "metadata": {},
     "output_type": "execute_result"
    }
   ],
   "source": [
    "tf.__version__"
   ]
  },
  {
   "cell_type": "code",
   "execution_count": null,
   "metadata": {
    "collapsed": true
   },
   "outputs": [],
   "source": []
  }
 ],
 "metadata": {
  "kernelspec": {
   "display_name": "Python 2",
   "language": "python",
   "name": "python2"
  },
  "language_info": {
   "codemirror_mode": {
    "name": "ipython",
    "version": 2
   },
   "file_extension": ".py",
   "mimetype": "text/x-python",
   "name": "python",
   "nbconvert_exporter": "python",
   "pygments_lexer": "ipython2",
   "version": "2.7.3"
  }
 },
 "nbformat": 4,
 "nbformat_minor": 1
}
