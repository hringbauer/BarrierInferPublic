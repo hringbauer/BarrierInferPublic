{
 "cells": [
  {
   "cell_type": "code",
   "execution_count": 1,
   "metadata": {
    "collapsed": true
   },
   "outputs": [],
   "source": [
    "import numpy as np\n",
    "import tensorflow as tf\n",
    "import pylab\n",
    "%matplotlib inline"
   ]
  },
  {
   "cell_type": "code",
   "execution_count": 85,
   "metadata": {
    "collapsed": false
   },
   "outputs": [
    {
     "name": "stdout",
     "output_type": "stream",
     "text": [
      "[[ 0.          0.        ]\n",
      " [ 0.          0.03333333]\n",
      " [ 0.          0.06666667]\n",
      " [ 0.          0.1       ]\n",
      " [ 0.          0.13333333]\n",
      " [ 0.          0.16666667]\n",
      " [ 0.          0.2       ]\n",
      " [ 0.          0.23333333]\n",
      " [ 0.          0.26666667]\n",
      " [ 0.          0.3       ]\n",
      " [ 0.          0.33333333]\n",
      " [ 0.          0.36666667]\n",
      " [ 0.          0.4       ]\n",
      " [ 0.          0.43333333]\n",
      " [ 0.          0.46666667]\n",
      " [ 0.          0.5       ]\n",
      " [ 0.          0.53333333]\n",
      " [ 0.          0.56666667]\n",
      " [ 0.          0.6       ]\n",
      " [ 0.          0.63333333]\n",
      " [ 0.          0.66666667]\n",
      " [ 0.          0.7       ]\n",
      " [ 0.          0.73333333]\n",
      " [ 0.          0.76666667]\n",
      " [ 0.          0.8       ]\n",
      " [ 0.          0.83333333]\n",
      " [ 0.          0.86666667]\n",
      " [ 0.          0.9       ]\n",
      " [ 0.          0.93333333]\n",
      " [ 0.          0.96666667]\n",
      " [ 0.          1.        ]\n",
      " [ 0.03333333  0.        ]\n",
      " [ 0.03333333  0.03333333]\n",
      " [ 0.03333333  0.06666667]\n",
      " [ 0.03333333  0.1       ]\n",
      " [ 0.03333333  0.13333333]\n",
      " [ 0.03333333  0.16666667]\n",
      " [ 0.03333333  0.2       ]\n",
      " [ 0.03333333  0.23333333]\n",
      " [ 0.03333333  0.26666667]\n",
      " [ 0.03333333  0.3       ]\n",
      " [ 0.03333333  0.33333333]\n",
      " [ 0.03333333  0.36666667]\n",
      " [ 0.03333333  0.4       ]\n",
      " [ 0.03333333  0.43333333]\n",
      " [ 0.03333333  0.46666667]\n",
      " [ 0.03333333  0.5       ]\n",
      " [ 0.03333333  0.53333333]\n",
      " [ 0.03333333  0.56666667]\n",
      " [ 0.03333333  0.6       ]\n",
      " [ 0.03333333  0.63333333]\n",
      " [ 0.03333333  0.66666667]\n",
      " [ 0.03333333  0.7       ]\n",
      " [ 0.03333333  0.73333333]\n",
      " [ 0.03333333  0.76666667]\n",
      " [ 0.03333333  0.8       ]\n",
      " [ 0.03333333  0.83333333]\n",
      " [ 0.03333333  0.86666667]\n",
      " [ 0.03333333  0.9       ]\n",
      " [ 0.03333333  0.93333333]\n",
      " [ 0.03333333  0.96666667]\n",
      " [ 0.03333333  1.        ]\n",
      " [ 0.06666667  0.        ]\n",
      " [ 0.06666667  0.03333333]\n",
      " [ 0.06666667  0.06666667]\n",
      " [ 0.06666667  0.1       ]\n",
      " [ 0.06666667  0.13333333]\n",
      " [ 0.06666667  0.16666667]\n",
      " [ 0.06666667  0.2       ]\n",
      " [ 0.06666667  0.23333333]\n",
      " [ 0.06666667  0.26666667]\n",
      " [ 0.06666667  0.3       ]\n",
      " [ 0.06666667  0.33333333]\n",
      " [ 0.06666667  0.36666667]\n",
      " [ 0.06666667  0.4       ]\n",
      " [ 0.06666667  0.43333333]\n",
      " [ 0.06666667  0.46666667]\n",
      " [ 0.06666667  0.5       ]\n",
      " [ 0.06666667  0.53333333]\n",
      " [ 0.06666667  0.56666667]\n",
      " [ 0.06666667  0.6       ]\n",
      " [ 0.06666667  0.63333333]\n",
      " [ 0.06666667  0.66666667]\n",
      " [ 0.06666667  0.7       ]\n",
      " [ 0.06666667  0.73333333]\n",
      " [ 0.06666667  0.76666667]\n",
      " [ 0.06666667  0.8       ]\n",
      " [ 0.06666667  0.83333333]\n",
      " [ 0.06666667  0.86666667]\n",
      " [ 0.06666667  0.9       ]\n",
      " [ 0.06666667  0.93333333]\n",
      " [ 0.06666667  0.96666667]\n",
      " [ 0.06666667  1.        ]\n",
      " [ 0.1         0.        ]\n",
      " [ 0.1         0.03333333]\n",
      " [ 0.1         0.06666667]\n",
      " [ 0.1         0.1       ]\n",
      " [ 0.1         0.13333333]\n",
      " [ 0.1         0.16666667]\n",
      " [ 0.1         0.2       ]\n",
      " [ 0.1         0.23333333]\n",
      " [ 0.1         0.26666667]\n",
      " [ 0.1         0.3       ]\n",
      " [ 0.1         0.33333333]\n",
      " [ 0.1         0.36666667]\n",
      " [ 0.1         0.4       ]\n",
      " [ 0.1         0.43333333]\n",
      " [ 0.1         0.46666667]\n",
      " [ 0.1         0.5       ]\n",
      " [ 0.1         0.53333333]\n",
      " [ 0.1         0.56666667]\n",
      " [ 0.1         0.6       ]\n",
      " [ 0.1         0.63333333]\n",
      " [ 0.1         0.66666667]\n",
      " [ 0.1         0.7       ]\n",
      " [ 0.1         0.73333333]\n",
      " [ 0.1         0.76666667]\n",
      " [ 0.1         0.8       ]\n",
      " [ 0.1         0.83333333]\n",
      " [ 0.1         0.86666667]\n",
      " [ 0.1         0.9       ]\n",
      " [ 0.1         0.93333333]\n",
      " [ 0.1         0.96666667]\n",
      " [ 0.1         1.        ]\n",
      " [ 0.13333333  0.        ]\n",
      " [ 0.13333333  0.03333333]\n",
      " [ 0.13333333  0.06666667]\n",
      " [ 0.13333333  0.1       ]\n",
      " [ 0.13333333  0.13333333]\n",
      " [ 0.13333333  0.16666667]\n",
      " [ 0.13333333  0.2       ]\n",
      " [ 0.13333333  0.23333333]\n",
      " [ 0.13333333  0.26666667]\n",
      " [ 0.13333333  0.3       ]\n",
      " [ 0.13333333  0.33333333]\n",
      " [ 0.13333333  0.36666667]\n",
      " [ 0.13333333  0.4       ]\n",
      " [ 0.13333333  0.43333333]\n",
      " [ 0.13333333  0.46666667]\n",
      " [ 0.13333333  0.5       ]\n",
      " [ 0.13333333  0.53333333]\n",
      " [ 0.13333333  0.56666667]\n",
      " [ 0.13333333  0.6       ]\n",
      " [ 0.13333333  0.63333333]\n",
      " [ 0.13333333  0.66666667]\n",
      " [ 0.13333333  0.7       ]\n",
      " [ 0.13333333  0.73333333]\n",
      " [ 0.13333333  0.76666667]\n",
      " [ 0.13333333  0.8       ]\n",
      " [ 0.13333333  0.83333333]\n",
      " [ 0.13333333  0.86666667]\n",
      " [ 0.13333333  0.9       ]\n",
      " [ 0.13333333  0.93333333]\n",
      " [ 0.13333333  0.96666667]\n",
      " [ 0.13333333  1.        ]\n",
      " [ 0.16666667  0.        ]\n",
      " [ 0.16666667  0.03333333]\n",
      " [ 0.16666667  0.06666667]\n",
      " [ 0.16666667  0.1       ]\n",
      " [ 0.16666667  0.13333333]\n",
      " [ 0.16666667  0.16666667]\n",
      " [ 0.16666667  0.2       ]\n",
      " [ 0.16666667  0.23333333]\n",
      " [ 0.16666667  0.26666667]\n",
      " [ 0.16666667  0.3       ]\n",
      " [ 0.16666667  0.33333333]\n",
      " [ 0.16666667  0.36666667]\n",
      " [ 0.16666667  0.4       ]\n",
      " [ 0.16666667  0.43333333]\n",
      " [ 0.16666667  0.46666667]\n",
      " [ 0.16666667  0.5       ]\n",
      " [ 0.16666667  0.53333333]\n",
      " [ 0.16666667  0.56666667]\n",
      " [ 0.16666667  0.6       ]\n",
      " [ 0.16666667  0.63333333]\n",
      " [ 0.16666667  0.66666667]\n",
      " [ 0.16666667  0.7       ]\n",
      " [ 0.16666667  0.73333333]\n",
      " [ 0.16666667  0.76666667]\n",
      " [ 0.16666667  0.8       ]\n",
      " [ 0.16666667  0.83333333]\n",
      " [ 0.16666667  0.86666667]\n",
      " [ 0.16666667  0.9       ]\n",
      " [ 0.16666667  0.93333333]\n",
      " [ 0.16666667  0.96666667]\n",
      " [ 0.16666667  1.        ]\n",
      " [ 0.2         0.        ]\n",
      " [ 0.2         0.03333333]\n",
      " [ 0.2         0.06666667]\n",
      " [ 0.2         0.1       ]\n",
      " [ 0.2         0.13333333]\n",
      " [ 0.2         0.16666667]\n",
      " [ 0.2         0.2       ]\n",
      " [ 0.2         0.23333333]\n",
      " [ 0.2         0.26666667]\n",
      " [ 0.2         0.3       ]\n",
      " [ 0.2         0.33333333]\n",
      " [ 0.2         0.36666667]\n",
      " [ 0.2         0.4       ]\n",
      " [ 0.2         0.43333333]\n",
      " [ 0.2         0.46666667]\n",
      " [ 0.2         0.5       ]\n",
      " [ 0.2         0.53333333]\n",
      " [ 0.2         0.56666667]\n",
      " [ 0.2         0.6       ]\n",
      " [ 0.2         0.63333333]\n",
      " [ 0.2         0.66666667]\n",
      " [ 0.2         0.7       ]\n",
      " [ 0.2         0.73333333]\n",
      " [ 0.2         0.76666667]\n",
      " [ 0.2         0.8       ]\n",
      " [ 0.2         0.83333333]\n",
      " [ 0.2         0.86666667]\n",
      " [ 0.2         0.9       ]\n",
      " [ 0.2         0.93333333]\n",
      " [ 0.2         0.96666667]\n",
      " [ 0.2         1.        ]\n",
      " [ 0.23333333  0.        ]\n",
      " [ 0.23333333  0.03333333]\n",
      " [ 0.23333333  0.06666667]\n",
      " [ 0.23333333  0.1       ]\n",
      " [ 0.23333333  0.13333333]\n",
      " [ 0.23333333  0.16666667]\n",
      " [ 0.23333333  0.2       ]\n",
      " [ 0.23333333  0.23333333]\n",
      " [ 0.23333333  0.26666667]\n",
      " [ 0.23333333  0.3       ]\n",
      " [ 0.23333333  0.33333333]\n",
      " [ 0.23333333  0.36666667]\n",
      " [ 0.23333333  0.4       ]\n",
      " [ 0.23333333  0.43333333]\n",
      " [ 0.23333333  0.46666667]\n",
      " [ 0.23333333  0.5       ]\n",
      " [ 0.23333333  0.53333333]\n",
      " [ 0.23333333  0.56666667]\n",
      " [ 0.23333333  0.6       ]\n",
      " [ 0.23333333  0.63333333]\n",
      " [ 0.23333333  0.66666667]\n",
      " [ 0.23333333  0.7       ]\n",
      " [ 0.23333333  0.73333333]\n",
      " [ 0.23333333  0.76666667]\n",
      " [ 0.23333333  0.8       ]\n",
      " [ 0.23333333  0.83333333]\n",
      " [ 0.23333333  0.86666667]\n",
      " [ 0.23333333  0.9       ]\n",
      " [ 0.23333333  0.93333333]\n",
      " [ 0.23333333  0.96666667]\n",
      " [ 0.23333333  1.        ]\n",
      " [ 0.26666667  0.        ]\n",
      " [ 0.26666667  0.03333333]\n",
      " [ 0.26666667  0.06666667]\n",
      " [ 0.26666667  0.1       ]\n",
      " [ 0.26666667  0.13333333]\n",
      " [ 0.26666667  0.16666667]\n",
      " [ 0.26666667  0.2       ]\n",
      " [ 0.26666667  0.23333333]\n",
      " [ 0.26666667  0.26666667]\n",
      " [ 0.26666667  0.3       ]\n",
      " [ 0.26666667  0.33333333]\n",
      " [ 0.26666667  0.36666667]\n",
      " [ 0.26666667  0.4       ]\n",
      " [ 0.26666667  0.43333333]\n",
      " [ 0.26666667  0.46666667]\n",
      " [ 0.26666667  0.5       ]\n",
      " [ 0.26666667  0.53333333]\n",
      " [ 0.26666667  0.56666667]\n",
      " [ 0.26666667  0.6       ]\n",
      " [ 0.26666667  0.63333333]\n",
      " [ 0.26666667  0.66666667]\n",
      " [ 0.26666667  0.7       ]\n",
      " [ 0.26666667  0.73333333]\n",
      " [ 0.26666667  0.76666667]\n",
      " [ 0.26666667  0.8       ]\n",
      " [ 0.26666667  0.83333333]\n",
      " [ 0.26666667  0.86666667]\n",
      " [ 0.26666667  0.9       ]\n",
      " [ 0.26666667  0.93333333]\n",
      " [ 0.26666667  0.96666667]\n",
      " [ 0.26666667  1.        ]\n",
      " [ 0.3         0.        ]\n",
      " [ 0.3         0.03333333]\n",
      " [ 0.3         0.06666667]\n",
      " [ 0.3         0.1       ]\n",
      " [ 0.3         0.13333333]\n",
      " [ 0.3         0.16666667]\n",
      " [ 0.3         0.2       ]\n",
      " [ 0.3         0.23333333]\n",
      " [ 0.3         0.26666667]\n",
      " [ 0.3         0.3       ]\n",
      " [ 0.3         0.33333333]\n",
      " [ 0.3         0.36666667]\n",
      " [ 0.3         0.4       ]\n",
      " [ 0.3         0.43333333]\n",
      " [ 0.3         0.46666667]\n",
      " [ 0.3         0.5       ]\n",
      " [ 0.3         0.53333333]\n",
      " [ 0.3         0.56666667]\n",
      " [ 0.3         0.6       ]\n",
      " [ 0.3         0.63333333]\n",
      " [ 0.3         0.66666667]\n",
      " [ 0.3         0.7       ]\n",
      " [ 0.3         0.73333333]\n",
      " [ 0.3         0.76666667]\n",
      " [ 0.3         0.8       ]\n",
      " [ 0.3         0.83333333]\n",
      " [ 0.3         0.86666667]\n",
      " [ 0.3         0.9       ]\n",
      " [ 0.3         0.93333333]\n",
      " [ 0.3         0.96666667]\n",
      " [ 0.3         1.        ]\n",
      " [ 0.33333333  0.        ]\n",
      " [ 0.33333333  0.03333333]\n",
      " [ 0.33333333  0.06666667]\n",
      " [ 0.33333333  0.1       ]\n",
      " [ 0.33333333  0.13333333]\n",
      " [ 0.33333333  0.16666667]\n",
      " [ 0.33333333  0.2       ]\n",
      " [ 0.33333333  0.23333333]\n",
      " [ 0.33333333  0.26666667]\n",
      " [ 0.33333333  0.3       ]\n",
      " [ 0.33333333  0.33333333]\n",
      " [ 0.33333333  0.36666667]\n",
      " [ 0.33333333  0.4       ]\n",
      " [ 0.33333333  0.43333333]\n",
      " [ 0.33333333  0.46666667]\n",
      " [ 0.33333333  0.5       ]\n",
      " [ 0.33333333  0.53333333]\n",
      " [ 0.33333333  0.56666667]\n",
      " [ 0.33333333  0.6       ]\n",
      " [ 0.33333333  0.63333333]\n",
      " [ 0.33333333  0.66666667]\n",
      " [ 0.33333333  0.7       ]\n",
      " [ 0.33333333  0.73333333]\n",
      " [ 0.33333333  0.76666667]\n",
      " [ 0.33333333  0.8       ]\n",
      " [ 0.33333333  0.83333333]\n",
      " [ 0.33333333  0.86666667]\n",
      " [ 0.33333333  0.9       ]\n",
      " [ 0.33333333  0.93333333]\n",
      " [ 0.33333333  0.96666667]\n",
      " [ 0.33333333  1.        ]\n",
      " [ 0.36666667  0.        ]\n",
      " [ 0.36666667  0.03333333]\n",
      " [ 0.36666667  0.06666667]\n",
      " [ 0.36666667  0.1       ]\n",
      " [ 0.36666667  0.13333333]\n",
      " [ 0.36666667  0.16666667]\n",
      " [ 0.36666667  0.2       ]\n",
      " [ 0.36666667  0.23333333]\n",
      " [ 0.36666667  0.26666667]\n",
      " [ 0.36666667  0.3       ]\n",
      " [ 0.36666667  0.33333333]\n",
      " [ 0.36666667  0.36666667]\n",
      " [ 0.36666667  0.4       ]\n",
      " [ 0.36666667  0.43333333]\n",
      " [ 0.36666667  0.46666667]\n",
      " [ 0.36666667  0.5       ]\n",
      " [ 0.36666667  0.53333333]\n",
      " [ 0.36666667  0.56666667]\n",
      " [ 0.36666667  0.6       ]\n",
      " [ 0.36666667  0.63333333]\n",
      " [ 0.36666667  0.66666667]\n",
      " [ 0.36666667  0.7       ]\n",
      " [ 0.36666667  0.73333333]\n",
      " [ 0.36666667  0.76666667]\n",
      " [ 0.36666667  0.8       ]\n",
      " [ 0.36666667  0.83333333]\n",
      " [ 0.36666667  0.86666667]\n",
      " [ 0.36666667  0.9       ]\n",
      " [ 0.36666667  0.93333333]\n",
      " [ 0.36666667  0.96666667]\n",
      " [ 0.36666667  1.        ]\n",
      " [ 0.4         0.        ]\n",
      " [ 0.4         0.03333333]\n",
      " [ 0.4         0.06666667]\n",
      " [ 0.4         0.1       ]\n",
      " [ 0.4         0.13333333]\n",
      " [ 0.4         0.16666667]\n",
      " [ 0.4         0.2       ]\n",
      " [ 0.4         0.23333333]\n",
      " [ 0.4         0.26666667]\n",
      " [ 0.4         0.3       ]\n",
      " [ 0.4         0.33333333]\n",
      " [ 0.4         0.36666667]\n",
      " [ 0.4         0.4       ]\n",
      " [ 0.4         0.43333333]\n",
      " [ 0.4         0.46666667]\n",
      " [ 0.4         0.5       ]\n",
      " [ 0.4         0.53333333]\n",
      " [ 0.4         0.56666667]\n",
      " [ 0.4         0.6       ]\n",
      " [ 0.4         0.63333333]\n",
      " [ 0.4         0.66666667]\n",
      " [ 0.4         0.7       ]\n",
      " [ 0.4         0.73333333]\n",
      " [ 0.4         0.76666667]\n",
      " [ 0.4         0.8       ]\n",
      " [ 0.4         0.83333333]\n",
      " [ 0.4         0.86666667]\n",
      " [ 0.4         0.9       ]]\n"
     ]
    }
   ],
   "source": [
    "X_data = np.loadtxt('./coordinates1.csv', delimiter='$').astype('float64')[:400,:]\n",
    "#X_data /= np.max(X_data)    # Divide by the maximum WHY??\n",
    "\n",
    "Y_data = np.loadtxt('./data_genotypes1.csv', delimiter='$').astype('float64')[:400,:]"
   ]
  },
  {
   "cell_type": "code",
   "execution_count": 19,
   "metadata": {
    "collapsed": false
   },
   "outputs": [
    {
     "name": "stdout",
     "output_type": "stream",
     "text": [
      "Dim. of X-data: 400 x 2\n",
      "Dim. of Y-data: 400 x 100\n"
     ]
    }
   ],
   "source": [
    "assert(len(X_data) == len(Y_data))\n",
    "\n",
    "N = X_data.shape[0]\n",
    "k = X_data.shape[1]\n",
    "print(\"Dim. of X-data: %i x %i\" % (N,k))\n",
    "M1 = Y_data.shape[0]\n",
    "M = Y_data.shape[1]\n",
    "Y_data[Y_data < 0.5] = -1.0\n",
    "print(\"Dim. of Y-data: %i x %i\" % (M1,M))"
   ]
  },
  {
   "cell_type": "code",
   "execution_count": 20,
   "metadata": {
    "collapsed": false
   },
   "outputs": [],
   "source": [
    "with tf.device('/cpu:0'):\n",
    "    X = tf.Variable(dtype=tf.float64, initial_value=X_data, trainable=False)\n",
    "    Y = tf.Variable(dtype=tf.float64, initial_value=Y_data, trainable=False)\n",
    "    F = tf.Variable(dtype=tf.float64, initial_value=np.random.normal(0.0, 0.1, (N, M)).astype('float64'),\n",
    "                    trainable=True)\n",
    "\n",
    "    l = tf.placeholder(shape=[], dtype=tf.float64)\n",
    "    a = tf.placeholder(shape=[], dtype=tf.float64)\n",
    "    \n",
    "    eye=tf.Variable(tf.convert_to_tensor(np.eye(N), dtype=tf.float64))\n",
    "\n",
    "    K = a * tf.exp(-tf.reduce_sum(((X[:, None] - X[None, :]) ** 2) / (2 * l), reduction_indices=[2])) + \\\n",
    "        0.0001 * tf.eye(N, dtype=tf.float64) # Calculate Matrix of Covariances\n",
    "    \n",
    "    #K = a * tf.exp(-tf.reduce_sum(((X[:, None] - X[None, :]) ** 2) / (2 * l), reduction_indices=[2])) + \\\n",
    "       # 0.0001 * eye                \n",
    "\n",
    "    p = tf.nn.sigmoid(F)            # Calculate probabilities(assuming sigmoid link function)\n",
    "    Kinv_F = tf.matrix_solve(K, F)  # Calculate K^(-1)*F\n",
    "    \n",
    "    data_fit = -tf.reduce_sum(tf.log(1 + tf.exp(-Y * F)), reduction_indices=[0]) # Calculate Data Fit: Check  \n",
    "    prior_fit = -0.5 * tf.reduce_sum(F * Kinv_F, reduction_indices=[0])          # Calcualte 1st term of prior probability: Check\n",
    "    \n",
    "    logL = tf.reduce_sum(data_fit + prior_fit) # Modulo terms not depending on f: Check\n",
    "    \n",
    "    g =  (0.5 * (Y + 1) - p) - Kinv_F # Calculate Matrix for Gradients Check\n",
    "    \n",
    "    W = p * (1 - p)        # Calculate first part of Hessia. It is diagonal (but here diagonal in every column)\n",
    "    lhs = -K[:, :, None] * W[None, :, :] - tf.eye(N, dtype=tf.float64)[:, :, None] # Check (HEADACHE)\n",
    "    #lhs = -K[:, :, None] * W[None, :, :] - eye[:, :, None] \n",
    "    rhs = tf.matmul(K, g)\n",
    "    \n",
    "    update = tf.matrix_solve(tf.transpose(lhs, [2, 0, 1]), tf.transpose(rhs, [1, 0])[:, :, None])[:, :, 0]\n",
    "    update = tf.transpose(update)\n",
    "    \n",
    "    opt_op = F.assign(F - update)\n",
    "    \n",
    "    #####\n",
    "    \n",
    "    B = (W[:, None, :] ** 0.5) * K[:, :, None] * (W[None, :, :] ** 0.5) + tf.eye(N, dtype=tf.float64)[:, :, None]  # Check\n",
    "    #B = (W[:, None, :] ** 0.5) * K[:, :, None] * (W[None, :, :] ** 0.5) + eye[:, :, None] \n",
    "    \n",
    "    det = tf.reduce_sum(tf.log(tf.matrix_diag_part(tf.cholesky(tf.transpose(B, [2, 0, 1])))))   # Factor of 2??\n",
    "    \n",
    "    margL = logL - det"
   ]
  },
  {
   "cell_type": "code",
   "execution_count": 21,
   "metadata": {
    "collapsed": false
   },
   "outputs": [],
   "source": [
    "config = tf.ConfigProto()\n",
    "config.gpu_options.per_process_gpu_memory_fraction = 0.01"
   ]
  },
  {
   "cell_type": "code",
   "execution_count": 22,
   "metadata": {
    "collapsed": false,
    "scrolled": true
   },
   "outputs": [
    {
     "name": "stdout",
     "output_type": "stream",
     "text": [
      "WARNING:tensorflow:From <ipython-input-22-579a455912ec>:11 in <module>.: initialize_all_variables (from tensorflow.python.ops.variables) is deprecated and will be removed after 2017-03-02.\n",
      "Instructions for updating:\n",
      "Use `tf.global_variables_initializer` instead.\n",
      "WARNING:tensorflow:From <ipython-input-22-579a455912ec>:11 in <module>.: initialize_all_variables (from tensorflow.python.ops.variables) is deprecated and will be removed after 2017-03-02.\n",
      "Instructions for updating:\n",
      "Use `tf.global_variables_initializer` instead.\n",
      "WARNING:tensorflow:From <ipython-input-22-579a455912ec>:11 in <module>.: initialize_all_variables (from tensorflow.python.ops.variables) is deprecated and will be removed after 2017-03-02.\n",
      "Instructions for updating:\n",
      "Use `tf.global_variables_initializer` instead.\n",
      "WARNING:tensorflow:From <ipython-input-22-579a455912ec>:11 in <module>.: initialize_all_variables (from tensorflow.python.ops.variables) is deprecated and will be removed after 2017-03-02.\n",
      "Instructions for updating:\n",
      "Use `tf.global_variables_initializer` instead.\n",
      "WARNING:tensorflow:From <ipython-input-22-579a455912ec>:11 in <module>.: initialize_all_variables (from tensorflow.python.ops.variables) is deprecated and will be removed after 2017-03-02.\n",
      "Instructions for updating:\n",
      "Use `tf.global_variables_initializer` instead.\n",
      "WARNING:tensorflow:From <ipython-input-22-579a455912ec>:11 in <module>.: initialize_all_variables (from tensorflow.python.ops.variables) is deprecated and will be removed after 2017-03-02.\n",
      "Instructions for updating:\n",
      "Use `tf.global_variables_initializer` instead.\n",
      "WARNING:tensorflow:From <ipython-input-22-579a455912ec>:11 in <module>.: initialize_all_variables (from tensorflow.python.ops.variables) is deprecated and will be removed after 2017-03-02.\n",
      "Instructions for updating:\n",
      "Use `tf.global_variables_initializer` instead.\n",
      "WARNING:tensorflow:From <ipython-input-22-579a455912ec>:11 in <module>.: initialize_all_variables (from tensorflow.python.ops.variables) is deprecated and will be removed after 2017-03-02.\n",
      "Instructions for updating:\n",
      "Use `tf.global_variables_initializer` instead.\n",
      "WARNING:tensorflow:From <ipython-input-22-579a455912ec>:11 in <module>.: initialize_all_variables (from tensorflow.python.ops.variables) is deprecated and will be removed after 2017-03-02.\n",
      "Instructions for updating:\n",
      "Use `tf.global_variables_initializer` instead.\n",
      "WARNING:tensorflow:From <ipython-input-22-579a455912ec>:11 in <module>.: initialize_all_variables (from tensorflow.python.ops.variables) is deprecated and will be removed after 2017-03-02.\n",
      "Instructions for updating:\n",
      "Use `tf.global_variables_initializer` instead.\n",
      "WARNING:tensorflow:From <ipython-input-22-579a455912ec>:11 in <module>.: initialize_all_variables (from tensorflow.python.ops.variables) is deprecated and will be removed after 2017-03-02.\n",
      "Instructions for updating:\n",
      "Use `tf.global_variables_initializer` instead.\n",
      "WARNING:tensorflow:From <ipython-input-22-579a455912ec>:11 in <module>.: initialize_all_variables (from tensorflow.python.ops.variables) is deprecated and will be removed after 2017-03-02.\n",
      "Instructions for updating:\n",
      "Use `tf.global_variables_initializer` instead.\n",
      "WARNING:tensorflow:From <ipython-input-22-579a455912ec>:11 in <module>.: initialize_all_variables (from tensorflow.python.ops.variables) is deprecated and will be removed after 2017-03-02.\n",
      "Instructions for updating:\n",
      "Use `tf.global_variables_initializer` instead.\n",
      "WARNING:tensorflow:From <ipython-input-22-579a455912ec>:11 in <module>.: initialize_all_variables (from tensorflow.python.ops.variables) is deprecated and will be removed after 2017-03-02.\n",
      "Instructions for updating:\n",
      "Use `tf.global_variables_initializer` instead.\n",
      "WARNING:tensorflow:From <ipython-input-22-579a455912ec>:11 in <module>.: initialize_all_variables (from tensorflow.python.ops.variables) is deprecated and will be removed after 2017-03-02.\n",
      "Instructions for updating:\n",
      "Use `tf.global_variables_initializer` instead.\n",
      "WARNING:tensorflow:From <ipython-input-22-579a455912ec>:11 in <module>.: initialize_all_variables (from tensorflow.python.ops.variables) is deprecated and will be removed after 2017-03-02.\n",
      "Instructions for updating:\n",
      "Use `tf.global_variables_initializer` instead.\n",
      "WARNING:tensorflow:From <ipython-input-22-579a455912ec>:11 in <module>.: initialize_all_variables (from tensorflow.python.ops.variables) is deprecated and will be removed after 2017-03-02.\n",
      "Instructions for updating:\n",
      "Use `tf.global_variables_initializer` instead.\n",
      "WARNING:tensorflow:From <ipython-input-22-579a455912ec>:11 in <module>.: initialize_all_variables (from tensorflow.python.ops.variables) is deprecated and will be removed after 2017-03-02.\n",
      "Instructions for updating:\n",
      "Use `tf.global_variables_initializer` instead.\n",
      "WARNING:tensorflow:From <ipython-input-22-579a455912ec>:11 in <module>.: initialize_all_variables (from tensorflow.python.ops.variables) is deprecated and will be removed after 2017-03-02.\n",
      "Instructions for updating:\n",
      "Use `tf.global_variables_initializer` instead.\n",
      "WARNING:tensorflow:From <ipython-input-22-579a455912ec>:11 in <module>.: initialize_all_variables (from tensorflow.python.ops.variables) is deprecated and will be removed after 2017-03-02.\n",
      "Instructions for updating:\n",
      "Use `tf.global_variables_initializer` instead.\n",
      "WARNING:tensorflow:From <ipython-input-22-579a455912ec>:11 in <module>.: initialize_all_variables (from tensorflow.python.ops.variables) is deprecated and will be removed after 2017-03-02.\n",
      "Instructions for updating:\n",
      "Use `tf.global_variables_initializer` instead.\n",
      "WARNING:tensorflow:From <ipython-input-22-579a455912ec>:11 in <module>.: initialize_all_variables (from tensorflow.python.ops.variables) is deprecated and will be removed after 2017-03-02.\n",
      "Instructions for updating:\n",
      "Use `tf.global_variables_initializer` instead.\n",
      "WARNING:tensorflow:From <ipython-input-22-579a455912ec>:11 in <module>.: initialize_all_variables (from tensorflow.python.ops.variables) is deprecated and will be removed after 2017-03-02.\n",
      "Instructions for updating:\n",
      "Use `tf.global_variables_initializer` instead.\n",
      "WARNING:tensorflow:From <ipython-input-22-579a455912ec>:11 in <module>.: initialize_all_variables (from tensorflow.python.ops.variables) is deprecated and will be removed after 2017-03-02.\n",
      "Instructions for updating:\n",
      "Use `tf.global_variables_initializer` instead.\n",
      "WARNING:tensorflow:From <ipython-input-22-579a455912ec>:11 in <module>.: initialize_all_variables (from tensorflow.python.ops.variables) is deprecated and will be removed after 2017-03-02.\n",
      "Instructions for updating:\n",
      "Use `tf.global_variables_initializer` instead.\n",
      "WARNING:tensorflow:From <ipython-input-22-579a455912ec>:11 in <module>.: initialize_all_variables (from tensorflow.python.ops.variables) is deprecated and will be removed after 2017-03-02.\n",
      "Instructions for updating:\n",
      "Use `tf.global_variables_initializer` instead.\n",
      "WARNING:tensorflow:From <ipython-input-22-579a455912ec>:11 in <module>.: initialize_all_variables (from tensorflow.python.ops.variables) is deprecated and will be removed after 2017-03-02.\n",
      "Instructions for updating:\n",
      "Use `tf.global_variables_initializer` instead.\n",
      "WARNING:tensorflow:From <ipython-input-22-579a455912ec>:11 in <module>.: initialize_all_variables (from tensorflow.python.ops.variables) is deprecated and will be removed after 2017-03-02.\n",
      "Instructions for updating:\n",
      "Use `tf.global_variables_initializer` instead.\n",
      "WARNING:tensorflow:From <ipython-input-22-579a455912ec>:11 in <module>.: initialize_all_variables (from tensorflow.python.ops.variables) is deprecated and will be removed after 2017-03-02.\n",
      "Instructions for updating:\n",
      "Use `tf.global_variables_initializer` instead.\n",
      "WARNING:tensorflow:From <ipython-input-22-579a455912ec>:11 in <module>.: initialize_all_variables (from tensorflow.python.ops.variables) is deprecated and will be removed after 2017-03-02.\n",
      "Instructions for updating:\n",
      "Use `tf.global_variables_initializer` instead.\n",
      "WARNING:tensorflow:From <ipython-input-22-579a455912ec>:11 in <module>.: initialize_all_variables (from tensorflow.python.ops.variables) is deprecated and will be removed after 2017-03-02.\n",
      "Instructions for updating:\n",
      "Use `tf.global_variables_initializer` instead.\n",
      "WARNING:tensorflow:From <ipython-input-22-579a455912ec>:11 in <module>.: initialize_all_variables (from tensorflow.python.ops.variables) is deprecated and will be removed after 2017-03-02.\n",
      "Instructions for updating:\n",
      "Use `tf.global_variables_initializer` instead.\n",
      "WARNING:tensorflow:From <ipython-input-22-579a455912ec>:11 in <module>.: initialize_all_variables (from tensorflow.python.ops.variables) is deprecated and will be removed after 2017-03-02.\n",
      "Instructions for updating:\n",
      "Use `tf.global_variables_initializer` instead.\n",
      "WARNING:tensorflow:From <ipython-input-22-579a455912ec>:11 in <module>.: initialize_all_variables (from tensorflow.python.ops.variables) is deprecated and will be removed after 2017-03-02.\n",
      "Instructions for updating:\n",
      "Use `tf.global_variables_initializer` instead.\n",
      "WARNING:tensorflow:From <ipython-input-22-579a455912ec>:11 in <module>.: initialize_all_variables (from tensorflow.python.ops.variables) is deprecated and will be removed after 2017-03-02.\n",
      "Instructions for updating:\n",
      "Use `tf.global_variables_initializer` instead.\n",
      "WARNING:tensorflow:From <ipython-input-22-579a455912ec>:11 in <module>.: initialize_all_variables (from tensorflow.python.ops.variables) is deprecated and will be removed after 2017-03-02.\n",
      "Instructions for updating:\n",
      "Use `tf.global_variables_initializer` instead.\n",
      "WARNING:tensorflow:From <ipython-input-22-579a455912ec>:11 in <module>.: initialize_all_variables (from tensorflow.python.ops.variables) is deprecated and will be removed after 2017-03-02.\n",
      "Instructions for updating:\n",
      "Use `tf.global_variables_initializer` instead.\n",
      "WARNING:tensorflow:From <ipython-input-22-579a455912ec>:11 in <module>.: initialize_all_variables (from tensorflow.python.ops.variables) is deprecated and will be removed after 2017-03-02.\n",
      "Instructions for updating:\n",
      "Use `tf.global_variables_initializer` instead.\n",
      "WARNING:tensorflow:From <ipython-input-22-579a455912ec>:11 in <module>.: initialize_all_variables (from tensorflow.python.ops.variables) is deprecated and will be removed after 2017-03-02.\n",
      "Instructions for updating:\n",
      "Use `tf.global_variables_initializer` instead.\n",
      "WARNING:tensorflow:From <ipython-input-22-579a455912ec>:11 in <module>.: initialize_all_variables (from tensorflow.python.ops.variables) is deprecated and will be removed after 2017-03-02.\n",
      "Instructions for updating:\n",
      "Use `tf.global_variables_initializer` instead.\n",
      "WARNING:tensorflow:From <ipython-input-22-579a455912ec>:11 in <module>.: initialize_all_variables (from tensorflow.python.ops.variables) is deprecated and will be removed after 2017-03-02.\n",
      "Instructions for updating:\n",
      "Use `tf.global_variables_initializer` instead.\n",
      "WARNING:tensorflow:From <ipython-input-22-579a455912ec>:11 in <module>.: initialize_all_variables (from tensorflow.python.ops.variables) is deprecated and will be removed after 2017-03-02.\n",
      "Instructions for updating:\n",
      "Use `tf.global_variables_initializer` instead.\n",
      "WARNING:tensorflow:From <ipython-input-22-579a455912ec>:11 in <module>.: initialize_all_variables (from tensorflow.python.ops.variables) is deprecated and will be removed after 2017-03-02.\n",
      "Instructions for updating:\n",
      "Use `tf.global_variables_initializer` instead.\n",
      "WARNING:tensorflow:From <ipython-input-22-579a455912ec>:11 in <module>.: initialize_all_variables (from tensorflow.python.ops.variables) is deprecated and will be removed after 2017-03-02.\n",
      "Instructions for updating:\n",
      "Use `tf.global_variables_initializer` instead.\n",
      "WARNING:tensorflow:From <ipython-input-22-579a455912ec>:11 in <module>.: initialize_all_variables (from tensorflow.python.ops.variables) is deprecated and will be removed after 2017-03-02.\n",
      "Instructions for updating:\n",
      "Use `tf.global_variables_initializer` instead.\n",
      "WARNING:tensorflow:From <ipython-input-22-579a455912ec>:11 in <module>.: initialize_all_variables (from tensorflow.python.ops.variables) is deprecated and will be removed after 2017-03-02.\n",
      "Instructions for updating:\n",
      "Use `tf.global_variables_initializer` instead.\n",
      "WARNING:tensorflow:From <ipython-input-22-579a455912ec>:11 in <module>.: initialize_all_variables (from tensorflow.python.ops.variables) is deprecated and will be removed after 2017-03-02.\n",
      "Instructions for updating:\n",
      "Use `tf.global_variables_initializer` instead.\n",
      "WARNING:tensorflow:From <ipython-input-22-579a455912ec>:11 in <module>.: initialize_all_variables (from tensorflow.python.ops.variables) is deprecated and will be removed after 2017-03-02.\n",
      "Instructions for updating:\n",
      "Use `tf.global_variables_initializer` instead.\n",
      "WARNING:tensorflow:From <ipython-input-22-579a455912ec>:11 in <module>.: initialize_all_variables (from tensorflow.python.ops.variables) is deprecated and will be removed after 2017-03-02.\n",
      "Instructions for updating:\n",
      "Use `tf.global_variables_initializer` instead.\n",
      "WARNING:tensorflow:From <ipython-input-22-579a455912ec>:11 in <module>.: initialize_all_variables (from tensorflow.python.ops.variables) is deprecated and will be removed after 2017-03-02.\n",
      "Instructions for updating:\n",
      "Use `tf.global_variables_initializer` instead.\n",
      "WARNING:tensorflow:From <ipython-input-22-579a455912ec>:11 in <module>.: initialize_all_variables (from tensorflow.python.ops.variables) is deprecated and will be removed after 2017-03-02.\n",
      "Instructions for updating:\n",
      "Use `tf.global_variables_initializer` instead.\n",
      "WARNING:tensorflow:From <ipython-input-22-579a455912ec>:11 in <module>.: initialize_all_variables (from tensorflow.python.ops.variables) is deprecated and will be removed after 2017-03-02.\n",
      "Instructions for updating:\n",
      "Use `tf.global_variables_initializer` instead.\n",
      "WARNING:tensorflow:From <ipython-input-22-579a455912ec>:11 in <module>.: initialize_all_variables (from tensorflow.python.ops.variables) is deprecated and will be removed after 2017-03-02.\n",
      "Instructions for updating:\n",
      "Use `tf.global_variables_initializer` instead.\n",
      "WARNING:tensorflow:From <ipython-input-22-579a455912ec>:11 in <module>.: initialize_all_variables (from tensorflow.python.ops.variables) is deprecated and will be removed after 2017-03-02.\n",
      "Instructions for updating:\n",
      "Use `tf.global_variables_initializer` instead.\n",
      "WARNING:tensorflow:From <ipython-input-22-579a455912ec>:11 in <module>.: initialize_all_variables (from tensorflow.python.ops.variables) is deprecated and will be removed after 2017-03-02.\n",
      "Instructions for updating:\n",
      "Use `tf.global_variables_initializer` instead.\n",
      "WARNING:tensorflow:From <ipython-input-22-579a455912ec>:11 in <module>.: initialize_all_variables (from tensorflow.python.ops.variables) is deprecated and will be removed after 2017-03-02.\n",
      "Instructions for updating:\n",
      "Use `tf.global_variables_initializer` instead.\n",
      "WARNING:tensorflow:From <ipython-input-22-579a455912ec>:11 in <module>.: initialize_all_variables (from tensorflow.python.ops.variables) is deprecated and will be removed after 2017-03-02.\n",
      "Instructions for updating:\n",
      "Use `tf.global_variables_initializer` instead.\n",
      "WARNING:tensorflow:From <ipython-input-22-579a455912ec>:11 in <module>.: initialize_all_variables (from tensorflow.python.ops.variables) is deprecated and will be removed after 2017-03-02.\n",
      "Instructions for updating:\n",
      "Use `tf.global_variables_initializer` instead.\n",
      "WARNING:tensorflow:From <ipython-input-22-579a455912ec>:11 in <module>.: initialize_all_variables (from tensorflow.python.ops.variables) is deprecated and will be removed after 2017-03-02.\n",
      "Instructions for updating:\n",
      "Use `tf.global_variables_initializer` instead.\n",
      "WARNING:tensorflow:From <ipython-input-22-579a455912ec>:11 in <module>.: initialize_all_variables (from tensorflow.python.ops.variables) is deprecated and will be removed after 2017-03-02.\n",
      "Instructions for updating:\n",
      "Use `tf.global_variables_initializer` instead.\n",
      "WARNING:tensorflow:From <ipython-input-22-579a455912ec>:11 in <module>.: initialize_all_variables (from tensorflow.python.ops.variables) is deprecated and will be removed after 2017-03-02.\n",
      "Instructions for updating:\n",
      "Use `tf.global_variables_initializer` instead.\n",
      "WARNING:tensorflow:From <ipython-input-22-579a455912ec>:11 in <module>.: initialize_all_variables (from tensorflow.python.ops.variables) is deprecated and will be removed after 2017-03-02.\n",
      "Instructions for updating:\n",
      "Use `tf.global_variables_initializer` instead.\n",
      "WARNING:tensorflow:From <ipython-input-22-579a455912ec>:11 in <module>.: initialize_all_variables (from tensorflow.python.ops.variables) is deprecated and will be removed after 2017-03-02.\n",
      "Instructions for updating:\n",
      "Use `tf.global_variables_initializer` instead.\n",
      "WARNING:tensorflow:From <ipython-input-22-579a455912ec>:11 in <module>.: initialize_all_variables (from tensorflow.python.ops.variables) is deprecated and will be removed after 2017-03-02.\n",
      "Instructions for updating:\n",
      "Use `tf.global_variables_initializer` instead.\n",
      "WARNING:tensorflow:From <ipython-input-22-579a455912ec>:11 in <module>.: initialize_all_variables (from tensorflow.python.ops.variables) is deprecated and will be removed after 2017-03-02.\n",
      "Instructions for updating:\n",
      "Use `tf.global_variables_initializer` instead.\n",
      "WARNING:tensorflow:From <ipython-input-22-579a455912ec>:11 in <module>.: initialize_all_variables (from tensorflow.python.ops.variables) is deprecated and will be removed after 2017-03-02.\n",
      "Instructions for updating:\n",
      "Use `tf.global_variables_initializer` instead.\n",
      "WARNING:tensorflow:From <ipython-input-22-579a455912ec>:11 in <module>.: initialize_all_variables (from tensorflow.python.ops.variables) is deprecated and will be removed after 2017-03-02.\n",
      "Instructions for updating:\n",
      "Use `tf.global_variables_initializer` instead.\n",
      "WARNING:tensorflow:From <ipython-input-22-579a455912ec>:11 in <module>.: initialize_all_variables (from tensorflow.python.ops.variables) is deprecated and will be removed after 2017-03-02.\n",
      "Instructions for updating:\n",
      "Use `tf.global_variables_initializer` instead.\n",
      "WARNING:tensorflow:From <ipython-input-22-579a455912ec>:11 in <module>.: initialize_all_variables (from tensorflow.python.ops.variables) is deprecated and will be removed after 2017-03-02.\n",
      "Instructions for updating:\n",
      "Use `tf.global_variables_initializer` instead.\n",
      "WARNING:tensorflow:From <ipython-input-22-579a455912ec>:11 in <module>.: initialize_all_variables (from tensorflow.python.ops.variables) is deprecated and will be removed after 2017-03-02.\n",
      "Instructions for updating:\n",
      "Use `tf.global_variables_initializer` instead.\n",
      "WARNING:tensorflow:From <ipython-input-22-579a455912ec>:11 in <module>.: initialize_all_variables (from tensorflow.python.ops.variables) is deprecated and will be removed after 2017-03-02.\n",
      "Instructions for updating:\n",
      "Use `tf.global_variables_initializer` instead.\n",
      "WARNING:tensorflow:From <ipython-input-22-579a455912ec>:11 in <module>.: initialize_all_variables (from tensorflow.python.ops.variables) is deprecated and will be removed after 2017-03-02.\n",
      "Instructions for updating:\n",
      "Use `tf.global_variables_initializer` instead.\n",
      "WARNING:tensorflow:From <ipython-input-22-579a455912ec>:11 in <module>.: initialize_all_variables (from tensorflow.python.ops.variables) is deprecated and will be removed after 2017-03-02.\n",
      "Instructions for updating:\n",
      "Use `tf.global_variables_initializer` instead.\n",
      "WARNING:tensorflow:From <ipython-input-22-579a455912ec>:11 in <module>.: initialize_all_variables (from tensorflow.python.ops.variables) is deprecated and will be removed after 2017-03-02.\n",
      "Instructions for updating:\n",
      "Use `tf.global_variables_initializer` instead.\n",
      "WARNING:tensorflow:From <ipython-input-22-579a455912ec>:11 in <module>.: initialize_all_variables (from tensorflow.python.ops.variables) is deprecated and will be removed after 2017-03-02.\n",
      "Instructions for updating:\n",
      "Use `tf.global_variables_initializer` instead.\n",
      "WARNING:tensorflow:From <ipython-input-22-579a455912ec>:11 in <module>.: initialize_all_variables (from tensorflow.python.ops.variables) is deprecated and will be removed after 2017-03-02.\n",
      "Instructions for updating:\n",
      "Use `tf.global_variables_initializer` instead.\n",
      "WARNING:tensorflow:From <ipython-input-22-579a455912ec>:11 in <module>.: initialize_all_variables (from tensorflow.python.ops.variables) is deprecated and will be removed after 2017-03-02.\n",
      "Instructions for updating:\n",
      "Use `tf.global_variables_initializer` instead.\n",
      "WARNING:tensorflow:From <ipython-input-22-579a455912ec>:11 in <module>.: initialize_all_variables (from tensorflow.python.ops.variables) is deprecated and will be removed after 2017-03-02.\n",
      "Instructions for updating:\n",
      "Use `tf.global_variables_initializer` instead.\n",
      "WARNING:tensorflow:From <ipython-input-22-579a455912ec>:11 in <module>.: initialize_all_variables (from tensorflow.python.ops.variables) is deprecated and will be removed after 2017-03-02.\n",
      "Instructions for updating:\n",
      "Use `tf.global_variables_initializer` instead.\n",
      "WARNING:tensorflow:From <ipython-input-22-579a455912ec>:11 in <module>.: initialize_all_variables (from tensorflow.python.ops.variables) is deprecated and will be removed after 2017-03-02.\n",
      "Instructions for updating:\n",
      "Use `tf.global_variables_initializer` instead.\n",
      "WARNING:tensorflow:From <ipython-input-22-579a455912ec>:11 in <module>.: initialize_all_variables (from tensorflow.python.ops.variables) is deprecated and will be removed after 2017-03-02.\n",
      "Instructions for updating:\n",
      "Use `tf.global_variables_initializer` instead.\n",
      "WARNING:tensorflow:From <ipython-input-22-579a455912ec>:11 in <module>.: initialize_all_variables (from tensorflow.python.ops.variables) is deprecated and will be removed after 2017-03-02.\n",
      "Instructions for updating:\n",
      "Use `tf.global_variables_initializer` instead.\n",
      "WARNING:tensorflow:From <ipython-input-22-579a455912ec>:11 in <module>.: initialize_all_variables (from tensorflow.python.ops.variables) is deprecated and will be removed after 2017-03-02.\n",
      "Instructions for updating:\n",
      "Use `tf.global_variables_initializer` instead.\n",
      "WARNING:tensorflow:From <ipython-input-22-579a455912ec>:11 in <module>.: initialize_all_variables (from tensorflow.python.ops.variables) is deprecated and will be removed after 2017-03-02.\n",
      "Instructions for updating:\n",
      "Use `tf.global_variables_initializer` instead.\n",
      "WARNING:tensorflow:From <ipython-input-22-579a455912ec>:11 in <module>.: initialize_all_variables (from tensorflow.python.ops.variables) is deprecated and will be removed after 2017-03-02.\n",
      "Instructions for updating:\n",
      "Use `tf.global_variables_initializer` instead.\n",
      "WARNING:tensorflow:From <ipython-input-22-579a455912ec>:11 in <module>.: initialize_all_variables (from tensorflow.python.ops.variables) is deprecated and will be removed after 2017-03-02.\n",
      "Instructions for updating:\n",
      "Use `tf.global_variables_initializer` instead.\n",
      "WARNING:tensorflow:From <ipython-input-22-579a455912ec>:11 in <module>.: initialize_all_variables (from tensorflow.python.ops.variables) is deprecated and will be removed after 2017-03-02.\n",
      "Instructions for updating:\n",
      "Use `tf.global_variables_initializer` instead.\n",
      "WARNING:tensorflow:From <ipython-input-22-579a455912ec>:11 in <module>.: initialize_all_variables (from tensorflow.python.ops.variables) is deprecated and will be removed after 2017-03-02.\n",
      "Instructions for updating:\n",
      "Use `tf.global_variables_initializer` instead.\n",
      "WARNING:tensorflow:From <ipython-input-22-579a455912ec>:11 in <module>.: initialize_all_variables (from tensorflow.python.ops.variables) is deprecated and will be removed after 2017-03-02.\n",
      "Instructions for updating:\n",
      "Use `tf.global_variables_initializer` instead.\n",
      "WARNING:tensorflow:From <ipython-input-22-579a455912ec>:11 in <module>.: initialize_all_variables (from tensorflow.python.ops.variables) is deprecated and will be removed after 2017-03-02.\n",
      "Instructions for updating:\n",
      "Use `tf.global_variables_initializer` instead.\n",
      "WARNING:tensorflow:From <ipython-input-22-579a455912ec>:11 in <module>.: initialize_all_variables (from tensorflow.python.ops.variables) is deprecated and will be removed after 2017-03-02.\n",
      "Instructions for updating:\n",
      "Use `tf.global_variables_initializer` instead.\n",
      "WARNING:tensorflow:From <ipython-input-22-579a455912ec>:11 in <module>.: initialize_all_variables (from tensorflow.python.ops.variables) is deprecated and will be removed after 2017-03-02.\n",
      "Instructions for updating:\n",
      "Use `tf.global_variables_initializer` instead.\n",
      "WARNING:tensorflow:From <ipython-input-22-579a455912ec>:11 in <module>.: initialize_all_variables (from tensorflow.python.ops.variables) is deprecated and will be removed after 2017-03-02.\n",
      "Instructions for updating:\n",
      "Use `tf.global_variables_initializer` instead.\n",
      "WARNING:tensorflow:From <ipython-input-22-579a455912ec>:11 in <module>.: initialize_all_variables (from tensorflow.python.ops.variables) is deprecated and will be removed after 2017-03-02.\n",
      "Instructions for updating:\n",
      "Use `tf.global_variables_initializer` instead.\n",
      "WARNING:tensorflow:From <ipython-input-22-579a455912ec>:11 in <module>.: initialize_all_variables (from tensorflow.python.ops.variables) is deprecated and will be removed after 2017-03-02.\n",
      "Instructions for updating:\n",
      "Use `tf.global_variables_initializer` instead.\n",
      "WARNING:tensorflow:From <ipython-input-22-579a455912ec>:11 in <module>.: initialize_all_variables (from tensorflow.python.ops.variables) is deprecated and will be removed after 2017-03-02.\n",
      "Instructions for updating:\n",
      "Use `tf.global_variables_initializer` instead.\n",
      "WARNING:tensorflow:From <ipython-input-22-579a455912ec>:11 in <module>.: initialize_all_variables (from tensorflow.python.ops.variables) is deprecated and will be removed after 2017-03-02.\n",
      "Instructions for updating:\n",
      "Use `tf.global_variables_initializer` instead.\n",
      "WARNING:tensorflow:From <ipython-input-22-579a455912ec>:11 in <module>.: initialize_all_variables (from tensorflow.python.ops.variables) is deprecated and will be removed after 2017-03-02.\n",
      "Instructions for updating:\n",
      "Use `tf.global_variables_initializer` instead.\n",
      "WARNING:tensorflow:From <ipython-input-22-579a455912ec>:11 in <module>.: initialize_all_variables (from tensorflow.python.ops.variables) is deprecated and will be removed after 2017-03-02.\n",
      "Instructions for updating:\n",
      "Use `tf.global_variables_initializer` instead.\n",
      "WARNING:tensorflow:From <ipython-input-22-579a455912ec>:11 in <module>.: initialize_all_variables (from tensorflow.python.ops.variables) is deprecated and will be removed after 2017-03-02.\n",
      "Instructions for updating:\n",
      "Use `tf.global_variables_initializer` instead.\n"
     ]
    }
   ],
   "source": [
    "a_list = 0.01 * 2 ** np.arange(10)\n",
    "l_list = 0.001 * 2 ** np.arange(10)\n",
    "\n",
    "res = []\n",
    "\n",
    "with tf.Session(config=config) as sess:\n",
    "    i=0\n",
    "    for aa in a_list:\n",
    "        for ll in l_list:\n",
    "            print(\"Doing run: %i\" % i)\n",
    "            i+=1\n",
    "    \n",
    "            sess.run(tf.global_variables_initializer())\n",
    "\n",
    "            prev = None\n",
    "            for i in range(20):\n",
    "                r = sess.run([opt_op, update, logL, margL], {a: aa, l:ll})\n",
    "                if prev and np.abs(prev - r[-1]) < 0.01:\n",
    "                    break\n",
    "                prev = r[-1]\n",
    "            \n",
    "            res.append(r[-1])"
   ]
  },
  {
   "cell_type": "code",
   "execution_count": 83,
   "metadata": {
    "collapsed": false
   },
   "outputs": [
    {
     "name": "stdout",
     "output_type": "stream",
     "text": [
      "[ 0.01  0.02  0.04  0.08  0.16  0.32  0.64  1.28  2.56  5.12]\n"
     ]
    },
    {
     "data": {
      "text/plain": [
       "<matplotlib.colorbar.Colorbar instance at 0x4cf5ab48>"
      ]
     },
     "execution_count": 83,
     "metadata": {},
     "output_type": "execute_result"
    },
    {
     "data": {
      "image/png": "[encoded data removed]",
      "text/plain": [
       "<matplotlib.figure.Figure at 0x6c2f390>"
      ]
     },
     "metadata": {},
     "output_type": "display_data"
    }
   ],
   "source": [
    "surface = np.array(res).reshape((10, 10))\n",
    "pylab.pcolormesh(a_list, l_list, surface)\n",
    "pylab.xscale('log')\n",
    "pylab.yscale('log')\n",
    "pylab.xlabel('a')\n",
    "pylab.ylabel('l')\n",
    "pylab.colorbar()"
   ]
  },
  {
   "cell_type": "code",
   "execution_count": 24,
   "metadata": {
    "collapsed": false
   },
   "outputs": [
    {
     "data": {
      "text/plain": [
       "-0.99766022474946681"
      ]
     },
     "execution_count": 24,
     "metadata": {},
     "output_type": "execute_result"
    }
   ],
   "source": [
    "np.max(surface) / (N * np.log(2) * M)"
   ]
  },
  {
   "cell_type": "code",
   "execution_count": 75,
   "metadata": {
    "collapsed": false
   },
   "outputs": [
    {
     "name": "stdout",
     "output_type": "stream",
     "text": [
      "[[-0.24373032 -0.05454187 -0.22432996 ..., -0.17360044 -0.0401117\n",
      "   0.01674345]\n",
      " [-0.25002285 -0.05693831 -0.28218724 ..., -0.17970323 -0.05569959\n",
      "   0.01042884]\n",
      " [-0.22653788 -0.03112334 -0.31755001 ..., -0.17540098 -0.06712458\n",
      "   0.00251177]\n",
      " ..., \n",
      " [-0.21898543  0.00589088  0.08102625 ...,  0.19990443  0.19060701\n",
      "   0.18047773]\n",
      " [-0.16725409  0.04321932  0.11513745 ...,  0.19796825  0.13855245\n",
      "   0.11831898]\n",
      " [-0.08703584  0.07263934  0.13431715 ...,  0.15529049  0.09260848\n",
      "   0.06890237]]\n"
     ]
    }
   ],
   "source": [
    "with tf.Session(config=config) as sess:\n",
    "    #sess.run(tf.initialize_all_variables())\n",
    "    sess.run(tf.global_variables_initializer())# Update by Harald\n",
    "    \n",
    "    for i in range(3):\n",
    "        sess.run(opt_op, {a: 0.1, l:0.01})\n",
    "    r = sess.run(F, {a: 0.1, l: 0.01})\n",
    "    print(r)"
   ]
  },
  {
   "cell_type": "code",
   "execution_count": 103,
   "metadata": {
    "collapsed": false
   },
   "outputs": [
    {
     "name": "stdout",
     "output_type": "stream",
     "text": [
      "20\n"
     ]
    }
   ],
   "source": [
    "x, y, z = X_data[:, 0], X_data[:, 1], r[:, 1]\n",
    "x=np.linspace(0, 1, 20)\n",
    "print(len(x))"
   ]
  },
  {
   "cell_type": "code",
   "execution_count": 104,
   "metadata": {
    "collapsed": false
   },
   "outputs": [
    {
     "data": {
      "text/plain": [
       "<matplotlib.colorbar.Colorbar instance at 0x80326c8>"
      ]
     },
     "execution_count": 104,
     "metadata": {},
     "output_type": "execute_result"
    },
    {
     "data": {
      "image/png": "[encoded data removed]",
      "text/plain": [
       "<matplotlib.figure.Figure at 0x9359650>"
      ]
     },
     "metadata": {},
     "output_type": "display_data"
    }
   ],
   "source": [
    "pylab.pcolormesh(x, x, z.reshape(20, 20))\n",
    "pylab.colorbar()"
   ]
  },
  {
   "cell_type": "code",
   "execution_count": 39,
   "metadata": {
    "collapsed": false
   },
   "outputs": [
    {
     "data": {
      "text/plain": [
       "(400,)"
      ]
     },
     "execution_count": 39,
     "metadata": {},
     "output_type": "execute_result"
    }
   ],
   "source": [
    "x.shape"
   ]
  },
  {
   "cell_type": "code",
   "execution_count": 40,
   "metadata": {
    "collapsed": false
   },
   "outputs": [
    {
     "data": {
      "text/plain": [
       "(400,)"
      ]
     },
     "execution_count": 40,
     "metadata": {},
     "output_type": "execute_result"
    }
   ],
   "source": [
    "y.shape"
   ]
  },
  {
   "cell_type": "code",
   "execution_count": 41,
   "metadata": {
    "collapsed": false
   },
   "outputs": [
    {
     "data": {
      "text/plain": [
       "(400,)"
      ]
     },
     "execution_count": 41,
     "metadata": {},
     "output_type": "execute_result"
    }
   ],
   "source": [
    "z.shape"
   ]
  },
  {
   "cell_type": "code",
   "execution_count": 55,
   "metadata": {
    "collapsed": false
   },
   "outputs": [
    {
     "data": {
      "text/plain": [
       "31.0"
      ]
     },
     "execution_count": 55,
     "metadata": {},
     "output_type": "execute_result"
    }
   ],
   "source": [
    "961 ** 0.5"
   ]
  },
  {
   "cell_type": "code",
   "execution_count": 62,
   "metadata": {
    "collapsed": false
   },
   "outputs": [],
   "source": [
    "with tf.Session() as sess:\n",
    "    r = sess.run(tf.diag(tf.ones(5)))"
   ]
  },
  {
   "cell_type": "code",
   "execution_count": 63,
   "metadata": {
    "collapsed": false
   },
   "outputs": [
    {
     "data": {
      "text/plain": [
       "array([[ 1.,  0.,  0.,  0.,  0.],\n",
       "       [ 0.,  1.,  0.,  0.,  0.],\n",
       "       [ 0.,  0.,  1.,  0.,  0.],\n",
       "       [ 0.,  0.,  0.,  1.,  0.],\n",
       "       [ 0.,  0.,  0.,  0.,  1.]], dtype=float32)"
      ]
     },
     "execution_count": 63,
     "metadata": {},
     "output_type": "execute_result"
    }
   ],
   "source": [
    "r"
   ]
  },
  {
   "cell_type": "code",
   "execution_count": 64,
   "metadata": {
    "collapsed": false
   },
   "outputs": [
    {
     "data": {
      "text/plain": [
       "'0.12.0-rc0'"
      ]
     },
     "execution_count": 64,
     "metadata": {},
     "output_type": "execute_result"
    }
   ],
   "source": [
    "tf.__version__"
   ]
  },
  {
   "cell_type": "code",
   "execution_count": null,
   "metadata": {
    "collapsed": true
   },
   "outputs": [],
   "source": []
  }
 ],
 "metadata": {
  "kernelspec": {
   "display_name": "Python 2",
   "language": "python",
   "name": "python2"
  },
  "language_info": {
   "codemirror_mode": {
    "name": "ipython",
    "version": 2
   },
   "file_extension": ".py",
   "mimetype": "text/x-python",
   "name": "python",
   "nbconvert_exporter": "python",
   "pygments_lexer": "ipython2",
   "version": "2.7.3"
  }
 },
 "nbformat": 4,
 "nbformat_minor": 1
}
