{
 "cells": [
  {
   "cell_type": "markdown",
   "metadata": {},
   "source": [
    "## This is a code that implements Nick's Fourier Transform to get the Kernel Function for the Barrier:"
   ]
  },
  {
   "cell_type": "code",
   "execution_count": 3,
   "metadata": {
    "collapsed": true
   },
   "outputs": [],
   "source": [
    "from scipy.special import kv as kv # Import Bessel Function\n",
    "import matplotlib.pyplot as plt\n",
    "import numpy as np"
   ]
  },
  {
   "cell_type": "code",
   "execution_count": null,
   "metadata": {
    "collapsed": true
   },
   "outputs": [],
   "source": [
    "def integrand(y,x1,x2,b):\n",
    "    '''y is the distance between y1 and y2; x1 and x2 are x coordinates. b is strength of the barrier.'''\n",
    "   # If[(x1 < 0 && x2 < 0) \\[Or] (x1 >= 0 && x2 >= 0),\n",
    "   #BesselK[0, Sqrt[(x1 - x2)^2 + y^2]] + \n",
    "    #NIntegrate[(B Cos[y Y])/(2 + B Sqrt[1 + Y^2])\n",
    "     #  Exp[-Abs[x1 + x2] Sqrt[1 + Y^2]], {Y, 0, \\[Infinity]}, opts],\n",
    "   #NIntegrate[(2 Cos[y Y])/(Sqrt[1 + Y^2] (2 + B Sqrt[1 + Y^2]))\n",
    "    #  Exp[-Abs[x1 - x2] Sqrt[1 + Y^2]], {Y, 0, \\[Infinity]}, opts]]];"
   ]
  },
  {
   "cell_type": "code",
   "execution_count": null,
   "metadata": {
    "collapsed": true
   },
   "outputs": [],
   "source": [
    "def bessel0(x1,x2,y):\n",
    "    '''Give the Bessel Part of the decay:'''\n",
    "    r = np.sqrt((x1-x2)**2 + y**2) # Calculates pairwise Distance\n",
    "    return kv(0, r)                # Gives the Bessel Decay\n",
    "\n",
    "def full_function(y, x1, x2, b):\n",
    "    '''Gives the Fourier Transform of the Integrand.\n",
    "    y is the distance between y1 and y2; x1 and x2 are x coordinates. \n",
    "    b is strength of the barrier.'''\n",
    "    if (x1 < 0 and x2 < 0) or (x1 >0 and x2 > 0):  # For same side of Barrier\n",
    "        bessel(x1,x2,y)\n",
    "        print(\"ToDo\")\n",
    "    else: # Different side of Barrier\n",
    "        \n",
    "        \n",
    "    \n"
   ]
  },
  {
   "cell_type": "code",
   "execution_count": 23,
   "metadata": {
    "collapsed": false
   },
   "outputs": [
    {
     "data": {
      "image/png": "[encoded data removed]",
      "text/plain": [
       "<matplotlib.figure.Figure at 0x7f6dbe740450>"
      ]
     },
     "metadata": {},
     "output_type": "display_data"
    }
   ],
   "source": [
    "x=np.logspace(-4,1,10000)\n",
    "y=kv(0,x)\n",
    "plt.figure()\n",
    "plt.plot(x,y)\n",
    "plt.plot(x,4*np.exp(-10*x))\n",
    "plt.xscale(\"log\")\n",
    "#plt.yscale(\"log\")\n",
    "plt.show()"
   ]
  },
  {
   "cell_type": "code",
   "execution_count": 26,
   "metadata": {
    "collapsed": false
   },
   "outputs": [
    {
     "data": {
      "text/plain": [
       "8.0"
      ]
     },
     "execution_count": 26,
     "metadata": {},
     "output_type": "execute_result"
    }
   ],
   "source": [
    "np.sqrt(64)"
   ]
  },
  {
   "cell_type": "code",
   "execution_count": null,
   "metadata": {
    "collapsed": true
   },
   "outputs": [],
   "source": []
  }
 ],
 "metadata": {
  "kernelspec": {
   "display_name": "Python 2",
   "language": "python",
   "name": "python2"
  },
  "language_info": {
   "codemirror_mode": {
    "name": "ipython",
    "version": 2
   },
   "file_extension": ".py",
   "mimetype": "text/x-python",
   "name": "python",
   "nbconvert_exporter": "python",
   "pygments_lexer": "ipython2",
   "version": "2.7.12"
  }
 },
 "nbformat": 4,
 "nbformat_minor": 2
}
